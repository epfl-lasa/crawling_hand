{
 "cells": [
  {
   "cell_type": "code",
   "execution_count": 1,
   "id": "initial_id",
   "metadata": {
    "collapsed": true,
    "ExecuteTime": {
     "end_time": "2024-07-13T20:01:18.709180876Z",
     "start_time": "2024-07-13T20:01:17.466003658Z"
    }
   },
   "outputs": [],
   "source": [
    "import time\n",
    "\n",
    "import numpy as np\n",
    "\n",
    "import tools.rotations as rot\n",
    "\n",
    "from controller import locomotion\n",
    "import mujoco\n",
    "\n",
    "import copy\n",
    "%load_ext autoreload\n",
    "%autoreload 2"
   ]
  },
  {
   "cell_type": "code",
   "execution_count": 2,
   "outputs": [
    {
     "name": "stdout",
     "output_type": "stream",
     "text": [
      "Kinematic model has been loaded from ../kinematics/q2pose_6.txt\n",
      "Need to generate the standup position\n",
      "locomotion freq 1.0\n"
     ]
    }
   ],
   "source": [
    "xml_path = 'descriptions/six_finger_hand_llll.xml'\n",
    "q = np.array([0,0,  0.13,  9.99999738e-01,\n",
    "       -4.46340938e-04,  5.67392530e-04, -4.89152197e-05, \n",
    "               0,   7.91144283e-01,  0.3,  0.3,\n",
    "               0,   7.91144283e-01,  0.3,  0.3,\n",
    "               0,   7.91144283e-01,  0.3,  0.3,\n",
    "               0,   7.91144283e-01,  0.3,  0.3,\n",
    "               0,   7.91144283e-01,  0.3,  0.3,\n",
    "               0,   7.91144283e-01,  0.3,  0.3,])\n",
    "obj_names = ['sphere_1','cylinder_1', 'box_1', 'box_2']\n",
    "obj_names = ['box_1']\n",
    "r = locomotion(xml_path, q0=q, finger_num=6, path_suffix='../',obj_names=obj_names)\n",
    "\n",
    "print('locomotion freq', r.f)\n",
    "# take a rest to let the acceleration to zero\n",
    "t0 = time.time()\n",
    "q0 = copy.deepcopy(q[7:])\n",
    "while 1:\n",
    "    # r.step()\n",
    "    # r.send_torque(r.C)\n",
    "    r.joint_computed_torque_control(q0)\n",
    "    if time.time() - t0 > 4:\n",
    "        break\n",
    "xh_local_init = copy.deepcopy(r.xh_local) "
   ],
   "metadata": {
    "collapsed": false,
    "ExecuteTime": {
     "end_time": "2024-07-13T20:01:25.343457604Z",
     "start_time": "2024-07-13T20:01:18.713375725Z"
    }
   },
   "id": "5d2df1278b623993"
  },
  {
   "cell_type": "code",
   "execution_count": 3,
   "outputs": [],
   "source": [
    "def generate_attractors(x_obj):\n",
    "    \"\"\"\n",
    "    \n",
    "    :param x_obj: (7,), obj pose\n",
    "    :return: two attractors for approaching to the object\n",
    "    \"\"\"\n",
    "    offset = np.array([0.19, 0])  # offset along xy axis\n",
    "    return x_obj[:2] + offset"
   ],
   "metadata": {
    "collapsed": false,
    "ExecuteTime": {
     "end_time": "2024-07-13T20:01:25.363275390Z",
     "start_time": "2024-07-13T20:01:25.346200903Z"
    }
   },
   "id": "b2ee7619cf72e57c"
  },
  {
   "cell_type": "code",
   "execution_count": 4,
   "outputs": [
    {
     "name": "stdout",
     "output_type": "stream",
     "text": [
      "[-0.75 -0.25]\n"
     ]
    }
   ],
   "source": [
    "obj_1st = 0\n",
    "offset = np.array([0.2, 0])  # offset along xy axis\n",
    " \n",
    "attractor_1 = r.x_obj[obj_1st][:2] + offset\n",
    "attractor_1[:2] = np.array([-0.75, -0.25])\n",
    "print(attractor_1)\n"
   ],
   "metadata": {
    "collapsed": false,
    "ExecuteTime": {
     "end_time": "2024-07-13T20:01:25.381664905Z",
     "start_time": "2024-07-13T20:01:25.363031981Z"
    }
   },
   "id": "1ea6f745fa816f87"
  },
  {
   "cell_type": "code",
   "execution_count": 4,
   "outputs": [],
   "source": [],
   "metadata": {
    "collapsed": false,
    "ExecuteTime": {
     "end_time": "2024-07-13T20:01:25.387691504Z",
     "start_time": "2024-07-13T20:01:25.383369578Z"
    }
   },
   "id": "d77c70d649efa0c0"
  },
  {
   "cell_type": "code",
   "execution_count": 5,
   "outputs": [],
   "source": [
    "radius = 0.2\n",
    "def DS_multiple_obs(x, dx=None):\n",
    "    \"\"\"\n",
    "    \n",
    "    :param x: (2,)\n",
    "    :return: \n",
    "    \"\"\"\n",
    "    alpha = 10\n",
    "    rho = 1.\n",
    "    dim = len(x)\n",
    "    phi = [alpha * (np.linalg.norm(x - x_obj[:2]) - radius) + 1  for x_obj in r.x_obj[2:]]\n",
    "    \n",
    "    w = [(phi[1] - 1)/ (phi[0] - 1 + phi[1] - 1), (phi[0] - 1)/ (phi[0] - 1 + phi[1] - 1)]\n",
    "    vector = [alpha * (x - x_obj[:2]) / np.linalg.norm(x - x_obj[:2]) for x_obj in r.x_obj[2:]]\n",
    "    \n",
    "    M_all = np.eye(dim)\n",
    "    for i in range(2):\n",
    "        E = np.zeros((dim, dim))\n",
    "        D = np.zeros((dim, dim))\n",
    "        a0 = vector[i][np.nonzero(vector[i])[0][0]]  # the first nonzero component in vector (gradient)\n",
    "        \n",
    "        E[:, 0] = vector[i]\n",
    "    \n",
    "        tmp = np.power(np.abs(phi[i]), 1 / rho)\n",
    "        # solve the tail-effect\n",
    "        if dx is None:\n",
    "            lambda_0 = 1 - w[i] / tmp\n",
    "        else:\n",
    "            if np.dot(vector, dx) >= 0:\n",
    "                lambda_0 = 1\n",
    "            else:\n",
    "                lambda_0 = 1 - w[i] / tmp\n",
    "        lambda_1 = 1 + w[i] / tmp\n",
    "    \n",
    "        D[0, 0] = lambda_0\n",
    "        for j in range(1, dim):\n",
    "            if dim in [2,4]:\n",
    "                E[0, j] = - vector[i][j]\n",
    "                E[j, j] = a0\n",
    "            else:\n",
    "                E[0, j] = - vector[i][0, j]\n",
    "                E[j, j] = a0[j]\n",
    "    \n",
    "            D[j, j] = lambda_1\n",
    "    \n",
    "        M = E @ D @ np.linalg.inv(E)\n",
    "        M_all = M_all @ M\n",
    "    if phi[0] < 1 or phi[1]<1:\n",
    "        M_all = np.zeros([dim, dim])\n",
    "    return M_all\n",
    "\n"
   ],
   "metadata": {
    "collapsed": false,
    "ExecuteTime": {
     "end_time": "2024-07-13T20:01:25.409252024Z",
     "start_time": "2024-07-13T20:01:25.390119546Z"
    }
   },
   "id": "86cc434d636853e1"
  },
  {
   "cell_type": "code",
   "execution_count": 6,
   "outputs": [],
   "source": [
    "from DS import linear_system\n",
    "\n",
    "ds_1 = linear_system(attractor_1)\n"
   ],
   "metadata": {
    "collapsed": false,
    "ExecuteTime": {
     "end_time": "2024-07-13T20:01:25.450457005Z",
     "start_time": "2024-07-13T20:01:25.408529469Z"
    }
   },
   "id": "809c840cc995aaa8"
  },
  {
   "cell_type": "code",
   "execution_count": 6,
   "outputs": [],
   "source": [],
   "metadata": {
    "collapsed": false,
    "ExecuteTime": {
     "end_time": "2024-07-13T20:01:25.450671596Z",
     "start_time": "2024-07-13T20:01:25.450286086Z"
    }
   },
   "id": "58a88856f2453bbb"
  },
  {
   "cell_type": "code",
   "execution_count": 7,
   "outputs": [],
   "source": [
    "nums = 500\n",
    "x_ = np.linspace(-1.5, 0.5, nums)\n",
    "y_ = np.linspace(-0.5, 1, nums)\n",
    "\n",
    "x, y= np.meshgrid(x_, y_, )\n",
    "\n",
    "x1 = x.flatten().reshape(-1, 1)\n",
    "y1 = y.flatten().reshape(-1, 1)\n",
    "xy = np.concatenate([x1, y1], axis=1)\n"
   ],
   "metadata": {
    "collapsed": false,
    "ExecuteTime": {
     "end_time": "2024-07-13T20:01:25.457054666Z",
     "start_time": "2024-07-13T20:01:25.450391021Z"
    }
   },
   "id": "540d71019ec5c596"
  },
  {
   "cell_type": "code",
   "execution_count": 8,
   "outputs": [
    {
     "name": "stderr",
     "output_type": "stream",
     "text": [
      "100%|██████████| 250000/250000 [00:23<00:00, 10454.10it/s]\n"
     ]
    }
   ],
   "source": [
    "# vel = np.zeros([xy.shape[0], 2])\n",
    "# for i in range(xy.shape[0]):\n",
    "#     M = DS_multiple_obs(xy[i, :])\n",
    "#     vel[i,:] = M @ ds_1.eval(xy[i, :])\n",
    "    # vel[i,:] =ds_1.eval(xy[i, :])\n",
    "# attractor_1[:2] = np.array([-0.7, 0])\n",
    "def vel_func(j):\n",
    "    # r.x[:2] = xy[j, :]\n",
    "    vel = r.collision_free_DS(attractor_1,x=xy[j,:] )\n",
    "    # M = DS_multiple_obs(xy[j, :])\n",
    "    # vel = M @ ds_1.eval(xy[j, :])\n",
    "    return vel[:2]\n",
    "\n",
    "import tqdm\n",
    "def cal_vel(num): # use multiple processing to speed it up\n",
    "    from multiprocessing import Pool\n",
    "    from contextlib import closing\n",
    "    # Memory usage keep growing with Python's multiprocessing.pool\n",
    "    # use this to close them\n",
    "    # with Pool(40) as a_pool:\n",
    "    with closing(Pool(30)) as a_pool: # use 10, in case out of memory\n",
    "        result = list(tqdm.tqdm(a_pool.imap(vel_func, range(num)), total= num))\n",
    "\n",
    "    # result = np.vstack(result)  # a list of array to array\n",
    "    return result\n",
    "\n",
    "# vel_3D = cal_vel(nums**2 * num_obj_move)\n",
    "vel_3D = cal_vel(xy.shape[0])\n",
    "vel_3D = np.vstack(vel_3D)\n",
    "vel = vel_3D.reshape(nums, nums, 2)"
   ],
   "metadata": {
    "collapsed": false,
    "ExecuteTime": {
     "end_time": "2024-07-13T20:01:50.085213127Z",
     "start_time": "2024-07-13T20:01:25.456174851Z"
    }
   },
   "id": "a0b8fa470e7186d4"
  },
  {
   "cell_type": "code",
   "execution_count": 9,
   "outputs": [],
   "source": [
    "# test point\n",
    "x0  = np.array([-0.87, 0.36])\n",
    "\n",
    "num_x0 = 10000\n",
    "x0_traj = np.zeros([num_x0, 2])\n",
    "x0_traj[0, :] = x0\n",
    "dt = 0.001\n",
    "for i in range(1, num_x0):\n",
    "    vel_x0 = r.collision_free_DS(attractor_1, x= x0_traj[i-1, :])[:2]\n",
    "    x0_traj[i, :] = x0_traj[i-1, :] + dt * vel_x0\n"
   ],
   "metadata": {
    "collapsed": false,
    "ExecuteTime": {
     "end_time": "2024-07-13T20:01:51.651864712Z",
     "start_time": "2024-07-13T20:01:50.087787601Z"
    }
   },
   "id": "d13b84526988f350"
  },
  {
   "cell_type": "code",
   "execution_count": 10,
   "outputs": [
    {
     "data": {
      "text/plain": "<Figure size 248.031x248.031 with 1 Axes>",
      "image/png": "[encoded data removed]"
     },
     "metadata": {},
     "output_type": "display_data"
    }
   ],
   "source": [
    "import matplotlib.pyplot as plt\n",
    "plt.rcParams[\"font.family\"] = \"Times New Roman\"\n",
    "plt.rcParams[\"font.size\"] = \"8\"\n",
    "from matplotlib import rc\n",
    "\n",
    "rc('text', usetex=True)\n",
    "# for j in range(n): # will be out of memory\n",
    "# for j in range(1):\n",
    "fig_width = 90/25.4  * 0.7\n",
    "fig, ax = plt.subplots(figsize=(fig_width, fig_width))\n",
    "\n",
    "\n",
    "\n",
    "# ax.scatter(r.x_obj[2][0], r.x_obj[2][1], c = 'b', s=10)\n",
    "# ax.scatter(r.x_obj[3][0], r.x_obj[3][1], c = 'b', s=10)\n",
    "ax.scatter(attractor_1[0], attractor_1[1], c = 'r', s=10,marker=\"*\",zorder=100)\n",
    "# for i in range(2):\n",
    "#     circle = np.vstack([np.cos(np.linspace(0,np.pi*2, 300)) * radius, np.sin(np.linspace(0,np.pi*2, 300)) * radius]).T + r.x_obj[2+i][:2].reshape(1,-1)\n",
    "#     ax.plot(circle[:,0], circle[:,1], c='k', linewidth=1)\n",
    "\n",
    "for i in range(1):\n",
    "    circle = np.vstack([np.cos(np.linspace(0,np.pi*2, 300)) * radius, np.sin(np.linspace(0,np.pi*2, 300)) * radius]).T + r.x_obj[0][:2].reshape(1,-1)\n",
    "    ax.plot(circle[:,0], circle[:,1], c='k', linewidth=1)\n",
    "\n",
    "ax.streamplot(x[:,:], y[:,:], vel[:,:,0], vel[:,:,1], density=[1, 1], linewidth=1, minlength=0.05,color='gray') # screamlines for DS in 2D\n",
    "ax.set_xlabel('x')\n",
    "ax.set_ylabel('y')\n",
    "\n",
    "ax.set_aspect('equal', adjustable='box')\n",
    "# add the test point traj\n",
    "ax.scatter(x0_traj[:,0], x0_traj[:,1], s=0.1, c='r', zorder=100)\n",
    "# ax.scatter(x0[0], x0[1], c = 'b', s=10, marker='.', zorder=100)\n",
    "\n",
    "\n",
    "fig.savefig('DS_test.jpg',format='jpg', bbox_inches='tight',  pad_inches=0.0, dpi=600)"
   ],
   "metadata": {
    "collapsed": false,
    "ExecuteTime": {
     "end_time": "2024-07-13T20:01:52.790624324Z",
     "start_time": "2024-07-13T20:01:51.656309216Z"
    }
   },
   "id": "d58f17f239fae984"
  },
  {
   "cell_type": "code",
   "execution_count": 11,
   "outputs": [
    {
     "data": {
      "text/plain": "5"
     },
     "execution_count": 11,
     "metadata": {},
     "output_type": "execute_result"
    }
   ],
   "source": [
    "vector = [1,2,3,4,5,0.5]\n",
    "np.nonzero(np.array(vector) <1)[0][0]"
   ],
   "metadata": {
    "collapsed": false,
    "ExecuteTime": {
     "end_time": "2024-07-13T20:01:52.827410100Z",
     "start_time": "2024-07-13T20:01:52.791475798Z"
    }
   },
   "id": "f6c92513f3167deb"
  },
  {
   "cell_type": "code",
   "execution_count": 11,
   "outputs": [],
   "source": [],
   "metadata": {
    "collapsed": false,
    "ExecuteTime": {
     "end_time": "2024-07-13T20:01:52.870246169Z",
     "start_time": "2024-07-13T20:01:52.814954144Z"
    }
   },
   "id": "995949b90a0cc5fc"
  },
  {
   "cell_type": "code",
   "execution_count": 12,
   "outputs": [],
   "source": [
    "# from sympy import *\n",
    "# x, y, r = symbols('x y r')\n",
    "# a,b, phi = symbols('a b, phi')\n",
    "# init_printing(use_unicode=True)\n"
   ],
   "metadata": {
    "collapsed": false,
    "ExecuteTime": {
     "end_time": "2024-07-13T20:01:52.876103995Z",
     "start_time": "2024-07-13T20:01:52.817183283Z"
    }
   },
   "id": "1737bdb75f1cc05f"
  },
  {
   "cell_type": "code",
   "execution_count": 13,
   "outputs": [],
   "source": [
    "# phi = (sy.sqrt((x-a)**2 + (y-b) **2)  - r) * phi\n",
    "# diff(phi, x)"
   ],
   "metadata": {
    "collapsed": false,
    "ExecuteTime": {
     "end_time": "2024-07-13T20:01:52.876289073Z",
     "start_time": "2024-07-13T20:01:52.858108355Z"
    }
   },
   "id": "aafea08ebf54f6b9"
  },
  {
   "cell_type": "code",
   "execution_count": 14,
   "outputs": [],
   "source": [
    "# diff(phi, y)"
   ],
   "metadata": {
    "collapsed": false,
    "ExecuteTime": {
     "end_time": "2024-07-13T20:01:52.877205047Z",
     "start_time": "2024-07-13T20:01:52.858205857Z"
    }
   },
   "id": "9342a57f63983b08"
  },
  {
   "cell_type": "code",
   "execution_count": 15,
   "outputs": [],
   "source": [
    "# import sympy as sy\n",
    "# phi_ = sy.lambdify([[x, y,a,b,r]], phi)\n",
    "# d_phi_x = sy.lambdify([[x, y,a,b,r]], diff(phi, x))\n",
    "# d_phi_y = sy.lambdify([[x, y,a,b,r]], diff(phi, y))"
   ],
   "metadata": {
    "collapsed": false,
    "ExecuteTime": {
     "end_time": "2024-07-13T20:01:52.914360861Z",
     "start_time": "2024-07-13T20:01:52.872294947Z"
    }
   },
   "id": "189c49b9d677f489"
  },
  {
   "cell_type": "code",
   "execution_count": 16,
   "outputs": [],
   "source": [
    "# phi_([1,2,3,4,0.1])"
   ],
   "metadata": {
    "collapsed": false,
    "ExecuteTime": {
     "end_time": "2024-07-13T20:01:52.914572403Z",
     "start_time": "2024-07-13T20:01:52.914167833Z"
    }
   },
   "id": "38c5bc5bb75d7ef8"
  },
  {
   "cell_type": "code",
   "execution_count": 17,
   "outputs": [],
   "source": [
    "# d_phi_x([1,2,3,4,0.1])"
   ],
   "metadata": {
    "collapsed": false,
    "ExecuteTime": {
     "end_time": "2024-07-13T20:01:52.930406296Z",
     "start_time": "2024-07-13T20:01:52.914318453Z"
    }
   },
   "id": "e13fbe28de640155"
  }
 ],
 "metadata": {
  "kernelspec": {
   "display_name": "Python 3",
   "language": "python",
   "name": "python3"
  },
  "language_info": {
   "codemirror_mode": {
    "name": "ipython",
    "version": 2
   },
   "file_extension": ".py",
   "mimetype": "text/x-python",
   "name": "python",
   "nbconvert_exporter": "python",
   "pygments_lexer": "ipython2",
   "version": "2.7.6"
  }
 },
 "nbformat": 4,
 "nbformat_minor": 5
}
