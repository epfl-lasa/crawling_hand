{
 "cells": [
  {
   "cell_type": "code",
   "execution_count": 1,
   "id": "initial_id",
   "metadata": {
    "collapsed": true,
    "ExecuteTime": {
     "end_time": "2024-11-23T20:20:34.722121065Z",
     "start_time": "2024-11-23T20:20:33.912971334Z"
    }
   },
   "outputs": [],
   "source": [
    "import time\n",
    "\n",
    "import numpy as np\n",
    "\n",
    "import tools.rotations as rot\n",
    "\n",
    "from controller import locomotion\n",
    "import mujoco\n",
    "\n",
    "import copy\n",
    "%load_ext autoreload\n",
    "%autoreload 2"
   ]
  },
  {
   "cell_type": "markdown",
   "source": [
    "## test the grasping stability\n",
    "\n",
    "- The task is to grasp the box, put it onto the back, and then press it by one finger."
   ],
   "metadata": {
    "collapsed": false
   },
   "id": "722fc8897f918ad4"
  },
  {
   "cell_type": "code",
   "execution_count": 3,
   "outputs": [
    {
     "name": "stdout",
     "output_type": "stream",
     "text": [
      "Kinematic model has been loaded from ../kinematics/q2pose_6_v1.txt\n",
      "Need to generate the standup position\n",
      "locomotion freq 1.0\n"
     ]
    }
   ],
   "source": [
    "xml_path = 'descriptions/six_finger_hand_llll.xml'\n",
    "q = np.array([0,0,  0.13,  9.99999738e-01,\n",
    "       -4.46340938e-04,  5.67392530e-04, -4.89152197e-05, \n",
    "               0,   0.3,  0.3, 0.3,\n",
    "               0,   0.3,  0.3, 0.3,\n",
    "               0,   0.3,  0.3, 0.3,\n",
    "               0,   0.3,  0.3, 0.3,\n",
    "              0,   0.3,  0.3, 0.3,\n",
    "               0,   0.3,  0.3, 0.3,])\n",
    "obj_names = ['sphere_1','cylinder_1', 'box_1', 'box_2']\n",
    "r = locomotion(xml_path, q0=q, finger_num=6, path_suffix='../',obj_names=obj_names)\n",
    "\n",
    "print('locomotion freq', r.f)\n",
    "# take a rest to let the acceleration to zero\n",
    "t0 = time.time()\n",
    "q0 = copy.deepcopy(q[7:])\n",
    "while 1:\n",
    "    # r.step()\n",
    "    # r.send_torque(r.C)\n",
    "    r.joint_computed_torque_control(q0)\n",
    "    if time.time() - t0 > 4:\n",
    "        break\n",
    "xh_local_init = copy.deepcopy(r.xh_local) "
   ],
   "metadata": {
    "collapsed": false,
    "ExecuteTime": {
     "start_time": "2024-11-23T20:23:02.708493078Z"
    }
   },
   "id": "547596b9e85ed8d"
  },
  {
   "cell_type": "code",
   "execution_count": 3,
   "outputs": [],
   "source": [
    "pose_1 = np.array([ -0.09, -0.22, 0.01,\n",
    "                    1, 1, 0, 0])\n",
    "quat_0 = np.array([1,1,0,0])\n",
    "quat_1 = rot.euler2quat([0,-np.pi/18*3, 0])\n",
    "pose_1[3:] = rot.quat_mul(quat_0, quat_1)\n",
    "r.modify_obj_pose('box_1', pose_1)"
   ],
   "metadata": {
    "collapsed": false,
    "ExecuteTime": {
     "end_time": "2024-07-09T15:26:17.178686502Z",
     "start_time": "2024-07-09T15:26:17.158988008Z"
    }
   },
   "id": "bb2748d26eb4332f"
  },
  {
   "cell_type": "code",
   "execution_count": 4,
   "outputs": [],
   "source": [
    "# r.reset()"
   ],
   "metadata": {
    "collapsed": false,
    "ExecuteTime": {
     "end_time": "2024-07-09T15:26:17.197114659Z",
     "start_time": "2024-07-09T15:26:17.179999211Z"
    }
   },
   "id": "1dd0c3d9c1889cea"
  },
  {
   "cell_type": "code",
   "execution_count": 5,
   "outputs": [],
   "source": [
    "# 3 grasping\n",
    "\n",
    "q_23 = np.array([-0.45,   0.3,  0.3, 0.3,\n",
    "                 0.45,   0.3,  0.3, 0.3,])\n",
    "q_cmd = copy.deepcopy(q0)\n",
    "q_cmd[8:16] = q_23\n",
    "\n",
    "\n",
    "q_cmd = copy.deepcopy(q0)\n",
    "q_cmd[8:16] = q_23\n",
    "nums = 2000\n",
    "q_23_list = np.linspace(q0[8:16], q_23, num=nums)\n",
    "\n",
    "t0 = time.time()\n",
    "# while 1:\n",
    "#     r.joint_computed_torque_control(q_cmd)\n",
    "#     if time.time() - t0 >5:\n",
    "#         break\n",
    "for i in range(nums):\n",
    "    q_cmd[8:16] = q_23_list[i,:]\n",
    "    r.joint_computed_torque_control(q_cmd)"
   ],
   "metadata": {
    "collapsed": false,
    "ExecuteTime": {
     "end_time": "2024-07-09T15:26:18.135610037Z",
     "start_time": "2024-07-09T15:26:17.197618298Z"
    }
   },
   "id": "48dcc7fef83232fa"
  },
  {
   "cell_type": "code",
   "execution_count": 6,
   "outputs": [],
   "source": [
    "\n",
    "q_23_3 = np.array([-0.42,   -1.9,  -1.3,  -0.,\n",
    "                 0.42,   -1.9,  -1.3,  -0.])\n",
    "q_cmd = copy.deepcopy(q0)\n",
    "q_cmd[8:16] = q_23\n",
    "nums = 2000 * 3\n",
    "q_23_list = np.linspace(q_23, q_23_3, num=nums)\n",
    "\n",
    "t0 = time.time()\n",
    "# while 1:\n",
    "#     r.joint_computed_torque_control(q_cmd)\n",
    "#     if time.time() - t0 >5:\n",
    "#         break\n",
    "for i in range(nums):\n",
    "    q_cmd[8:16] = q_23_list[i,:]\n",
    "    r.joint_computed_torque_control(q_cmd)\n",
    "    "
   ],
   "metadata": {
    "collapsed": false,
    "ExecuteTime": {
     "end_time": "2024-07-09T15:26:20.544569246Z",
     "start_time": "2024-07-09T15:26:18.136478507Z"
    }
   },
   "id": "7ce7649522f63c0a"
  },
  {
   "cell_type": "code",
   "execution_count": 7,
   "outputs": [],
   "source": [
    "\n",
    "q_23_4 = np.array([-0.62,    -1.9,  -1.3,  -0.4,\n",
    "                 0.62,    -1.9,  -1.3,  -0.4])\n",
    "q_cmd = copy.deepcopy(q0)\n",
    "q_cmd[8:16] = q_23\n",
    "nums = 2000 \n",
    "q_23_list = np.linspace(q_23_3, q_23_4, num=nums)\n",
    "\n",
    "t0 = time.time()\n",
    "# while 1:\n",
    "#     r.joint_computed_torque_control(q_cmd)\n",
    "#     if time.time() - t0 >5:\n",
    "#         break\n",
    "for i in range(nums):\n",
    "    q_cmd[8:16] = q_23_list[i,:]\n",
    "    r.joint_computed_torque_control(q_cmd)\n",
    "    "
   ],
   "metadata": {
    "collapsed": false,
    "ExecuteTime": {
     "end_time": "2024-07-09T15:26:21.474711511Z",
     "start_time": "2024-07-09T15:26:20.545056716Z"
    }
   },
   "id": "9992adaa35580b7d"
  },
  {
   "cell_type": "code",
   "execution_count": 8,
   "outputs": [],
   "source": [
    "\n",
    "q_23_5 = q0[8:16]\n",
    "q_cmd = copy.deepcopy(q0)\n",
    "q_cmd[8:16] = q_23\n",
    "nums = 2000 \n",
    "q_23_list = np.linspace(q_23_4, q_23_5, num=nums)\n",
    "\n",
    "t0 = time.time()\n",
    "# while 1:\n",
    "#     r.joint_computed_torque_control(q_cmd)\n",
    "#     if time.time() - t0 >5:\n",
    "#         break\n",
    "for i in range(nums):\n",
    "    q_cmd[8:16] = q_23_list[i,:]\n",
    "    r.joint_computed_torque_control(q_cmd)\n",
    "    "
   ],
   "metadata": {
    "collapsed": false,
    "ExecuteTime": {
     "end_time": "2024-07-09T15:26:22.312644743Z",
     "start_time": "2024-07-09T15:26:21.475865282Z"
    }
   },
   "id": "80ccc170b270dd21"
  },
  {
   "cell_type": "code",
   "execution_count": 9,
   "outputs": [],
   "source": [
    "for i in range(1000):\n",
    "    r.joint_computed_torque_control(q_cmd)"
   ],
   "metadata": {
    "collapsed": false,
    "ExecuteTime": {
     "end_time": "2024-07-09T15:26:22.756943913Z",
     "start_time": "2024-07-09T15:26:22.313758690Z"
    }
   },
   "id": "e7eb98e25e27857a"
  },
  {
   "cell_type": "code",
   "execution_count": 10,
   "outputs": [],
   "source": [
    "\n",
    "q_2 = np.array([0,-1.8,-1.2,-0.6])\n",
    "# q_cmd = copy.deepcopy(q0)\n",
    "nums = 2000 \n",
    "q_2_list = np.linspace(q_cmd[8:12], q_2, num=nums)\n",
    "\n",
    "t0 = time.time()\n",
    "# while 1:\n",
    "#     r.joint_computed_torque_control(q_cmd)\n",
    "#     if time.time() - t0 >5:\n",
    "#         break\n",
    "for i in range(nums):\n",
    "    q_cmd[8:12] = q_2_list[i,:]\n",
    "    r.joint_computed_torque_control(q_cmd)\n",
    "    "
   ],
   "metadata": {
    "collapsed": false,
    "ExecuteTime": {
     "end_time": "2024-07-09T15:26:23.614292199Z",
     "start_time": "2024-07-09T15:26:22.758694835Z"
    }
   },
   "id": "eb78b8b62b20c2a1"
  },
  {
   "cell_type": "code",
   "execution_count": 11,
   "outputs": [],
   "source": [
    "for i in range(1000):\n",
    "    r.joint_computed_torque_control(q_cmd)"
   ],
   "metadata": {
    "collapsed": false,
    "ExecuteTime": {
     "end_time": "2024-07-09T15:26:24.031169572Z",
     "start_time": "2024-07-09T15:26:23.615578347Z"
    }
   },
   "id": "c79fe304ce123784"
  }
 ],
 "metadata": {
  "kernelspec": {
   "display_name": "Python 3",
   "language": "python",
   "name": "python3"
  },
  "language_info": {
   "codemirror_mode": {
    "name": "ipython",
    "version": 2
   },
   "file_extension": ".py",
   "mimetype": "text/x-python",
   "name": "python",
   "nbconvert_exporter": "python",
   "pygments_lexer": "ipython2",
   "version": "2.7.6"
  }
 },
 "nbformat": 4,
 "nbformat_minor": 5
}
