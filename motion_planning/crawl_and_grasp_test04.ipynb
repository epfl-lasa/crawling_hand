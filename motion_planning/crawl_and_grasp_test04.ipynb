{
 "cells": [
  {
   "cell_type": "code",
   "execution_count": null,
   "id": "initial_id",
   "metadata": {
    "collapsed": true
   },
   "outputs": [],
   "source": [
    "import time\n",
    "\n",
    "import numpy as np\n",
    "\n",
    "import tools.rotations as rot\n",
    "\n",
    "from controller import locomotion\n",
    "import mujoco\n",
    "\n",
    "import copy\n",
    "%load_ext autoreload\n",
    "%autoreload 2"
   ]
  },
  {
   "cell_type": "markdown",
   "source": [
    "# real robot structure, 5 fingers, 4Dofs for each finger"
   ],
   "metadata": {
    "collapsed": false
   },
   "id": "36882751dab20f4c"
  },
  {
   "cell_type": "code",
   "execution_count": null,
   "outputs": [],
   "source": [
    "xml_path = 'descriptions/v2/hand_v2.xml'\n",
    "q = np.array([0,0,  0.13,  9.99999738e-01,\n",
    "       -4.46340938e-04,  5.67392530e-04, -4.89152197e-05, \n",
    "                0.,    7.91144283e-01,  0.3,  0.3,\n",
    "               0.3,   7.91144283e-01,  0.3,  0.3,\n",
    "               0.,    7.91144283e-01,  0.3,  0.3,\n",
    "               0.,    7.91144283e-01,  0.3,  0.3,\n",
    "              -0.5,   7.91144283e-01,  0.3,  0.3\n",
    "            ])\n",
    "obj_names = ['sphere_1','cylinder_1', 'box_1', 'cube_1', ]\n",
    "# obj_names = ['box_1', 'cube_1']\n",
    "r = locomotion(xml_path, q0=q, finger_num=5, path_suffix='../',obj_names=obj_names, v='v2')\n",
    "\n",
    "print('locomotion freq', r.f)\n",
    "# take a rest to let the acceleration converge to zero\n",
    "t0 = time.time()\n",
    "q0 = copy.deepcopy(q[7:])\n",
    "while 1:\n",
    "    r.joint_computed_torque_control(q0)\n",
    "    if time.time() - t0 > 4:\n",
    "        break\n",
    "r.xh_local_init = copy.deepcopy(r.xh_local) "
   ],
   "metadata": {
    "collapsed": false
   },
   "id": "5d2df1278b623993"
  },
  {
   "cell_type": "code",
   "execution_count": null,
   "outputs": [],
   "source": [
    "r.obj_names"
   ],
   "metadata": {
    "collapsed": false
   },
   "id": "a3b1389cbea392a4"
  },
  {
   "cell_type": "code",
   "execution_count": null,
   "outputs": [],
   "source": [],
   "metadata": {
    "collapsed": false
   },
   "id": "1e698b546c78d422"
  },
  {
   "cell_type": "code",
   "execution_count": null,
   "outputs": [],
   "source": [
    "obj_1st = 0\n",
    "offset = np.array([0.2, 0])  # offset along xy axis\n",
    " \n",
    "attractor_1 = r.x_obj[obj_1st][:2] + offset\n",
    "print(attractor_1)\n"
   ],
   "metadata": {
    "collapsed": false
   },
   "id": "1ea6f745fa816f87"
  },
  {
   "cell_type": "code",
   "execution_count": null,
   "outputs": [],
   "source": [
    "\n",
    "\n",
    "i = 2  # the object to be grasped\n",
    "radius = [0.2, 0.2, 0.3, 0.3]\n",
    "\n",
    "attractor_1 = r.x_obj[i][:3] + rot.quat2mat(r.x_obj[i][3:7]) @ np.array([0, 0 ,0.35])   # offset along z axis of the obj frame, y is the long size of the box\n",
    "# attractor_1 = attractor_1[:2]\n",
    "# attractor_1 = np.array([-1,0])\n",
    "ori_d = rot.euler2quat([0,0, np.pi/2 + np.pi/2/4])\n",
    "ori_tmp = rot.quat_mul(r.x_obj[i][3:7], rot.euler2quat([-np.pi/2, 0, np.pi/2]))\n",
    "ori_d = rot.quat_mul(ori_d, ori_tmp)\n",
    "\n",
    "\n",
    "ref = np.concatenate([attractor_1, ori_d])\n",
    "# visualize the attractor\n",
    "r.d.mocap_pos[:] = ref[:3]\n",
    "r.d.mocap_quat[:] = ref[3:]\n",
    "# r.step()\n",
    "r.moveto_attractor(ref, threshold=0.015, stance_legs=[0,2,3], swing_legs=[1,4], max_vel=0.005, radius=radius)\n",
    "\n"
   ],
   "metadata": {
    "collapsed": false
   },
   "id": "1a5190e4d8234915"
  },
  {
   "cell_type": "code",
   "execution_count": null,
   "outputs": [],
   "source": [
    "# prepare to grasp\n",
    "\n",
    "i = 2  # the object index to be grasped\n",
    "radius = [0.2, 0.2, 0.03, 0.3]\n",
    "\n",
    "attractor_1 = r.x_obj[i][:3] + rot.quat2mat(r.x_obj[i][3:7]) @ np.array([0, 0 ,0.15])   # offset along z axis of the obj frame, y is the long size of the box\n",
    "\n",
    "ori_d = rot.euler2quat([0,0, np.pi/2 + np.pi/2/4])\n",
    "ori_tmp = rot.quat_mul(r.x_obj[i][3:7], rot.euler2quat([-np.pi/2, 0, np.pi/2]))\n",
    "ori_d = rot.quat_mul(ori_d, ori_tmp)\n",
    "\n",
    "\n",
    "ref = np.concatenate([attractor_1, ori_d])\n",
    "# visualize the attractor\n",
    "r.d.mocap_pos[:] = ref[:3]\n",
    "r.d.mocap_quat[:] = ref[3:]\n",
    "# r.step()\n",
    "r.moveto_attractor(ref, threshold=0.015, stance_legs=[0,2,3], swing_legs=[1,4], max_vel=0.005, radius=radius)\n"
   ],
   "metadata": {
    "collapsed": false
   },
   "id": "6cd1638a8c9430bf"
  },
  {
   "cell_type": "code",
   "execution_count": null,
   "outputs": [],
   "source": [
    "#  change the standing configuration\n",
    "# _ = r.move_along_z(z=-0.04)\n",
    "q_cmd = copy.deepcopy(q0)\n",
    "q_cmd[4] = -0.5\n",
    "q_cmd[16] = 0.5\n",
    "r.joint_motion_generator(q_cmd, vel=2)"
   ],
   "metadata": {
    "collapsed": false
   },
   "id": "419918d0235d41d0"
  },
  {
   "cell_type": "code",
   "execution_count": null,
   "outputs": [],
   "source": [],
   "metadata": {
    "collapsed": false
   },
   "id": "46a6a1ab40925d86"
  },
  {
   "cell_type": "code",
   "execution_count": null,
   "outputs": [],
   "source": [
    "# 3 grasping\n",
    "q_23 = np.array([-0.4,   7.91144283e-01,  0.3,  0.3,\n",
    "                 0.4,   7.91144283e-01,  0.3,  0.3])\n",
    "q_cmd = copy.deepcopy(q0)\n",
    "q_cmd[8:16] = q_23\n",
    "q_cmd[4] = -0.5\n",
    "q_cmd[16] = 0.5\n",
    "nums = 2000\n",
    "q_23_list = np.linspace(q0[8:16], q_23, num=nums)\n",
    "\n",
    "\n",
    "r.joint_motion_generator(q_cmd, vel=1)\n"
   ],
   "metadata": {
    "collapsed": false
   },
   "id": "2674453ba5c79ec9"
  },
  {
   "cell_type": "code",
   "execution_count": null,
   "outputs": [],
   "source": [
    "q_23 = np.array([-0.5,   -1.4,  -1.3,  -0.3,\n",
    "                 0.5,   -1.4,  -1.3,  -0.3])\n",
    "q_cmd = copy.deepcopy(q0)\n",
    "q_cmd[8:16] = q_23\n",
    "q_cmd[4] = -0.5\n",
    "q_cmd[16] = 0.5\n",
    "\n",
    "r.joint_motion_generator(q_cmd, vel=1)\n",
    "\n",
    "    "
   ],
   "metadata": {
    "collapsed": false
   },
   "id": "ee6aec004d2ac19d"
  },
  {
   "cell_type": "code",
   "execution_count": null,
   "outputs": [],
   "source": [],
   "metadata": {
    "collapsed": false
   },
   "id": "e378226b3be2c787"
  }
 ],
 "metadata": {
  "kernelspec": {
   "display_name": "Python 3",
   "language": "python",
   "name": "python3"
  },
  "language_info": {
   "codemirror_mode": {
    "name": "ipython",
    "version": 2
   },
   "file_extension": ".py",
   "mimetype": "text/x-python",
   "name": "python",
   "nbconvert_exporter": "python",
   "pygments_lexer": "ipython2",
   "version": "2.7.6"
  }
 },
 "nbformat": 4,
 "nbformat_minor": 5
}
