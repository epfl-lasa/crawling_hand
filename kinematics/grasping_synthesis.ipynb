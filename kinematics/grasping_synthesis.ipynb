{
 "cells": [
  {
   "cell_type": "code",
   "execution_count": 1,
   "id": "initial_id",
   "metadata": {
    "collapsed": true,
    "ExecuteTime": {
     "end_time": "2024-11-23T20:50:16.024697501Z",
     "start_time": "2024-11-23T20:50:15.660961061Z"
    }
   },
   "outputs": [],
   "source": [
    "import time\n",
    "\n",
    "from grasping_synthesis import grasping, mujoco_sim\n",
    "import numpy as np\n",
    "%load_ext autoreload\n",
    "%autoreload 2"
   ]
  },
  {
   "cell_type": "code",
   "execution_count": 1,
   "outputs": [],
   "source": [],
   "metadata": {
    "collapsed": false,
    "ExecuteTime": {
     "end_time": "2024-11-23T20:50:16.024823146Z",
     "start_time": "2024-11-23T20:50:16.017222623Z"
    }
   },
   "id": "3db67bb667e7fb15"
  },
  {
   "cell_type": "code",
   "execution_count": 2,
   "outputs": [
    {
     "name": "stdout",
     "output_type": "stream",
     "text": [
      "[1.    0.    1.    0.    0.    1.    1.    0.065 0.076 0.04  0.057 0.069\n",
      " 0.077 0.084 0.052]\n"
     ]
    }
   ],
   "source": [
    "solution = np.load('../data_records/grasp/solution_1705696501.npy')\n",
    "print(solution)"
   ],
   "metadata": {
    "collapsed": false,
    "ExecuteTime": {
     "end_time": "2024-11-23T20:50:16.026187450Z",
     "start_time": "2024-11-23T20:50:16.018849521Z"
    }
   },
   "id": "e80aad72961f83a3"
  },
  {
   "cell_type": "code",
   "execution_count": 2,
   "outputs": [],
   "source": [],
   "metadata": {
    "collapsed": false,
    "ExecuteTime": {
     "end_time": "2024-11-23T20:50:16.035444969Z",
     "start_time": "2024-11-23T20:50:16.026070978Z"
    }
   },
   "id": "85bd7e95863fd977"
  },
  {
   "cell_type": "code",
   "execution_count": 4,
   "outputs": [],
   "source": [
    "# visualize the grasping synthesis in MuJoCo\n",
    "import gait_test.hand_generator_from_genes as hg\n",
    "import mujoco\n",
    "from mujoco import viewer\n",
    "from controller_full import Robot\n",
    "l_ = [0.05]*5     # link length\n",
    "m_ = [0.05]*5     # link length\n",
    "r_ = [0.01, 0.02]  # radius\n",
    "\n",
    "fingers = [1, 0] + [1,0,1,1,0,1]\n",
    "dofs = [4] * 8\n",
    "\n",
    "l_ = [0.05] + [solution[7]]*4\n",
    "m_ = [0.05] + [solution[9]]*4\n",
    "fingers = [1] +  list(np.int8(solution[:7]))\n",
    "fingers = np.int8(solution[:8])\n",
    "fingers[1] = 1\n",
    "# fingers = [1, 0] + [1,0,1,1,0,1]\n",
    "link_lengths = solution[7:]\n",
    "\n",
    "hand = hg.crawling_hand(fingers, dofs, link_lengths, objects=True, d_angle=np.pi/4)  # build the robot xml file\n",
    "xml_data = hand.return_xml()\n",
    "model = mujoco.MjModel.from_xml_string(xml_data)\n",
    "data = mujoco.MjData(model)\n",
    "\n",
    "view = viewer.launch_passive(model, data)\n",
    "obj_names = ['sphere_1','sphere_2','sphere_3']\n",
    "robot = Robot(model, data, view, fingers, dofs, auto_sync=True, obj_names=obj_names)\n",
    "\n"
   ],
   "metadata": {
    "collapsed": false,
    "ExecuteTime": {
     "end_time": "2024-11-23T20:50:21.757203317Z",
     "start_time": "2024-11-23T20:50:21.460892410Z"
    }
   },
   "id": "afc16fc8c2a4ce1"
  },
  {
   "cell_type": "code",
   "execution_count": null,
   "outputs": [],
   "source": [
    "import sys\n",
    "sys.executable\n",
    "# check if we are using the correct python"
   ],
   "metadata": {
    "collapsed": false
   },
   "id": "e72c41f03f9a94c8"
  },
  {
   "cell_type": "code",
   "execution_count": null,
   "outputs": [],
   "source": [
    "\n",
    "g1 = grasping()\n",
    "\n",
    "q0 = 0\n",
    "mode = 'double_grasp'\n",
    "\n",
    "p0 = np.pi/4    # angle for finger placement\n",
    "single = True\n",
    "# res1 = g1.generate_grasp(l_, m_,r_,q0,p0,single=single)  # use only one finger to grasp it\n",
    "res1 = g1.generate_single_grasp(m_, r_, p0)\n",
    "\n",
    "p0 = 0  # angle for finger placement, first finger\n",
    "# res2 = g1.generate_grasp(m_,l_,r_,q0,p0,single=single) # use only one finger to grasp it\n",
    "res2 = g1.generate_single_grasp(l_, r_, p0)\n",
    "\n",
    "q_double = np.concatenate([res2.x[:4], res1.x[:4]])\n",
    "x_init = np.concatenate([res2.x[4:7], res1.x[4:7]])\n",
    "\n",
    "robot.d.qpos[2] = 0.08\n",
    "robot.modify_first_finger(q_double)\n",
    "# robot.modify_first_finger(q_double)\n",
    "position = res1.x[4:7] + robot.x[:3]\n",
    "robot.modify_obj_pose(obj_names[0], position)\n",
    "position = res2.x[4:7] + robot.x[:3]\n",
    "robot.modify_obj_pose(obj_names[1], position)\n",
    "\n",
    "p0 = np.pi/4\n",
    "t0 = time.time()\n",
    "# use the above info (1st and 2nd grasping) as the init state for the third grasp\n",
    "res3 =  g1.generate_triple_grasp(l_,m_,r_,q0,p0, q_init=q_double, x_init=x_init)\n",
    "print(time.time() - t0) # 5.77s\n",
    "q0 = np.copy(res3.x[:8])\n",
    "\n",
    "robot.d.qpos[2] = 0.08\n",
    "robot.modify_first_finger(res3.x[:8])\n",
    "# robot.modify_first_finger(q_double)\n",
    "\n",
    "# change the robot joints to the desired one for grasping, also change the position of spheres\n",
    "for i in range(3):\n",
    "    position = res3.x[8+i*3:11+i*3] + robot.x[:3]\n",
    "    robot.modify_obj_pose(obj_names[i], position)\n"
   ],
   "metadata": {
    "collapsed": false
   },
   "id": "46257be6d2bce500"
  },
  {
   "cell_type": "code",
   "execution_count": null,
   "outputs": [],
   "source": [
    "all_grasp_type = [(1, 1), (2, 2), (3, 3), (4, 4), (3, 4)]   # possible way to grasp one object by two fingers\n",
    "all_grasp_type += [(2, 4)]                                   # grasp one object by one finger\n",
    "\n",
    "grasping_link_index = [all_grasp_type[1], all_grasp_type[5], all_grasp_type[5]]\n",
    "\n",
    "# get the DoF used for grasping stability\n",
    "q_used = [0 for i in range(8)]\n",
    "if all_grasp_type[0] in grasping_link_index:\n",
    "    q_used[0] += 1\n",
    "    q_used[4] += 1\n",
    "\n",
    "if all_grasp_type[1] in grasping_link_index:\n",
    "    q_used[0] += 1\n",
    "    q_used[1] += 1\n",
    "    q_used[4] += 1\n",
    "    q_used[5] += 1\n",
    "\n",
    "if all_grasp_type[2] in grasping_link_index:\n",
    "    q_used[0] += 1\n",
    "    q_used[1] += 1\n",
    "    q_used[2] += 1\n",
    "    q_used[4] += 1\n",
    "    q_used[5] += 1\n",
    "    q_used[6] += 1\n",
    "\n",
    "if all_grasp_type[3] in grasping_link_index:\n",
    "    q_used[0] += 1\n",
    "    q_used[1] += 1\n",
    "    q_used[2] += 1\n",
    "    q_used[3] += 1\n",
    "    q_used[4] += 1\n",
    "    q_used[5] += 1\n",
    "    q_used[6] += 1\n",
    "    q_used[7] += 1\n",
    "\n",
    "if all_grasp_type[4] in grasping_link_index:\n",
    "    q_used[0] += 1\n",
    "    q_used[1] += 1\n",
    "    q_used[2] += 1\n",
    "    # q_used[3] += 1\n",
    "    q_used[4] += 1\n",
    "    q_used[5] += 1\n",
    "    q_used[6] += 1\n",
    "    q_used[7] += 1\n",
    "\n",
    "if all_grasp_type[5] in grasping_link_index:\n",
    "    q_used[2] += 1\n",
    "    q_used[3] += 1\n",
    "\n",
    "if len(grasping_link_index) != len(set(grasping_link_index)):\n",
    "    print('there are repeated elements in grasping_link_index: ', grasping_link_index)\n",
    "    q_used[2] += 1\n",
    "    q_used[3] += 1\n",
    "    q_used[6] += 1\n",
    "    q_used[7] += 1\n",
    "\n",
    "print(q_used)\n",
    "# for not used joints, set q=0, todo, for now only consider grasp synthesis of 3 objects\n",
    "# need to add this equality constraints into the optimization"
   ],
   "metadata": {
    "collapsed": false
   },
   "id": "20f0a58b07a27562"
  },
  {
   "cell_type": "code",
   "execution_count": null,
   "outputs": [],
   "source": [],
   "metadata": {
    "collapsed": false
   },
   "id": "543776e46eb1ba4a"
  },
  {
   "cell_type": "code",
   "execution_count": null,
   "outputs": [],
   "source": [
    "1 or 0"
   ],
   "metadata": {
    "collapsed": false
   },
   "id": "bd5c656b2e637ea0"
  },
  {
   "cell_type": "code",
   "execution_count": null,
   "outputs": [],
   "source": [
    "robot.d.qpos[2] = 0.08\n",
    "robot.modify_first_finger(res3.x[:8])\n",
    "# robot.modify_first_finger(q_double)\n",
    "\n",
    "# change the robot joints to the desired one for grasping, also change the position of spheres\n",
    "for i in range(3):\n",
    "    position = res3.x[8+i*3:11+i*3] + robot.x[:3]\n",
    "    robot.modify_obj_pose(obj_names[i], position)\n",
    "\n"
   ],
   "metadata": {
    "collapsed": false
   },
   "id": "70c12141c918ca27"
  },
  {
   "cell_type": "code",
   "execution_count": null,
   "outputs": [],
   "source": [
    "q_grasp = np.copy(res3.x[:17]) # the spheres in the hand base frame"
   ],
   "metadata": {
    "collapsed": false
   },
   "id": "b29b2549d3af504e"
  },
  {
   "cell_type": "code",
   "execution_count": null,
   "outputs": [],
   "source": [
    "# from gait_test.crawling_robot_sim import crawling_robot_sim\n",
    "import  pygad\n",
    "\n",
    "n = int(sum(np.array(fingers[:]) * np.array(dofs[:]))) - 8\n",
    "num_genes = n * 3\n",
    "mutation_type = \"random\"\n",
    "mutation_percent_genes = 10\n",
    "gene_space = [{'low': -1, 'high': 1}] * n  # q0\n",
    "# gene_space += [{'low': 0.1, 'high': 10}]  # frequency\n",
    "gene_space += [{'low': -np.pi / 2, 'high': np.pi / 2}] * n  # a\n",
    "gene_space += [{'low': -np.pi / 2, 'high': np.pi / 2}] * n  # alpha\n",
    "\n",
    "num_generations = 30\n",
    "num_parents_mating = 8\n",
    "sol_per_pop = 4 * 4\n",
    "ga_instance = pygad.GA(num_generations=num_generations,\n",
    "                       num_parents_mating=num_parents_mating,\n",
    "                       sol_per_pop=sol_per_pop,\n",
    "                       num_genes=num_genes,\n",
    "                       # fitness_func=crawling_robot_sim(x).fitness_func,\n",
    "                       fitness_func=mujoco_sim(fingers, dofs,link_lengths, n, q_grasp=q_grasp, q_used=q_used).fitness_func,\n",
    "                       # on_generation=on_generation,\n",
    "                       mutation_type=mutation_type,\n",
    "                       mutation_percent_genes=mutation_percent_genes,\n",
    "                       parallel_processing=('process', 20),\n",
    "                       gene_space=gene_space\n",
    "                       )"
   ],
   "metadata": {
    "collapsed": false
   },
   "id": "d258446c4c55758"
  },
  {
   "cell_type": "code",
   "execution_count": null,
   "outputs": [],
   "source": [
    "ga_instance.run()\n",
    "solution, solution_fitness, solution_idx = ga_instance.best_solution()"
   ],
   "metadata": {
    "collapsed": false
   },
   "id": "600fa5d7b4626c4"
  },
  {
   "cell_type": "code",
   "execution_count": null,
   "outputs": [],
   "source": [
    "import time\n",
    "\n",
    "# should put the spheres onto the relative positions within hand\n",
    "# todo, now just put the sphere in the hand base frame\n",
    "\n",
    "\n",
    "hand = mujoco_sim(fingers, dofs,link_lengths, n, q0=q0,view=1,GA_solve=False,N_TIME=2000*10, obj_names=obj_names, q_grasp=q_grasp, q_used=q_used)\n",
    "\n",
    "hand.r.d.qpos[2] = 0.08\n",
    "hand.r.step()\n",
    "\n",
    "hand.r.sync()\n",
    "time.sleep(2)\n",
    "hand.run(solution)"
   ],
   "metadata": {
    "collapsed": false
   },
   "id": "718ec5578af8697b"
  },
  {
   "cell_type": "code",
   "execution_count": null,
   "outputs": [],
   "source": [
    "hand.r.dq.shape"
   ],
   "metadata": {
    "collapsed": false
   },
   "id": "9e3ba31858b10a5b"
  },
  {
   "cell_type": "code",
   "execution_count": null,
   "outputs": [],
   "source": [
    "hand.r.step()\n",
    "hand.r.sync()"
   ],
   "metadata": {
    "collapsed": false
   },
   "id": "a8a0d59582b002ea"
  }
 ],
 "metadata": {
  "kernelspec": {
   "display_name": "Python 3",
   "language": "python",
   "name": "python3"
  },
  "language_info": {
   "codemirror_mode": {
    "name": "ipython",
    "version": 2
   },
   "file_extension": ".py",
   "mimetype": "text/x-python",
   "name": "python",
   "nbconvert_exporter": "python",
   "pygments_lexer": "ipython2",
   "version": "2.7.6"
  }
 },
 "nbformat": 4,
 "nbformat_minor": 5
}
