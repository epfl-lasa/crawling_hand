{
 "cells": [
  {
   "cell_type": "code",
   "execution_count": 1,
   "id": "initial_id",
   "metadata": {
    "collapsed": true,
    "ExecuteTime": {
     "end_time": "2024-03-25T14:28:25.790861995Z",
     "start_time": "2024-03-25T14:28:25.410765885Z"
    }
   },
   "outputs": [],
   "source": [
    "import numpy as np\n",
    "from hand_sym import rotation\n",
    "import sympy as sy\n",
    "\n",
    "%load_ext autoreload\n",
    "%autoreload 2"
   ]
  },
  {
   "cell_type": "code",
   "execution_count": 2,
   "outputs": [],
   "source": [
    "q_list = ['q_0', 'q_1', 'q_2', 'q_3', 'q_4']  # finger placement, joints of robot\n",
    "q = sy.symbols('q_:5')   # joint symbols\n",
    "\n",
    "l = sy.symbols('l_:5')   # link lengths\n",
    "r = sy.symbols('r_:2')   # radius for capsule and sphere\n",
    "\n",
    "dof = len(q_list)\n",
    "T = sy.eye(4)\n",
    "axes = [[0,0,1], [0,0,1],[0, 1, 0],[0, 1, 0],[0, 1,0]]\n",
    "\n",
    "T_centers=[]  # the center of each link\n",
    "T_all = []   # finger tip\n",
    "for i in range(dof):\n",
    "    T = T * rotation(q[i], axes[i])\n",
    "    T_translation = sy.eye(4)\n",
    "    T_translation[:3, 3] = [l[i],0,0]    \n",
    "    T  = T * T_translation   # fingertip pose\n",
    "    T_translation_c = sy.eye(4)\n",
    "    T_translation_c[:3, 3] = [-l[i]/2,0,0]  \n",
    "    T_c = T * T_translation_c # link center\n",
    "    T_centers.append(T_c)\n",
    "    T_all.append(T)\n",
    "\n"
   ],
   "metadata": {
    "collapsed": false,
    "ExecuteTime": {
     "end_time": "2024-03-25T14:28:25.886935418Z",
     "start_time": "2024-03-25T14:28:25.829601285Z"
    }
   },
   "id": "24487370ae42f296"
  },
  {
   "cell_type": "code",
   "execution_count": 3,
   "outputs": [
    {
     "data": {
      "text/plain": "5"
     },
     "execution_count": 3,
     "metadata": {},
     "output_type": "execute_result"
    }
   ],
   "source": [
    "len(T_all)"
   ],
   "metadata": {
    "collapsed": false,
    "ExecuteTime": {
     "end_time": "2024-03-25T14:28:25.909347377Z",
     "start_time": "2024-03-25T14:28:25.887324897Z"
    }
   },
   "id": "7682710309c6a48b"
  },
  {
   "cell_type": "code",
   "execution_count": 4,
   "outputs": [],
   "source": [
    "x = sy.symbols('x_:3')"
   ],
   "metadata": {
    "collapsed": false,
    "ExecuteTime": {
     "end_time": "2024-03-25T14:28:25.933842075Z",
     "start_time": "2024-03-25T14:28:25.899774688Z"
    }
   },
   "id": "184acb6d9f5f349d"
  },
  {
   "cell_type": "code",
   "execution_count": 5,
   "outputs": [],
   "source": [
    "### choose which two links for pinch grasp\n",
    "i = 4  # i-th link for the first finger\n",
    "j = 4  # j-th link for the second finger\n",
    "\n",
    "for grasping_link_index in [[2,2], [3,3], [4,4], [3,4]]:\n",
    "    i = grasping_link_index[0]\n",
    "    j = grasping_link_index[1]\n",
    "    p = sy.symbols('p_:5')   # joint symbols for second finger\n",
    "    m = sy.symbols('m_:5')   # link lengths for second finger\n",
    "    p2q = dict((q[tmp], p[tmp]) for tmp in range(dof))\n",
    "    l2m = dict((l[tmp], m[tmp]) for tmp in range(dof))\n",
    "    ql2qm = p2q | l2m\n",
    "    \n",
    "    T_all_j = [T.subs(ql2qm) for T in T_all]\n",
    "    # x, y, z = sy.symbols('x:z')  # the sphere center\n",
    "    x = sy.symbols('x_:3')\n",
    "    M = sy.Matrix(x)\n",
    "    \n",
    "    ### get A B C D points\n",
    "    A = T_all[i-1][:3, 3]\n",
    "    B = T_all[i][:3, 3]\n",
    "    C = T_all_j[j-1][:3, 3]\n",
    "    D = T_all_j[j][:3, 3]\n",
    "    \n",
    "    ### get N1, N2 points, the perpendicular intersections from M to AB, and M to CD\n",
    "    n1 = sy.symbols('n_1')\n",
    "    Eq_n1 =  (B-A).dot(M - (A + (B-A) * n1))\n",
    "    n1_val = sy.solve(Eq_n1, n1, dict=False)[0]\n",
    "    N1 = A + (B-A) * n1_val\n",
    "    \n",
    "    n2 = sy.symbols('n_2')\n",
    "    Eq_n2 =  (D-C).dot(M - (C + (D-C) * n2))\n",
    "    n2_val = sy.solve(Eq_n2, n2, dict=False)[0]\n",
    "    N2 = C + (D-C) * n2_val\n",
    "    \n",
    "    import pickle\n",
    "    N1_N2_name = 'N1_N2_' + str(i)+ str(j) + '.txt'\n",
    "    with open(N1_N2_name, 'wb') as f:\n",
    "        pickle.dump([N1,N2], f)"
   ],
   "metadata": {
    "collapsed": false,
    "ExecuteTime": {
     "end_time": "2024-03-25T14:30:50.618055543Z",
     "start_time": "2024-03-25T14:28:25.914221087Z"
    }
   },
   "id": "88305f881a85df02"
  },
  {
   "cell_type": "code",
   "execution_count": 5,
   "outputs": [],
   "source": [],
   "metadata": {
    "collapsed": false,
    "ExecuteTime": {
     "end_time": "2024-03-25T14:30:50.618495979Z",
     "start_time": "2024-03-25T14:30:50.617762025Z"
    }
   },
   "id": "88afb8e47f89f975"
  },
  {
   "cell_type": "code",
   "execution_count": 6,
   "outputs": [],
   "source": [
    "with open(N1_N2_name, 'rb') as f:\n",
    "    N1_N2 = pickle.load(f)"
   ],
   "metadata": {
    "collapsed": false,
    "ExecuteTime": {
     "end_time": "2024-03-25T14:30:50.621979790Z",
     "start_time": "2024-03-25T14:30:50.617960691Z"
    }
   },
   "id": "f4cf7a58c6554e55"
  },
  {
   "cell_type": "code",
   "execution_count": 7,
   "outputs": [
    {
     "data": {
      "text/plain": "Matrix([\n[m_0*cos(p_0) + m_1*(-sin(p_0)*sin(p_1) + cos(p_0)*cos(p_1)) + m_2*(-sin(p_0)*sin(p_1) + cos(p_0)*cos(p_1))*cos(p_2) + m_3*(-(-sin(p_0)*sin(p_1) + cos(p_0)*cos(p_1))*sin(p_2)*sin(p_3) + (-sin(p_0)*sin(p_1) + cos(p_0)*cos(p_1))*cos(p_2)*cos(p_3)) + ((-(-sin(p_0)*sin(p_1) + cos(p_0)*cos(p_1))*sin(p_2)*sin(p_3) + (-sin(p_0)*sin(p_1) + cos(p_0)*cos(p_1))*cos(p_2)*cos(p_3))*cos(p_4) - ((-sin(p_0)*sin(p_1) + cos(p_0)*cos(p_1))*sin(p_2)*cos(p_3) + (-sin(p_0)*sin(p_1) + cos(p_0)*cos(p_1))*sin(p_3)*cos(p_2))*sin(p_4))*(-m_0*cos(p_1)*cos(p_2 + p_3 + p_4) - m_1*cos(p_2 + p_3 + p_4) - m_2*cos(p_3 + p_4) - m_3*cos(p_4) + x_0*cos(p_0 + p_1)*cos(p_2 + p_3 + p_4) + x_1*sin(p_0 + p_1)*cos(p_2 + p_3 + p_4) - x_2*sin(p_2 + p_3 + p_4))],\n[        m_0*sin(p_0) + m_1*(sin(p_0)*cos(p_1) + sin(p_1)*cos(p_0)) + m_2*(sin(p_0)*cos(p_1) + sin(p_1)*cos(p_0))*cos(p_2) + m_3*(-(sin(p_0)*cos(p_1) + sin(p_1)*cos(p_0))*sin(p_2)*sin(p_3) + (sin(p_0)*cos(p_1) + sin(p_1)*cos(p_0))*cos(p_2)*cos(p_3)) + ((-(sin(p_0)*cos(p_1) + sin(p_1)*cos(p_0))*sin(p_2)*sin(p_3) + (sin(p_0)*cos(p_1) + sin(p_1)*cos(p_0))*cos(p_2)*cos(p_3))*cos(p_4) - ((sin(p_0)*cos(p_1) + sin(p_1)*cos(p_0))*sin(p_2)*cos(p_3) + (sin(p_0)*cos(p_1) + sin(p_1)*cos(p_0))*sin(p_3)*cos(p_2))*sin(p_4))*(-m_0*cos(p_1)*cos(p_2 + p_3 + p_4) - m_1*cos(p_2 + p_3 + p_4) - m_2*cos(p_3 + p_4) - m_3*cos(p_4) + x_0*cos(p_0 + p_1)*cos(p_2 + p_3 + p_4) + x_1*sin(p_0 + p_1)*cos(p_2 + p_3 + p_4) - x_2*sin(p_2 + p_3 + p_4))],\n[                                                                                                                                                                                                                                                                                                                                                          -m_2*sin(p_2) + m_3*(-sin(p_2)*cos(p_3) - sin(p_3)*cos(p_2)) + (-(-sin(p_2)*sin(p_3) + cos(p_2)*cos(p_3))*sin(p_4) + (-sin(p_2)*cos(p_3) - sin(p_3)*cos(p_2))*cos(p_4))*(-m_0*cos(p_1)*cos(p_2 + p_3 + p_4) - m_1*cos(p_2 + p_3 + p_4) - m_2*cos(p_3 + p_4) - m_3*cos(p_4) + x_0*cos(p_0 + p_1)*cos(p_2 + p_3 + p_4) + x_1*sin(p_0 + p_1)*cos(p_2 + p_3 + p_4) - x_2*sin(p_2 + p_3 + p_4))]])",
      "text/latex": "$\\displaystyle \\left[\\begin{matrix}m_{0} \\cos{\\left(p_{0} \\right)} + m_{1} \\left(- \\sin{\\left(p_{0} \\right)} \\sin{\\left(p_{1} \\right)} + \\cos{\\left(p_{0} \\right)} \\cos{\\left(p_{1} \\right)}\\right) + m_{2} \\left(- \\sin{\\left(p_{0} \\right)} \\sin{\\left(p_{1} \\right)} + \\cos{\\left(p_{0} \\right)} \\cos{\\left(p_{1} \\right)}\\right) \\cos{\\left(p_{2} \\right)} + m_{3} \\left(- \\left(- \\sin{\\left(p_{0} \\right)} \\sin{\\left(p_{1} \\right)} + \\cos{\\left(p_{0} \\right)} \\cos{\\left(p_{1} \\right)}\\right) \\sin{\\left(p_{2} \\right)} \\sin{\\left(p_{3} \\right)} + \\left(- \\sin{\\left(p_{0} \\right)} \\sin{\\left(p_{1} \\right)} + \\cos{\\left(p_{0} \\right)} \\cos{\\left(p_{1} \\right)}\\right) \\cos{\\left(p_{2} \\right)} \\cos{\\left(p_{3} \\right)}\\right) + \\left(\\left(- \\left(- \\sin{\\left(p_{0} \\right)} \\sin{\\left(p_{1} \\right)} + \\cos{\\left(p_{0} \\right)} \\cos{\\left(p_{1} \\right)}\\right) \\sin{\\left(p_{2} \\right)} \\sin{\\left(p_{3} \\right)} + \\left(- \\sin{\\left(p_{0} \\right)} \\sin{\\left(p_{1} \\right)} + \\cos{\\left(p_{0} \\right)} \\cos{\\left(p_{1} \\right)}\\right) \\cos{\\left(p_{2} \\right)} \\cos{\\left(p_{3} \\right)}\\right) \\cos{\\left(p_{4} \\right)} - \\left(\\left(- \\sin{\\left(p_{0} \\right)} \\sin{\\left(p_{1} \\right)} + \\cos{\\left(p_{0} \\right)} \\cos{\\left(p_{1} \\right)}\\right) \\sin{\\left(p_{2} \\right)} \\cos{\\left(p_{3} \\right)} + \\left(- \\sin{\\left(p_{0} \\right)} \\sin{\\left(p_{1} \\right)} + \\cos{\\left(p_{0} \\right)} \\cos{\\left(p_{1} \\right)}\\right) \\sin{\\left(p_{3} \\right)} \\cos{\\left(p_{2} \\right)}\\right) \\sin{\\left(p_{4} \\right)}\\right) \\left(- m_{0} \\cos{\\left(p_{1} \\right)} \\cos{\\left(p_{2} + p_{3} + p_{4} \\right)} - m_{1} \\cos{\\left(p_{2} + p_{3} + p_{4} \\right)} - m_{2} \\cos{\\left(p_{3} + p_{4} \\right)} - m_{3} \\cos{\\left(p_{4} \\right)} + x_{0} \\cos{\\left(p_{0} + p_{1} \\right)} \\cos{\\left(p_{2} + p_{3} + p_{4} \\right)} + x_{1} \\sin{\\left(p_{0} + p_{1} \\right)} \\cos{\\left(p_{2} + p_{3} + p_{4} \\right)} - x_{2} \\sin{\\left(p_{2} + p_{3} + p_{4} \\right)}\\right)\\\\m_{0} \\sin{\\left(p_{0} \\right)} + m_{1} \\left(\\sin{\\left(p_{0} \\right)} \\cos{\\left(p_{1} \\right)} + \\sin{\\left(p_{1} \\right)} \\cos{\\left(p_{0} \\right)}\\right) + m_{2} \\left(\\sin{\\left(p_{0} \\right)} \\cos{\\left(p_{1} \\right)} + \\sin{\\left(p_{1} \\right)} \\cos{\\left(p_{0} \\right)}\\right) \\cos{\\left(p_{2} \\right)} + m_{3} \\left(- \\left(\\sin{\\left(p_{0} \\right)} \\cos{\\left(p_{1} \\right)} + \\sin{\\left(p_{1} \\right)} \\cos{\\left(p_{0} \\right)}\\right) \\sin{\\left(p_{2} \\right)} \\sin{\\left(p_{3} \\right)} + \\left(\\sin{\\left(p_{0} \\right)} \\cos{\\left(p_{1} \\right)} + \\sin{\\left(p_{1} \\right)} \\cos{\\left(p_{0} \\right)}\\right) \\cos{\\left(p_{2} \\right)} \\cos{\\left(p_{3} \\right)}\\right) + \\left(\\left(- \\left(\\sin{\\left(p_{0} \\right)} \\cos{\\left(p_{1} \\right)} + \\sin{\\left(p_{1} \\right)} \\cos{\\left(p_{0} \\right)}\\right) \\sin{\\left(p_{2} \\right)} \\sin{\\left(p_{3} \\right)} + \\left(\\sin{\\left(p_{0} \\right)} \\cos{\\left(p_{1} \\right)} + \\sin{\\left(p_{1} \\right)} \\cos{\\left(p_{0} \\right)}\\right) \\cos{\\left(p_{2} \\right)} \\cos{\\left(p_{3} \\right)}\\right) \\cos{\\left(p_{4} \\right)} - \\left(\\left(\\sin{\\left(p_{0} \\right)} \\cos{\\left(p_{1} \\right)} + \\sin{\\left(p_{1} \\right)} \\cos{\\left(p_{0} \\right)}\\right) \\sin{\\left(p_{2} \\right)} \\cos{\\left(p_{3} \\right)} + \\left(\\sin{\\left(p_{0} \\right)} \\cos{\\left(p_{1} \\right)} + \\sin{\\left(p_{1} \\right)} \\cos{\\left(p_{0} \\right)}\\right) \\sin{\\left(p_{3} \\right)} \\cos{\\left(p_{2} \\right)}\\right) \\sin{\\left(p_{4} \\right)}\\right) \\left(- m_{0} \\cos{\\left(p_{1} \\right)} \\cos{\\left(p_{2} + p_{3} + p_{4} \\right)} - m_{1} \\cos{\\left(p_{2} + p_{3} + p_{4} \\right)} - m_{2} \\cos{\\left(p_{3} + p_{4} \\right)} - m_{3} \\cos{\\left(p_{4} \\right)} + x_{0} \\cos{\\left(p_{0} + p_{1} \\right)} \\cos{\\left(p_{2} + p_{3} + p_{4} \\right)} + x_{1} \\sin{\\left(p_{0} + p_{1} \\right)} \\cos{\\left(p_{2} + p_{3} + p_{4} \\right)} - x_{2} \\sin{\\left(p_{2} + p_{3} + p_{4} \\right)}\\right)\\\\- m_{2} \\sin{\\left(p_{2} \\right)} + m_{3} \\left(- \\sin{\\left(p_{2} \\right)} \\cos{\\left(p_{3} \\right)} - \\sin{\\left(p_{3} \\right)} \\cos{\\left(p_{2} \\right)}\\right) + \\left(- \\left(- \\sin{\\left(p_{2} \\right)} \\sin{\\left(p_{3} \\right)} + \\cos{\\left(p_{2} \\right)} \\cos{\\left(p_{3} \\right)}\\right) \\sin{\\left(p_{4} \\right)} + \\left(- \\sin{\\left(p_{2} \\right)} \\cos{\\left(p_{3} \\right)} - \\sin{\\left(p_{3} \\right)} \\cos{\\left(p_{2} \\right)}\\right) \\cos{\\left(p_{4} \\right)}\\right) \\left(- m_{0} \\cos{\\left(p_{1} \\right)} \\cos{\\left(p_{2} + p_{3} + p_{4} \\right)} - m_{1} \\cos{\\left(p_{2} + p_{3} + p_{4} \\right)} - m_{2} \\cos{\\left(p_{3} + p_{4} \\right)} - m_{3} \\cos{\\left(p_{4} \\right)} + x_{0} \\cos{\\left(p_{0} + p_{1} \\right)} \\cos{\\left(p_{2} + p_{3} + p_{4} \\right)} + x_{1} \\sin{\\left(p_{0} + p_{1} \\right)} \\cos{\\left(p_{2} + p_{3} + p_{4} \\right)} - x_{2} \\sin{\\left(p_{2} + p_{3} + p_{4} \\right)}\\right)\\end{matrix}\\right]$"
     },
     "execution_count": 7,
     "metadata": {},
     "output_type": "execute_result"
    }
   ],
   "source": [
    "N1_N2[1]"
   ],
   "metadata": {
    "collapsed": false,
    "ExecuteTime": {
     "end_time": "2024-03-25T14:30:50.673310796Z",
     "start_time": "2024-03-25T14:30:50.621454292Z"
    }
   },
   "id": "acbbefb5ea1f3bd1"
  },
  {
   "cell_type": "code",
   "execution_count": 8,
   "outputs": [],
   "source": [
    "center = ((A+C)/2 + (B+D)/2)/2\n"
   ],
   "metadata": {
    "collapsed": false,
    "ExecuteTime": {
     "end_time": "2024-03-25T14:30:50.685374007Z",
     "start_time": "2024-03-25T14:30:50.672980314Z"
    }
   },
   "id": "2360bcc38ad46bb5"
  },
  {
   "cell_type": "code",
   "execution_count": 9,
   "outputs": [],
   "source": [
    "# constraints of acute angles\n",
    "c1 = (A - B).dot(A - M)  # to be positive\n",
    "c2 = (B - A).dot(B - M)\n",
    "c3 = (C - D).dot(C - M)\n",
    "c4 = (D - C).dot(D - M)\n",
    "\n",
    "# equality constraints. Keep contacts\n",
    "eq_1 = sy.sqrt((M - N1).dot(M - N1)) - r[0] - r[1]\n",
    "eq_2 = sy.sqrt((M - N2).dot(M - N2)) - r[0] - r[1]\n",
    "\n",
    "# contact angle, N1_M_N2 > 90 degrees\n",
    "c5 = - (M - N1).dot(M - N2)  # to be positive\n",
    "\n",
    "## cost function\n",
    "g = - c5 / sy.sqrt((M - N1).dot(M - N1))/sy.sqrt((M - N2).dot(M - N2))  # to be minimized, should be negative\n",
    "\n",
    "# friction cone\n",
    "mu = 0.5\n",
    "cos_theta = np.cos(np.arctan(mu))\n",
    "c6 = (M - N1).dot(N2 - N1) / sy.sqrt((M - N1).dot(M - N1))/ sy.sqrt((N2 - N1).dot(N2 - N1)) - cos_theta\n",
    "c7 = (M - N2).dot(N1 - N2) / sy.sqrt((M - N2).dot(M - N2))/sy.sqrt((N2 - N1).dot(N2 - N1)) - cos_theta\n",
    "\n",
    "\n",
    "\n",
    "\n",
    "\n",
    "\n"
   ],
   "metadata": {
    "collapsed": false,
    "ExecuteTime": {
     "end_time": "2024-03-25T14:30:50.814442853Z",
     "start_time": "2024-03-25T14:30:50.688451669Z"
    }
   },
   "id": "aba3a7b7ca98fcc"
  },
  {
   "cell_type": "code",
   "execution_count": 10,
   "outputs": [
    {
     "data": {
      "text/plain": "Matrix([\n[cos(q_0), -sin(q_0), 0, l_0*cos(q_0)],\n[sin(q_0),  cos(q_0), 0, l_0*sin(q_0)],\n[       0,         0, 1,            0],\n[       0,         0, 0,            1]])",
      "text/latex": "$\\displaystyle \\left[\\begin{matrix}\\cos{\\left(q_{0} \\right)} & - \\sin{\\left(q_{0} \\right)} & 0 & l_{0} \\cos{\\left(q_{0} \\right)}\\\\\\sin{\\left(q_{0} \\right)} & \\cos{\\left(q_{0} \\right)} & 0 & l_{0} \\sin{\\left(q_{0} \\right)}\\\\0 & 0 & 1 & 0\\\\0 & 0 & 0 & 1\\end{matrix}\\right]$"
     },
     "execution_count": 10,
     "metadata": {},
     "output_type": "execute_result"
    }
   ],
   "source": [
    "T_all[0]"
   ],
   "metadata": {
    "collapsed": false,
    "ExecuteTime": {
     "end_time": "2024-03-25T14:30:50.815041881Z",
     "start_time": "2024-03-25T14:30:50.814245099Z"
    }
   },
   "id": "85f10514439bd9ae"
  },
  {
   "cell_type": "code",
   "execution_count": 11,
   "outputs": [
    {
     "data": {
      "text/plain": "5"
     },
     "execution_count": 11,
     "metadata": {},
     "output_type": "execute_result"
    }
   ],
   "source": [
    "dof"
   ],
   "metadata": {
    "collapsed": false,
    "ExecuteTime": {
     "end_time": "2024-03-25T14:30:50.816322903Z",
     "start_time": "2024-03-25T14:30:50.814602297Z"
    }
   },
   "id": "eb8ec34889a316c6"
  },
  {
   "cell_type": "code",
   "execution_count": 12,
   "outputs": [],
   "source": [
    "## self-collision avoidance. Todo\n",
    "c_collision = []\n",
    "for i in range(dof):\n",
    "    A1 = T_all[i][:3, 3]\n",
    "    A2 = T_all_j[i][:3, 3]\n",
    "    c_i = sy.sqrt((A1 - A2).dot(A1 - A2))  - 2 * r[0]\n",
    "    c_collision.append(c_i)\n"
   ],
   "metadata": {
    "collapsed": false,
    "ExecuteTime": {
     "end_time": "2024-03-25T14:30:50.825968784Z",
     "start_time": "2024-03-25T14:30:50.814856684Z"
    }
   },
   "id": "89fdc0e9b440ee86"
  },
  {
   "cell_type": "code",
   "execution_count": 13,
   "outputs": [],
   "source": [
    "## self-collision avoidance. Todo\n",
    "# get the perpendicular line for AB and CD, it should be longer that 2 * r\n",
    "n34 = sy.symbols('alpha_:2')\n",
    "N3 = A + (B-A) * n34[0]\n",
    "N4 = C + (D-C) * n34[1]\n",
    "Eq_n3 =  (B-A).dot(N3-N4)\n",
    "Eq_n4 =  (C-D).dot(N3-N4)\n",
    "# sy.solve([Eq_n3, Eq_n4], n34, dict=False)\n",
    "\n"
   ],
   "metadata": {
    "collapsed": false,
    "ExecuteTime": {
     "end_time": "2024-03-25T14:30:50.873915298Z",
     "start_time": "2024-03-25T14:30:50.830144268Z"
    }
   },
   "id": "7f6900eb8de8d394"
  },
  {
   "cell_type": "code",
   "execution_count": 14,
   "outputs": [
    {
     "data": {
      "text/plain": "(alpha_0, alpha_1)"
     },
     "execution_count": 14,
     "metadata": {},
     "output_type": "execute_result"
    }
   ],
   "source": [
    "sy.symbols('alpha_:2')"
   ],
   "metadata": {
    "collapsed": false,
    "ExecuteTime": {
     "end_time": "2024-03-25T14:30:50.874605163Z",
     "start_time": "2024-03-25T14:30:50.873755718Z"
    }
   },
   "id": "d66329230df95c9b"
  },
  {
   "cell_type": "code",
   "execution_count": 15,
   "outputs": [
    {
     "data": {
      "text/plain": "(alpha_0, alpha_1)"
     },
     "execution_count": 15,
     "metadata": {},
     "output_type": "execute_result"
    }
   ],
   "source": [
    "n34"
   ],
   "metadata": {
    "collapsed": false,
    "ExecuteTime": {
     "end_time": "2024-03-25T14:30:50.876508917Z",
     "start_time": "2024-03-25T14:30:50.874048933Z"
    }
   },
   "id": "dc12605c8d0167cd"
  },
  {
   "cell_type": "code",
   "execution_count": 15,
   "outputs": [],
   "source": [],
   "metadata": {
    "collapsed": false,
    "ExecuteTime": {
     "end_time": "2024-03-25T14:30:50.876739759Z",
     "start_time": "2024-03-25T14:30:50.874227037Z"
    }
   },
   "id": "ad4af22f480d9d46"
  },
  {
   "cell_type": "code",
   "execution_count": 16,
   "outputs": [],
   "source": [
    "from hand_sym import subs_value"
   ],
   "metadata": {
    "collapsed": false,
    "ExecuteTime": {
     "end_time": "2024-03-25T14:30:50.888099746Z",
     "start_time": "2024-03-25T14:30:50.874383804Z"
    }
   },
   "id": "fbcf113e4c7acec8"
  },
  {
   "cell_type": "code",
   "execution_count": 17,
   "outputs": [
    {
     "data": {
      "text/plain": "(1, q_1, q_2, q_3, q_4)"
     },
     "execution_count": 17,
     "metadata": {},
     "output_type": "execute_result"
    }
   ],
   "source": [
    "(1,) + q[1:]"
   ],
   "metadata": {
    "collapsed": false,
    "ExecuteTime": {
     "end_time": "2024-03-25T14:30:50.923933697Z",
     "start_time": "2024-03-25T14:30:50.883343426Z"
    }
   },
   "id": "23475abb8c7e6ed6"
  },
  {
   "cell_type": "code",
   "execution_count": 18,
   "outputs": [],
   "source": [
    "l_ = [0.05]*5     # link length\n",
    "m_ = [0.05]*5     # link length\n",
    "r_ = [0.01, 0.02]  # radius\n",
    "q0 = 0\n",
    "\n",
    "\n",
    "p0 = np.pi/4   # angle for finger placement\n",
    "\n",
    "\n",
    "c = [c1, c2, c3, c4, c6, c7] + c_collision\n",
    "qpx = q[1:] + p[1:] + x\n",
    "subs_dict = subs_value([q, p,x,l,m,r], [(q0,) + q[1:], (p0,) + p[1:], x, l_, m_, r_])\n",
    "\n",
    "\n",
    "c_ = [sy.lambdify([qpx], tmp.subs(subs_dict)) for tmp in c]\n",
    "eqs = [eq_1, eq_2]\n",
    "g_ = sy.lambdify([qpx], g.subs(subs_dict))\n",
    "eqs_ = [sy.lambdify([qpx], tmp.subs(subs_dict)) for tmp in eqs]\n",
    "\n",
    "\n",
    "# dis_sum = sy.sqrt(eq_1 **2 + eq_2 **2)\n",
    "# dis_sum = eq_1 **2 + eq_2 **2\n",
    "\n",
    "dis_sum = (eq_1 **2 + eq_2 **2)*1000 - c5\n",
    "dis_sum_ = sy.lambdify([qpx], dis_sum.subs(subs_dict))\n",
    "\n",
    "dis_sum_jac = sy.Matrix([dis_sum.subs(subs_dict)]).jacobian(qpx)\n",
    "dis_sum_jac_ = sy.lambdify([qpx], dis_sum_jac)\n",
    "\n",
    "\n",
    "\n",
    "center_ = sy.lambdify([qpx[:8]], center.subs(subs_dict))\n",
    "\n",
    "\n"
   ],
   "metadata": {
    "collapsed": false,
    "ExecuteTime": {
     "end_time": "2024-03-25T14:30:54.587297261Z",
     "start_time": "2024-03-25T14:30:50.894848038Z"
    }
   },
   "id": "b66538565940ac1c"
  },
  {
   "cell_type": "code",
   "execution_count": 19,
   "outputs": [
    {
     "data": {
      "text/plain": "1000*(-r_0 - r_1 + sqrt((l_2*sin(q_2) + x_2 - (-sin(q_2)*cos(q_3) - sin(q_3)*cos(q_2))*(-l_0*cos(q_1)*cos(q_2 + q_3) - l_1*cos(q_2 + q_3) - l_2*cos(q_3) + x_0*cos(q_0 + q_1)*cos(q_2 + q_3) + x_1*sin(q_0 + q_1)*cos(q_2 + q_3) - x_2*sin(q_2 + q_3)))**2 + (-l_0*sin(q_0) - l_1*(sin(q_0)*cos(q_1) + sin(q_1)*cos(q_0)) - l_2*(sin(q_0)*cos(q_1) + sin(q_1)*cos(q_0))*cos(q_2) + x_1 - (-(sin(q_0)*cos(q_1) + sin(q_1)*cos(q_0))*sin(q_2)*sin(q_3) + (sin(q_0)*cos(q_1) + sin(q_1)*cos(q_0))*cos(q_2)*cos(q_3))*(-l_0*cos(q_1)*cos(q_2 + q_3) - l_1*cos(q_2 + q_3) - l_2*cos(q_3) + x_0*cos(q_0 + q_1)*cos(q_2 + q_3) + x_1*sin(q_0 + q_1)*cos(q_2 + q_3) - x_2*sin(q_2 + q_3)))**2 + (-l_0*cos(q_0) - l_1*(-sin(q_0)*sin(q_1) + cos(q_0)*cos(q_1)) - l_2*(-sin(q_0)*sin(q_1) + cos(q_0)*cos(q_1))*cos(q_2) + x_0 - (-(-sin(q_0)*sin(q_1) + cos(q_0)*cos(q_1))*sin(q_2)*sin(q_3) + (-sin(q_0)*sin(q_1) + cos(q_0)*cos(q_1))*cos(q_2)*cos(q_3))*(-l_0*cos(q_1)*cos(q_2 + q_3) - l_1*cos(q_2 + q_3) - l_2*cos(q_3) + x_0*cos(q_0 + q_1)*cos(q_2 + q_3) + x_1*sin(q_0 + q_1)*cos(q_2 + q_3) - x_2*sin(q_2 + q_3)))**2))**2 + 1000*(-r_0 - r_1 + sqrt((m_2*sin(p_2) - m_3*(-sin(p_2)*cos(p_3) - sin(p_3)*cos(p_2)) + x_2 - (-(-sin(p_2)*sin(p_3) + cos(p_2)*cos(p_3))*sin(p_4) + (-sin(p_2)*cos(p_3) - sin(p_3)*cos(p_2))*cos(p_4))*(-m_0*cos(p_1)*cos(p_2 + p_3 + p_4) - m_1*cos(p_2 + p_3 + p_4) - m_2*cos(p_3 + p_4) - m_3*cos(p_4) + x_0*cos(p_0 + p_1)*cos(p_2 + p_3 + p_4) + x_1*sin(p_0 + p_1)*cos(p_2 + p_3 + p_4) - x_2*sin(p_2 + p_3 + p_4)))**2 + (-m_0*sin(p_0) - m_1*(sin(p_0)*cos(p_1) + sin(p_1)*cos(p_0)) - m_2*(sin(p_0)*cos(p_1) + sin(p_1)*cos(p_0))*cos(p_2) - m_3*(-(sin(p_0)*cos(p_1) + sin(p_1)*cos(p_0))*sin(p_2)*sin(p_3) + (sin(p_0)*cos(p_1) + sin(p_1)*cos(p_0))*cos(p_2)*cos(p_3)) + x_1 - ((-(sin(p_0)*cos(p_1) + sin(p_1)*cos(p_0))*sin(p_2)*sin(p_3) + (sin(p_0)*cos(p_1) + sin(p_1)*cos(p_0))*cos(p_2)*cos(p_3))*cos(p_4) - ((sin(p_0)*cos(p_1) + sin(p_1)*cos(p_0))*sin(p_2)*cos(p_3) + (sin(p_0)*cos(p_1) + sin(p_1)*cos(p_0))*sin(p_3)*cos(p_2))*sin(p_4))*(-m_0*cos(p_1)*cos(p_2 + p_3 + p_4) - m_1*cos(p_2 + p_3 + p_4) - m_2*cos(p_3 + p_4) - m_3*cos(p_4) + x_0*cos(p_0 + p_1)*cos(p_2 + p_3 + p_4) + x_1*sin(p_0 + p_1)*cos(p_2 + p_3 + p_4) - x_2*sin(p_2 + p_3 + p_4)))**2 + (-m_0*cos(p_0) - m_1*(-sin(p_0)*sin(p_1) + cos(p_0)*cos(p_1)) - m_2*(-sin(p_0)*sin(p_1) + cos(p_0)*cos(p_1))*cos(p_2) - m_3*(-(-sin(p_0)*sin(p_1) + cos(p_0)*cos(p_1))*sin(p_2)*sin(p_3) + (-sin(p_0)*sin(p_1) + cos(p_0)*cos(p_1))*cos(p_2)*cos(p_3)) + x_0 - ((-(-sin(p_0)*sin(p_1) + cos(p_0)*cos(p_1))*sin(p_2)*sin(p_3) + (-sin(p_0)*sin(p_1) + cos(p_0)*cos(p_1))*cos(p_2)*cos(p_3))*cos(p_4) - ((-sin(p_0)*sin(p_1) + cos(p_0)*cos(p_1))*sin(p_2)*cos(p_3) + (-sin(p_0)*sin(p_1) + cos(p_0)*cos(p_1))*sin(p_3)*cos(p_2))*sin(p_4))*(-m_0*cos(p_1)*cos(p_2 + p_3 + p_4) - m_1*cos(p_2 + p_3 + p_4) - m_2*cos(p_3 + p_4) - m_3*cos(p_4) + x_0*cos(p_0 + p_1)*cos(p_2 + p_3 + p_4) + x_1*sin(p_0 + p_1)*cos(p_2 + p_3 + p_4) - x_2*sin(p_2 + p_3 + p_4)))**2))**2 + (l_2*sin(q_2) + x_2 - (-sin(q_2)*cos(q_3) - sin(q_3)*cos(q_2))*(-l_0*cos(q_1)*cos(q_2 + q_3) - l_1*cos(q_2 + q_3) - l_2*cos(q_3) + x_0*cos(q_0 + q_1)*cos(q_2 + q_3) + x_1*sin(q_0 + q_1)*cos(q_2 + q_3) - x_2*sin(q_2 + q_3)))*(m_2*sin(p_2) - m_3*(-sin(p_2)*cos(p_3) - sin(p_3)*cos(p_2)) + x_2 - (-(-sin(p_2)*sin(p_3) + cos(p_2)*cos(p_3))*sin(p_4) + (-sin(p_2)*cos(p_3) - sin(p_3)*cos(p_2))*cos(p_4))*(-m_0*cos(p_1)*cos(p_2 + p_3 + p_4) - m_1*cos(p_2 + p_3 + p_4) - m_2*cos(p_3 + p_4) - m_3*cos(p_4) + x_0*cos(p_0 + p_1)*cos(p_2 + p_3 + p_4) + x_1*sin(p_0 + p_1)*cos(p_2 + p_3 + p_4) - x_2*sin(p_2 + p_3 + p_4))) + (-l_0*sin(q_0) - l_1*(sin(q_0)*cos(q_1) + sin(q_1)*cos(q_0)) - l_2*(sin(q_0)*cos(q_1) + sin(q_1)*cos(q_0))*cos(q_2) + x_1 - (-(sin(q_0)*cos(q_1) + sin(q_1)*cos(q_0))*sin(q_2)*sin(q_3) + (sin(q_0)*cos(q_1) + sin(q_1)*cos(q_0))*cos(q_2)*cos(q_3))*(-l_0*cos(q_1)*cos(q_2 + q_3) - l_1*cos(q_2 + q_3) - l_2*cos(q_3) + x_0*cos(q_0 + q_1)*cos(q_2 + q_3) + x_1*sin(q_0 + q_1)*cos(q_2 + q_3) - x_2*sin(q_2 + q_3)))*(-m_0*sin(p_0) - m_1*(sin(p_0)*cos(p_1) + sin(p_1)*cos(p_0)) - m_2*(sin(p_0)*cos(p_1) + sin(p_1)*cos(p_0))*cos(p_2) - m_3*(-(sin(p_0)*cos(p_1) + sin(p_1)*cos(p_0))*sin(p_2)*sin(p_3) + (sin(p_0)*cos(p_1) + sin(p_1)*cos(p_0))*cos(p_2)*cos(p_3)) + x_1 - ((-(sin(p_0)*cos(p_1) + sin(p_1)*cos(p_0))*sin(p_2)*sin(p_3) + (sin(p_0)*cos(p_1) + sin(p_1)*cos(p_0))*cos(p_2)*cos(p_3))*cos(p_4) - ((sin(p_0)*cos(p_1) + sin(p_1)*cos(p_0))*sin(p_2)*cos(p_3) + (sin(p_0)*cos(p_1) + sin(p_1)*cos(p_0))*sin(p_3)*cos(p_2))*sin(p_4))*(-m_0*cos(p_1)*cos(p_2 + p_3 + p_4) - m_1*cos(p_2 + p_3 + p_4) - m_2*cos(p_3 + p_4) - m_3*cos(p_4) + x_0*cos(p_0 + p_1)*cos(p_2 + p_3 + p_4) + x_1*sin(p_0 + p_1)*cos(p_2 + p_3 + p_4) - x_2*sin(p_2 + p_3 + p_4))) + (-l_0*cos(q_0) - l_1*(-sin(q_0)*sin(q_1) + cos(q_0)*cos(q_1)) - l_2*(-sin(q_0)*sin(q_1) + cos(q_0)*cos(q_1))*cos(q_2) + x_0 - (-(-sin(q_0)*sin(q_1) + cos(q_0)*cos(q_1))*sin(q_2)*sin(q_3) + (-sin(q_0)*sin(q_1) + cos(q_0)*cos(q_1))*cos(q_2)*cos(q_3))*(-l_0*cos(q_1)*cos(q_2 + q_3) - l_1*cos(q_2 + q_3) - l_2*cos(q_3) + x_0*cos(q_0 + q_1)*cos(q_2 + q_3) + x_1*sin(q_0 + q_1)*cos(q_2 + q_3) - x_2*sin(q_2 + q_3)))*(-m_0*cos(p_0) - m_1*(-sin(p_0)*sin(p_1) + cos(p_0)*cos(p_1)) - m_2*(-sin(p_0)*sin(p_1) + cos(p_0)*cos(p_1))*cos(p_2) - m_3*(-(-sin(p_0)*sin(p_1) + cos(p_0)*cos(p_1))*sin(p_2)*sin(p_3) + (-sin(p_0)*sin(p_1) + cos(p_0)*cos(p_1))*cos(p_2)*cos(p_3)) + x_0 - ((-(-sin(p_0)*sin(p_1) + cos(p_0)*cos(p_1))*sin(p_2)*sin(p_3) + (-sin(p_0)*sin(p_1) + cos(p_0)*cos(p_1))*cos(p_2)*cos(p_3))*cos(p_4) - ((-sin(p_0)*sin(p_1) + cos(p_0)*cos(p_1))*sin(p_2)*cos(p_3) + (-sin(p_0)*sin(p_1) + cos(p_0)*cos(p_1))*sin(p_3)*cos(p_2))*sin(p_4))*(-m_0*cos(p_1)*cos(p_2 + p_3 + p_4) - m_1*cos(p_2 + p_3 + p_4) - m_2*cos(p_3 + p_4) - m_3*cos(p_4) + x_0*cos(p_0 + p_1)*cos(p_2 + p_3 + p_4) + x_1*sin(p_0 + p_1)*cos(p_2 + p_3 + p_4) - x_2*sin(p_2 + p_3 + p_4)))",
      "text/latex": "$\\displaystyle 1000 \\left(- r_{0} - r_{1} + \\sqrt{\\left(l_{2} \\sin{\\left(q_{2} \\right)} + x_{2} - \\left(- \\sin{\\left(q_{2} \\right)} \\cos{\\left(q_{3} \\right)} - \\sin{\\left(q_{3} \\right)} \\cos{\\left(q_{2} \\right)}\\right) \\left(- l_{0} \\cos{\\left(q_{1} \\right)} \\cos{\\left(q_{2} + q_{3} \\right)} - l_{1} \\cos{\\left(q_{2} + q_{3} \\right)} - l_{2} \\cos{\\left(q_{3} \\right)} + x_{0} \\cos{\\left(q_{0} + q_{1} \\right)} \\cos{\\left(q_{2} + q_{3} \\right)} + x_{1} \\sin{\\left(q_{0} + q_{1} \\right)} \\cos{\\left(q_{2} + q_{3} \\right)} - x_{2} \\sin{\\left(q_{2} + q_{3} \\right)}\\right)\\right)^{2} + \\left(- l_{0} \\sin{\\left(q_{0} \\right)} - l_{1} \\left(\\sin{\\left(q_{0} \\right)} \\cos{\\left(q_{1} \\right)} + \\sin{\\left(q_{1} \\right)} \\cos{\\left(q_{0} \\right)}\\right) - l_{2} \\left(\\sin{\\left(q_{0} \\right)} \\cos{\\left(q_{1} \\right)} + \\sin{\\left(q_{1} \\right)} \\cos{\\left(q_{0} \\right)}\\right) \\cos{\\left(q_{2} \\right)} + x_{1} - \\left(- \\left(\\sin{\\left(q_{0} \\right)} \\cos{\\left(q_{1} \\right)} + \\sin{\\left(q_{1} \\right)} \\cos{\\left(q_{0} \\right)}\\right) \\sin{\\left(q_{2} \\right)} \\sin{\\left(q_{3} \\right)} + \\left(\\sin{\\left(q_{0} \\right)} \\cos{\\left(q_{1} \\right)} + \\sin{\\left(q_{1} \\right)} \\cos{\\left(q_{0} \\right)}\\right) \\cos{\\left(q_{2} \\right)} \\cos{\\left(q_{3} \\right)}\\right) \\left(- l_{0} \\cos{\\left(q_{1} \\right)} \\cos{\\left(q_{2} + q_{3} \\right)} - l_{1} \\cos{\\left(q_{2} + q_{3} \\right)} - l_{2} \\cos{\\left(q_{3} \\right)} + x_{0} \\cos{\\left(q_{0} + q_{1} \\right)} \\cos{\\left(q_{2} + q_{3} \\right)} + x_{1} \\sin{\\left(q_{0} + q_{1} \\right)} \\cos{\\left(q_{2} + q_{3} \\right)} - x_{2} \\sin{\\left(q_{2} + q_{3} \\right)}\\right)\\right)^{2} + \\left(- l_{0} \\cos{\\left(q_{0} \\right)} - l_{1} \\left(- \\sin{\\left(q_{0} \\right)} \\sin{\\left(q_{1} \\right)} + \\cos{\\left(q_{0} \\right)} \\cos{\\left(q_{1} \\right)}\\right) - l_{2} \\left(- \\sin{\\left(q_{0} \\right)} \\sin{\\left(q_{1} \\right)} + \\cos{\\left(q_{0} \\right)} \\cos{\\left(q_{1} \\right)}\\right) \\cos{\\left(q_{2} \\right)} + x_{0} - \\left(- \\left(- \\sin{\\left(q_{0} \\right)} \\sin{\\left(q_{1} \\right)} + \\cos{\\left(q_{0} \\right)} \\cos{\\left(q_{1} \\right)}\\right) \\sin{\\left(q_{2} \\right)} \\sin{\\left(q_{3} \\right)} + \\left(- \\sin{\\left(q_{0} \\right)} \\sin{\\left(q_{1} \\right)} + \\cos{\\left(q_{0} \\right)} \\cos{\\left(q_{1} \\right)}\\right) \\cos{\\left(q_{2} \\right)} \\cos{\\left(q_{3} \\right)}\\right) \\left(- l_{0} \\cos{\\left(q_{1} \\right)} \\cos{\\left(q_{2} + q_{3} \\right)} - l_{1} \\cos{\\left(q_{2} + q_{3} \\right)} - l_{2} \\cos{\\left(q_{3} \\right)} + x_{0} \\cos{\\left(q_{0} + q_{1} \\right)} \\cos{\\left(q_{2} + q_{3} \\right)} + x_{1} \\sin{\\left(q_{0} + q_{1} \\right)} \\cos{\\left(q_{2} + q_{3} \\right)} - x_{2} \\sin{\\left(q_{2} + q_{3} \\right)}\\right)\\right)^{2}}\\right)^{2} + 1000 \\left(- r_{0} - r_{1} + \\sqrt{\\left(m_{2} \\sin{\\left(p_{2} \\right)} - m_{3} \\left(- \\sin{\\left(p_{2} \\right)} \\cos{\\left(p_{3} \\right)} - \\sin{\\left(p_{3} \\right)} \\cos{\\left(p_{2} \\right)}\\right) + x_{2} - \\left(- \\left(- \\sin{\\left(p_{2} \\right)} \\sin{\\left(p_{3} \\right)} + \\cos{\\left(p_{2} \\right)} \\cos{\\left(p_{3} \\right)}\\right) \\sin{\\left(p_{4} \\right)} + \\left(- \\sin{\\left(p_{2} \\right)} \\cos{\\left(p_{3} \\right)} - \\sin{\\left(p_{3} \\right)} \\cos{\\left(p_{2} \\right)}\\right) \\cos{\\left(p_{4} \\right)}\\right) \\left(- m_{0} \\cos{\\left(p_{1} \\right)} \\cos{\\left(p_{2} + p_{3} + p_{4} \\right)} - m_{1} \\cos{\\left(p_{2} + p_{3} + p_{4} \\right)} - m_{2} \\cos{\\left(p_{3} + p_{4} \\right)} - m_{3} \\cos{\\left(p_{4} \\right)} + x_{0} \\cos{\\left(p_{0} + p_{1} \\right)} \\cos{\\left(p_{2} + p_{3} + p_{4} \\right)} + x_{1} \\sin{\\left(p_{0} + p_{1} \\right)} \\cos{\\left(p_{2} + p_{3} + p_{4} \\right)} - x_{2} \\sin{\\left(p_{2} + p_{3} + p_{4} \\right)}\\right)\\right)^{2} + \\left(- m_{0} \\sin{\\left(p_{0} \\right)} - m_{1} \\left(\\sin{\\left(p_{0} \\right)} \\cos{\\left(p_{1} \\right)} + \\sin{\\left(p_{1} \\right)} \\cos{\\left(p_{0} \\right)}\\right) - m_{2} \\left(\\sin{\\left(p_{0} \\right)} \\cos{\\left(p_{1} \\right)} + \\sin{\\left(p_{1} \\right)} \\cos{\\left(p_{0} \\right)}\\right) \\cos{\\left(p_{2} \\right)} - m_{3} \\left(- \\left(\\sin{\\left(p_{0} \\right)} \\cos{\\left(p_{1} \\right)} + \\sin{\\left(p_{1} \\right)} \\cos{\\left(p_{0} \\right)}\\right) \\sin{\\left(p_{2} \\right)} \\sin{\\left(p_{3} \\right)} + \\left(\\sin{\\left(p_{0} \\right)} \\cos{\\left(p_{1} \\right)} + \\sin{\\left(p_{1} \\right)} \\cos{\\left(p_{0} \\right)}\\right) \\cos{\\left(p_{2} \\right)} \\cos{\\left(p_{3} \\right)}\\right) + x_{1} - \\left(\\left(- \\left(\\sin{\\left(p_{0} \\right)} \\cos{\\left(p_{1} \\right)} + \\sin{\\left(p_{1} \\right)} \\cos{\\left(p_{0} \\right)}\\right) \\sin{\\left(p_{2} \\right)} \\sin{\\left(p_{3} \\right)} + \\left(\\sin{\\left(p_{0} \\right)} \\cos{\\left(p_{1} \\right)} + \\sin{\\left(p_{1} \\right)} \\cos{\\left(p_{0} \\right)}\\right) \\cos{\\left(p_{2} \\right)} \\cos{\\left(p_{3} \\right)}\\right) \\cos{\\left(p_{4} \\right)} - \\left(\\left(\\sin{\\left(p_{0} \\right)} \\cos{\\left(p_{1} \\right)} + \\sin{\\left(p_{1} \\right)} \\cos{\\left(p_{0} \\right)}\\right) \\sin{\\left(p_{2} \\right)} \\cos{\\left(p_{3} \\right)} + \\left(\\sin{\\left(p_{0} \\right)} \\cos{\\left(p_{1} \\right)} + \\sin{\\left(p_{1} \\right)} \\cos{\\left(p_{0} \\right)}\\right) \\sin{\\left(p_{3} \\right)} \\cos{\\left(p_{2} \\right)}\\right) \\sin{\\left(p_{4} \\right)}\\right) \\left(- m_{0} \\cos{\\left(p_{1} \\right)} \\cos{\\left(p_{2} + p_{3} + p_{4} \\right)} - m_{1} \\cos{\\left(p_{2} + p_{3} + p_{4} \\right)} - m_{2} \\cos{\\left(p_{3} + p_{4} \\right)} - m_{3} \\cos{\\left(p_{4} \\right)} + x_{0} \\cos{\\left(p_{0} + p_{1} \\right)} \\cos{\\left(p_{2} + p_{3} + p_{4} \\right)} + x_{1} \\sin{\\left(p_{0} + p_{1} \\right)} \\cos{\\left(p_{2} + p_{3} + p_{4} \\right)} - x_{2} \\sin{\\left(p_{2} + p_{3} + p_{4} \\right)}\\right)\\right)^{2} + \\left(- m_{0} \\cos{\\left(p_{0} \\right)} - m_{1} \\left(- \\sin{\\left(p_{0} \\right)} \\sin{\\left(p_{1} \\right)} + \\cos{\\left(p_{0} \\right)} \\cos{\\left(p_{1} \\right)}\\right) - m_{2} \\left(- \\sin{\\left(p_{0} \\right)} \\sin{\\left(p_{1} \\right)} + \\cos{\\left(p_{0} \\right)} \\cos{\\left(p_{1} \\right)}\\right) \\cos{\\left(p_{2} \\right)} - m_{3} \\left(- \\left(- \\sin{\\left(p_{0} \\right)} \\sin{\\left(p_{1} \\right)} + \\cos{\\left(p_{0} \\right)} \\cos{\\left(p_{1} \\right)}\\right) \\sin{\\left(p_{2} \\right)} \\sin{\\left(p_{3} \\right)} + \\left(- \\sin{\\left(p_{0} \\right)} \\sin{\\left(p_{1} \\right)} + \\cos{\\left(p_{0} \\right)} \\cos{\\left(p_{1} \\right)}\\right) \\cos{\\left(p_{2} \\right)} \\cos{\\left(p_{3} \\right)}\\right) + x_{0} - \\left(\\left(- \\left(- \\sin{\\left(p_{0} \\right)} \\sin{\\left(p_{1} \\right)} + \\cos{\\left(p_{0} \\right)} \\cos{\\left(p_{1} \\right)}\\right) \\sin{\\left(p_{2} \\right)} \\sin{\\left(p_{3} \\right)} + \\left(- \\sin{\\left(p_{0} \\right)} \\sin{\\left(p_{1} \\right)} + \\cos{\\left(p_{0} \\right)} \\cos{\\left(p_{1} \\right)}\\right) \\cos{\\left(p_{2} \\right)} \\cos{\\left(p_{3} \\right)}\\right) \\cos{\\left(p_{4} \\right)} - \\left(\\left(- \\sin{\\left(p_{0} \\right)} \\sin{\\left(p_{1} \\right)} + \\cos{\\left(p_{0} \\right)} \\cos{\\left(p_{1} \\right)}\\right) \\sin{\\left(p_{2} \\right)} \\cos{\\left(p_{3} \\right)} + \\left(- \\sin{\\left(p_{0} \\right)} \\sin{\\left(p_{1} \\right)} + \\cos{\\left(p_{0} \\right)} \\cos{\\left(p_{1} \\right)}\\right) \\sin{\\left(p_{3} \\right)} \\cos{\\left(p_{2} \\right)}\\right) \\sin{\\left(p_{4} \\right)}\\right) \\left(- m_{0} \\cos{\\left(p_{1} \\right)} \\cos{\\left(p_{2} + p_{3} + p_{4} \\right)} - m_{1} \\cos{\\left(p_{2} + p_{3} + p_{4} \\right)} - m_{2} \\cos{\\left(p_{3} + p_{4} \\right)} - m_{3} \\cos{\\left(p_{4} \\right)} + x_{0} \\cos{\\left(p_{0} + p_{1} \\right)} \\cos{\\left(p_{2} + p_{3} + p_{4} \\right)} + x_{1} \\sin{\\left(p_{0} + p_{1} \\right)} \\cos{\\left(p_{2} + p_{3} + p_{4} \\right)} - x_{2} \\sin{\\left(p_{2} + p_{3} + p_{4} \\right)}\\right)\\right)^{2}}\\right)^{2} + \\left(l_{2} \\sin{\\left(q_{2} \\right)} + x_{2} - \\left(- \\sin{\\left(q_{2} \\right)} \\cos{\\left(q_{3} \\right)} - \\sin{\\left(q_{3} \\right)} \\cos{\\left(q_{2} \\right)}\\right) \\left(- l_{0} \\cos{\\left(q_{1} \\right)} \\cos{\\left(q_{2} + q_{3} \\right)} - l_{1} \\cos{\\left(q_{2} + q_{3} \\right)} - l_{2} \\cos{\\left(q_{3} \\right)} + x_{0} \\cos{\\left(q_{0} + q_{1} \\right)} \\cos{\\left(q_{2} + q_{3} \\right)} + x_{1} \\sin{\\left(q_{0} + q_{1} \\right)} \\cos{\\left(q_{2} + q_{3} \\right)} - x_{2} \\sin{\\left(q_{2} + q_{3} \\right)}\\right)\\right) \\left(m_{2} \\sin{\\left(p_{2} \\right)} - m_{3} \\left(- \\sin{\\left(p_{2} \\right)} \\cos{\\left(p_{3} \\right)} - \\sin{\\left(p_{3} \\right)} \\cos{\\left(p_{2} \\right)}\\right) + x_{2} - \\left(- \\left(- \\sin{\\left(p_{2} \\right)} \\sin{\\left(p_{3} \\right)} + \\cos{\\left(p_{2} \\right)} \\cos{\\left(p_{3} \\right)}\\right) \\sin{\\left(p_{4} \\right)} + \\left(- \\sin{\\left(p_{2} \\right)} \\cos{\\left(p_{3} \\right)} - \\sin{\\left(p_{3} \\right)} \\cos{\\left(p_{2} \\right)}\\right) \\cos{\\left(p_{4} \\right)}\\right) \\left(- m_{0} \\cos{\\left(p_{1} \\right)} \\cos{\\left(p_{2} + p_{3} + p_{4} \\right)} - m_{1} \\cos{\\left(p_{2} + p_{3} + p_{4} \\right)} - m_{2} \\cos{\\left(p_{3} + p_{4} \\right)} - m_{3} \\cos{\\left(p_{4} \\right)} + x_{0} \\cos{\\left(p_{0} + p_{1} \\right)} \\cos{\\left(p_{2} + p_{3} + p_{4} \\right)} + x_{1} \\sin{\\left(p_{0} + p_{1} \\right)} \\cos{\\left(p_{2} + p_{3} + p_{4} \\right)} - x_{2} \\sin{\\left(p_{2} + p_{3} + p_{4} \\right)}\\right)\\right) + \\left(- l_{0} \\sin{\\left(q_{0} \\right)} - l_{1} \\left(\\sin{\\left(q_{0} \\right)} \\cos{\\left(q_{1} \\right)} + \\sin{\\left(q_{1} \\right)} \\cos{\\left(q_{0} \\right)}\\right) - l_{2} \\left(\\sin{\\left(q_{0} \\right)} \\cos{\\left(q_{1} \\right)} + \\sin{\\left(q_{1} \\right)} \\cos{\\left(q_{0} \\right)}\\right) \\cos{\\left(q_{2} \\right)} + x_{1} - \\left(- \\left(\\sin{\\left(q_{0} \\right)} \\cos{\\left(q_{1} \\right)} + \\sin{\\left(q_{1} \\right)} \\cos{\\left(q_{0} \\right)}\\right) \\sin{\\left(q_{2} \\right)} \\sin{\\left(q_{3} \\right)} + \\left(\\sin{\\left(q_{0} \\right)} \\cos{\\left(q_{1} \\right)} + \\sin{\\left(q_{1} \\right)} \\cos{\\left(q_{0} \\right)}\\right) \\cos{\\left(q_{2} \\right)} \\cos{\\left(q_{3} \\right)}\\right) \\left(- l_{0} \\cos{\\left(q_{1} \\right)} \\cos{\\left(q_{2} + q_{3} \\right)} - l_{1} \\cos{\\left(q_{2} + q_{3} \\right)} - l_{2} \\cos{\\left(q_{3} \\right)} + x_{0} \\cos{\\left(q_{0} + q_{1} \\right)} \\cos{\\left(q_{2} + q_{3} \\right)} + x_{1} \\sin{\\left(q_{0} + q_{1} \\right)} \\cos{\\left(q_{2} + q_{3} \\right)} - x_{2} \\sin{\\left(q_{2} + q_{3} \\right)}\\right)\\right) \\left(- m_{0} \\sin{\\left(p_{0} \\right)} - m_{1} \\left(\\sin{\\left(p_{0} \\right)} \\cos{\\left(p_{1} \\right)} + \\sin{\\left(p_{1} \\right)} \\cos{\\left(p_{0} \\right)}\\right) - m_{2} \\left(\\sin{\\left(p_{0} \\right)} \\cos{\\left(p_{1} \\right)} + \\sin{\\left(p_{1} \\right)} \\cos{\\left(p_{0} \\right)}\\right) \\cos{\\left(p_{2} \\right)} - m_{3} \\left(- \\left(\\sin{\\left(p_{0} \\right)} \\cos{\\left(p_{1} \\right)} + \\sin{\\left(p_{1} \\right)} \\cos{\\left(p_{0} \\right)}\\right) \\sin{\\left(p_{2} \\right)} \\sin{\\left(p_{3} \\right)} + \\left(\\sin{\\left(p_{0} \\right)} \\cos{\\left(p_{1} \\right)} + \\sin{\\left(p_{1} \\right)} \\cos{\\left(p_{0} \\right)}\\right) \\cos{\\left(p_{2} \\right)} \\cos{\\left(p_{3} \\right)}\\right) + x_{1} - \\left(\\left(- \\left(\\sin{\\left(p_{0} \\right)} \\cos{\\left(p_{1} \\right)} + \\sin{\\left(p_{1} \\right)} \\cos{\\left(p_{0} \\right)}\\right) \\sin{\\left(p_{2} \\right)} \\sin{\\left(p_{3} \\right)} + \\left(\\sin{\\left(p_{0} \\right)} \\cos{\\left(p_{1} \\right)} + \\sin{\\left(p_{1} \\right)} \\cos{\\left(p_{0} \\right)}\\right) \\cos{\\left(p_{2} \\right)} \\cos{\\left(p_{3} \\right)}\\right) \\cos{\\left(p_{4} \\right)} - \\left(\\left(\\sin{\\left(p_{0} \\right)} \\cos{\\left(p_{1} \\right)} + \\sin{\\left(p_{1} \\right)} \\cos{\\left(p_{0} \\right)}\\right) \\sin{\\left(p_{2} \\right)} \\cos{\\left(p_{3} \\right)} + \\left(\\sin{\\left(p_{0} \\right)} \\cos{\\left(p_{1} \\right)} + \\sin{\\left(p_{1} \\right)} \\cos{\\left(p_{0} \\right)}\\right) \\sin{\\left(p_{3} \\right)} \\cos{\\left(p_{2} \\right)}\\right) \\sin{\\left(p_{4} \\right)}\\right) \\left(- m_{0} \\cos{\\left(p_{1} \\right)} \\cos{\\left(p_{2} + p_{3} + p_{4} \\right)} - m_{1} \\cos{\\left(p_{2} + p_{3} + p_{4} \\right)} - m_{2} \\cos{\\left(p_{3} + p_{4} \\right)} - m_{3} \\cos{\\left(p_{4} \\right)} + x_{0} \\cos{\\left(p_{0} + p_{1} \\right)} \\cos{\\left(p_{2} + p_{3} + p_{4} \\right)} + x_{1} \\sin{\\left(p_{0} + p_{1} \\right)} \\cos{\\left(p_{2} + p_{3} + p_{4} \\right)} - x_{2} \\sin{\\left(p_{2} + p_{3} + p_{4} \\right)}\\right)\\right) + \\left(- l_{0} \\cos{\\left(q_{0} \\right)} - l_{1} \\left(- \\sin{\\left(q_{0} \\right)} \\sin{\\left(q_{1} \\right)} + \\cos{\\left(q_{0} \\right)} \\cos{\\left(q_{1} \\right)}\\right) - l_{2} \\left(- \\sin{\\left(q_{0} \\right)} \\sin{\\left(q_{1} \\right)} + \\cos{\\left(q_{0} \\right)} \\cos{\\left(q_{1} \\right)}\\right) \\cos{\\left(q_{2} \\right)} + x_{0} - \\left(- \\left(- \\sin{\\left(q_{0} \\right)} \\sin{\\left(q_{1} \\right)} + \\cos{\\left(q_{0} \\right)} \\cos{\\left(q_{1} \\right)}\\right) \\sin{\\left(q_{2} \\right)} \\sin{\\left(q_{3} \\right)} + \\left(- \\sin{\\left(q_{0} \\right)} \\sin{\\left(q_{1} \\right)} + \\cos{\\left(q_{0} \\right)} \\cos{\\left(q_{1} \\right)}\\right) \\cos{\\left(q_{2} \\right)} \\cos{\\left(q_{3} \\right)}\\right) \\left(- l_{0} \\cos{\\left(q_{1} \\right)} \\cos{\\left(q_{2} + q_{3} \\right)} - l_{1} \\cos{\\left(q_{2} + q_{3} \\right)} - l_{2} \\cos{\\left(q_{3} \\right)} + x_{0} \\cos{\\left(q_{0} + q_{1} \\right)} \\cos{\\left(q_{2} + q_{3} \\right)} + x_{1} \\sin{\\left(q_{0} + q_{1} \\right)} \\cos{\\left(q_{2} + q_{3} \\right)} - x_{2} \\sin{\\left(q_{2} + q_{3} \\right)}\\right)\\right) \\left(- m_{0} \\cos{\\left(p_{0} \\right)} - m_{1} \\left(- \\sin{\\left(p_{0} \\right)} \\sin{\\left(p_{1} \\right)} + \\cos{\\left(p_{0} \\right)} \\cos{\\left(p_{1} \\right)}\\right) - m_{2} \\left(- \\sin{\\left(p_{0} \\right)} \\sin{\\left(p_{1} \\right)} + \\cos{\\left(p_{0} \\right)} \\cos{\\left(p_{1} \\right)}\\right) \\cos{\\left(p_{2} \\right)} - m_{3} \\left(- \\left(- \\sin{\\left(p_{0} \\right)} \\sin{\\left(p_{1} \\right)} + \\cos{\\left(p_{0} \\right)} \\cos{\\left(p_{1} \\right)}\\right) \\sin{\\left(p_{2} \\right)} \\sin{\\left(p_{3} \\right)} + \\left(- \\sin{\\left(p_{0} \\right)} \\sin{\\left(p_{1} \\right)} + \\cos{\\left(p_{0} \\right)} \\cos{\\left(p_{1} \\right)}\\right) \\cos{\\left(p_{2} \\right)} \\cos{\\left(p_{3} \\right)}\\right) + x_{0} - \\left(\\left(- \\left(- \\sin{\\left(p_{0} \\right)} \\sin{\\left(p_{1} \\right)} + \\cos{\\left(p_{0} \\right)} \\cos{\\left(p_{1} \\right)}\\right) \\sin{\\left(p_{2} \\right)} \\sin{\\left(p_{3} \\right)} + \\left(- \\sin{\\left(p_{0} \\right)} \\sin{\\left(p_{1} \\right)} + \\cos{\\left(p_{0} \\right)} \\cos{\\left(p_{1} \\right)}\\right) \\cos{\\left(p_{2} \\right)} \\cos{\\left(p_{3} \\right)}\\right) \\cos{\\left(p_{4} \\right)} - \\left(\\left(- \\sin{\\left(p_{0} \\right)} \\sin{\\left(p_{1} \\right)} + \\cos{\\left(p_{0} \\right)} \\cos{\\left(p_{1} \\right)}\\right) \\sin{\\left(p_{2} \\right)} \\cos{\\left(p_{3} \\right)} + \\left(- \\sin{\\left(p_{0} \\right)} \\sin{\\left(p_{1} \\right)} + \\cos{\\left(p_{0} \\right)} \\cos{\\left(p_{1} \\right)}\\right) \\sin{\\left(p_{3} \\right)} \\cos{\\left(p_{2} \\right)}\\right) \\sin{\\left(p_{4} \\right)}\\right) \\left(- m_{0} \\cos{\\left(p_{1} \\right)} \\cos{\\left(p_{2} + p_{3} + p_{4} \\right)} - m_{1} \\cos{\\left(p_{2} + p_{3} + p_{4} \\right)} - m_{2} \\cos{\\left(p_{3} + p_{4} \\right)} - m_{3} \\cos{\\left(p_{4} \\right)} + x_{0} \\cos{\\left(p_{0} + p_{1} \\right)} \\cos{\\left(p_{2} + p_{3} + p_{4} \\right)} + x_{1} \\sin{\\left(p_{0} + p_{1} \\right)} \\cos{\\left(p_{2} + p_{3} + p_{4} \\right)} - x_{2} \\sin{\\left(p_{2} + p_{3} + p_{4} \\right)}\\right)\\right)$"
     },
     "execution_count": 19,
     "metadata": {},
     "output_type": "execute_result"
    }
   ],
   "source": [
    "dis_sum"
   ],
   "metadata": {
    "collapsed": false,
    "ExecuteTime": {
     "end_time": "2024-03-25T14:30:54.736390213Z",
     "start_time": "2024-03-25T14:30:54.588782007Z"
    }
   },
   "id": "f58ed949688cea7b"
  },
  {
   "cell_type": "code",
   "execution_count": 19,
   "outputs": [],
   "source": [
    "\n",
    "\n"
   ],
   "metadata": {
    "collapsed": false,
    "ExecuteTime": {
     "end_time": "2024-03-25T14:30:54.782244813Z",
     "start_time": "2024-03-25T14:30:54.736317802Z"
    }
   },
   "id": "f8e07d0fa729d162"
  },
  {
   "cell_type": "code",
   "execution_count": 20,
   "outputs": [
    {
     "data": {
      "text/plain": "0.03474583996653735"
     },
     "execution_count": 20,
     "metadata": {},
     "output_type": "execute_result"
    }
   ],
   "source": [
    "c_[4]([0.1]*4 + [0.1]*4 + [0.05]*3)  # test the value, using 24 µs"
   ],
   "metadata": {
    "collapsed": false,
    "ExecuteTime": {
     "end_time": "2024-03-25T14:30:54.782859332Z",
     "start_time": "2024-03-25T14:30:54.782036130Z"
    }
   },
   "id": "1651ad0244bf8689"
  },
  {
   "cell_type": "code",
   "execution_count": 21,
   "outputs": [
    {
     "data": {
      "text/plain": "0.689104702231812"
     },
     "execution_count": 21,
     "metadata": {},
     "output_type": "execute_result"
    }
   ],
   "source": [
    "g_([0.1]*4 + [0.1]*4 + [0.05]*3) "
   ],
   "metadata": {
    "collapsed": false,
    "ExecuteTime": {
     "end_time": "2024-03-25T14:30:54.784016023Z",
     "start_time": "2024-03-25T14:30:54.782405844Z"
    }
   },
   "id": "8bcc969c56ebd9b7"
  },
  {
   "cell_type": "code",
   "execution_count": 22,
   "outputs": [
    {
     "data": {
      "text/plain": "0.030868546439511264"
     },
     "execution_count": 22,
     "metadata": {},
     "output_type": "execute_result"
    }
   ],
   "source": [
    "eqs_[0]([0.1]*4 + [0.1]*4 + [0.05]*3)\n"
   ],
   "metadata": {
    "collapsed": false,
    "ExecuteTime": {
     "end_time": "2024-03-25T14:30:54.785157363Z",
     "start_time": "2024-03-25T14:30:54.782659825Z"
    }
   },
   "id": "110fd45f21379dc5"
  },
  {
   "cell_type": "code",
   "execution_count": 23,
   "outputs": [],
   "source": [
    "# optimization\n",
    "cons = ()\n",
    "for k in c_:\n",
    "    cons += ({'type': 'ineq', 'fun': k},)\n",
    "# for k in eqs_:\n",
    "#     cons += ({'type': 'eq', 'fun': k},)\n",
    "\n",
    "# bounds\n",
    "joint_bnds = ((-np.pi/2, np.pi/2),(-np.pi/2, np.pi/2),(-np.pi/2, np.pi/2),(-np.pi/2, np.pi/2))\n",
    "xyz_bounds = ((0, l_[0]*5), (0, l_[0]*5), (-l_[0]*5 , l_[0]*5))\n",
    "bnds = joint_bnds + joint_bnds + xyz_bounds\n",
    "\n",
    "\n",
    "alpha = 10\n",
    "\n",
    "# cost function\n",
    "def cos_fun(x):\n",
    "    # return g_(x)\n",
    "    return dis_sum_(x) * alpha\n",
    "\n",
    "# Jacobian of cost function\n",
    "def jac(x):\n",
    "    return dis_sum_jac_(x) * alpha\n"
   ],
   "metadata": {
    "collapsed": false,
    "ExecuteTime": {
     "end_time": "2024-03-25T14:30:54.786293184Z",
     "start_time": "2024-03-25T14:30:54.782933544Z"
    }
   },
   "id": "cf5a736d504bba2c"
  },
  {
   "cell_type": "code",
   "execution_count": 24,
   "outputs": [],
   "source": [
    "# visualize the grasping synthesis in MuJoCo\n",
    "import gait_test.hand_generator_from_genes as hg\n",
    "import mujoco\n",
    "from mujoco import viewer\n",
    "from controller_full import Robot\n",
    "\n",
    "fingers = [1,1] + [0] *6\n",
    "dofs = [4] * 8\n",
    "link_lengths = [l_[0], m_[0]] + [1] * 6\n",
    "\n",
    "hand = hg.crawling_hand(fingers, dofs, link_lengths, objects=True, d_angle=p0)  # build the robot xml file\n",
    "xml_data = hand.return_xml()\n",
    "model = mujoco.MjModel.from_xml_string(xml_data)\n",
    "data = mujoco.MjData(model)\n",
    "\n",
    "view = viewer.launch_passive(model, data)\n",
    "robot = Robot(model, data, view, fingers, dofs, auto_sync=True, obj_names=['sphere_1'])\n",
    "\n"
   ],
   "metadata": {
    "collapsed": false,
    "ExecuteTime": {
     "end_time": "2024-03-25T14:30:55.097142314Z",
     "start_time": "2024-03-25T14:30:54.785072012Z"
    }
   },
   "id": "ccf1bfb68cc42aee"
  },
  {
   "cell_type": "code",
   "execution_count": 25,
   "outputs": [
    {
     "name": "stdout",
     "output_type": "stream",
     "text": [
      "Optimization terminated successfully    (Exit mode 0)\n",
      "            Current function value: -0.0008915246684785613\n",
      "            Iterations: 27\n",
      "            Function evaluations: 45\n",
      "            Gradient evaluations: 27\n"
     ]
    }
   ],
   "source": [
    "from scipy.optimize import minimize\n",
    "\n",
    "x0 = [0.1]*4 + [0.1]*4 + [0.05,0.05,0]\n",
    "x0 = [0]*8 + [0.225, 0.1, 0.01]\n",
    "q_init = np.ones(8) * 0.01 \n",
    "x0 = center_(q_init).flatten()\n",
    "x0 = np.concatenate([q_init, x0])\n",
    "res = minimize(dis_sum_, x0, jac=dis_sum_jac_, method='SLSQP',  bounds=bnds, constraints=cons, options={'maxiter':1000, 'disp':1})  #  0.45 s with a good initial guess\n"
   ],
   "metadata": {
    "collapsed": false,
    "ExecuteTime": {
     "end_time": "2024-03-25T14:30:55.718049793Z",
     "start_time": "2024-03-25T14:30:55.098279424Z"
    }
   },
   "id": "2419ab31a488408d"
  },
  {
   "cell_type": "code",
   "execution_count": 26,
   "outputs": [
    {
     "name": "stdout",
     "output_type": "stream",
     "text": [
      "1.3016743010886567e-05\n",
      "3.16070649583923e-05\n"
     ]
    }
   ],
   "source": [
    "print(eqs_[0](res.x))\n",
    "print(eqs_[1](res.x))"
   ],
   "metadata": {
    "collapsed": false,
    "ExecuteTime": {
     "end_time": "2024-03-25T14:30:55.719344537Z",
     "start_time": "2024-03-25T14:30:55.717930768Z"
    }
   },
   "id": "e56ab4bb9e632918"
  },
  {
   "cell_type": "code",
   "execution_count": 27,
   "outputs": [],
   "source": [
    "robot.d.qpos[2] = 0.3\n",
    "position = res.x[-3:] + robot.x[:3]\n",
    "robot.modify_first_finger(res.x[:8])\n",
    "\n",
    "obj_name = 'sphere_1'\n",
    "robot.modify_obj_pose(obj_name, position)\n"
   ],
   "metadata": {
    "collapsed": false,
    "ExecuteTime": {
     "end_time": "2024-03-25T14:30:55.720245441Z",
     "start_time": "2024-03-25T14:30:55.718302644Z"
    }
   },
   "id": "12e28e2bae49b0f2"
  },
  {
   "cell_type": "code",
   "execution_count": 28,
   "outputs": [
    {
     "data": {
      "text/plain": "1.3016743010886567e-05"
     },
     "execution_count": 28,
     "metadata": {},
     "output_type": "execute_result"
    }
   ],
   "source": [
    "eq_1_ = sy.lambdify([qpx], eq_1.subs(subs_dict))\n",
    "eq_1_(res.x)"
   ],
   "metadata": {
    "collapsed": false,
    "ExecuteTime": {
     "end_time": "2024-03-25T14:30:55.769332746Z",
     "start_time": "2024-03-25T14:30:55.718593348Z"
    }
   },
   "id": "7b12c6d6272b4a9a"
  },
  {
   "cell_type": "code",
   "execution_count": 29,
   "outputs": [
    {
     "data": {
      "text/plain": "array([0.18280354, 0.07557834, 0.30174097])"
     },
     "execution_count": 29,
     "metadata": {},
     "output_type": "execute_result"
    }
   ],
   "source": [
    "position"
   ],
   "metadata": {
    "collapsed": false,
    "ExecuteTime": {
     "end_time": "2024-03-25T14:30:55.770286144Z",
     "start_time": "2024-03-25T14:30:55.750668845Z"
    }
   },
   "id": "973caaf56cc1b672"
  },
  {
   "cell_type": "code",
   "execution_count": 29,
   "outputs": [],
   "source": [],
   "metadata": {
    "collapsed": false,
    "ExecuteTime": {
     "end_time": "2024-03-25T14:30:55.770473757Z",
     "start_time": "2024-03-25T14:30:55.759474148Z"
    }
   },
   "id": "20df9e3e9f6d1307"
  },
  {
   "cell_type": "code",
   "execution_count": 30,
   "outputs": [],
   "source": [
    "# import xml.etree.ElementTree as ET\n",
    "# \n",
    "# root = ET.fromstring(xml_data)\n",
    "# with open(\"bookstore.xml\", \"w\") as file:\n",
    "#     file.write(ET.tostring(root, encoding='unicode'))"
   ],
   "metadata": {
    "collapsed": false,
    "ExecuteTime": {
     "end_time": "2024-03-25T14:30:55.771417818Z",
     "start_time": "2024-03-25T14:30:55.762033940Z"
    }
   },
   "id": "bdef6cb7fc0940c8"
  },
  {
   "cell_type": "code",
   "execution_count": 31,
   "outputs": [
    {
     "data": {
      "text/plain": "     fun: -0.0008944498310629659\n     jac: array([-2.23339114e-03, -2.37000745e-04, -1.48088520e-04, -5.99641452e-05,\n       -3.82024930e-03,  5.03944058e-05,  2.78561837e-05,  5.26776409e-06,\n       -1.53007375e-02,  3.04195802e-02, -1.43646304e-03])\n message: 'Optimization terminated successfully'\n    nfev: 41\n     nit: 24\n    njev: 24\n  status: 0\n success: True\n       x: array([ 0.39688331,  0.22125101,  0.02427272, -0.38741435, -0.26673268,\n        0.08353305,  0.06912879,  0.0015972 ,  0.20386   ,  0.09703196,\n       -0.01783123])"
     },
     "execution_count": 31,
     "metadata": {},
     "output_type": "execute_result"
    }
   ],
   "source": [
    "from grasping_synthesis import grasping\n",
    "\n",
    "g1 = grasping()\n",
    "l_ = [0.05]*5     # link length\n",
    "m_ = [0.05]*5     # link length\n",
    "r_ = [0.01, 0.02]  # radius\n",
    "q0 = 0\n",
    "\n",
    "\n",
    "p0 = np.pi/4   # angle for finger placement\n",
    "g1.generate_grasp(l_,m_,r_,q0,p0,)\n"
   ],
   "metadata": {
    "collapsed": false,
    "ExecuteTime": {
     "end_time": "2024-03-25T14:31:00.611048773Z",
     "start_time": "2024-03-25T14:30:55.770102037Z"
    }
   },
   "id": "87b4cd62656098d8"
  }
 ],
 "metadata": {
  "kernelspec": {
   "display_name": "Python 3",
   "language": "python",
   "name": "python3"
  },
  "language_info": {
   "codemirror_mode": {
    "name": "ipython",
    "version": 2
   },
   "file_extension": ".py",
   "mimetype": "text/x-python",
   "name": "python",
   "nbconvert_exporter": "python",
   "pygments_lexer": "ipython2",
   "version": "2.7.6"
  }
 },
 "nbformat": 4,
 "nbformat_minor": 5
}
