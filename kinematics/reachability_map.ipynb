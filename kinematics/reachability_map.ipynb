{
 "cells": [
  {
   "cell_type": "code",
   "execution_count": null,
   "id": "initial_id",
   "metadata": {
    "collapsed": true
   },
   "outputs": [],
   "source": [
    "import numpy as np\n",
    "import pytorch_kinematics as pk"
   ]
  },
  {
   "cell_type": "code",
   "execution_count": null,
   "outputs": [],
   "source": [
    "xml_path = '../descriptions/2_finger_hand_ssss_v2.xml'\n",
    "chain = pk.build_chain_from_mjcf(xml_path, 'hand')\n",
    "\n"
   ],
   "metadata": {
    "collapsed": false
   },
   "id": "da1dc354739c9e32"
  },
  {
   "cell_type": "code",
   "execution_count": null,
   "outputs": [],
   "source": [
    "finger_joint_limit = np.array([[-np.pi / 2, -np.pi / 2, -np.pi / 2, -np.pi / 2],\n",
    "                                   [np.pi / 2, np.pi / 2, np.pi / 2, np.pi / 2]])\n",
    "\n",
    "nums = 100000\n",
    "q_rand_1 = np.random.uniform(finger_joint_limit[0,:], finger_joint_limit[1,:], size=(nums,4))\n",
    "q_rand_2 = np.random.uniform(finger_joint_limit[0,:], finger_joint_limit[1,:], size=(nums,4))\n",
    "q_rand = np.concatenate([q_rand_1, q_rand_2], axis=1)\n",
    "\n",
    "ret = chain.forward_kinematics(q_rand,\n",
    "                                       end_only=False)\n",
    "\n",
    "ret0 = chain.forward_kinematics(np.zeros(8),\n",
    "                                       end_only=False)"
   ],
   "metadata": {
    "collapsed": false
   },
   "id": "bf26562036566e4c"
  },
  {
   "cell_type": "code",
   "execution_count": null,
   "outputs": [],
   "source": [
    "ret0.keys()"
   ],
   "metadata": {
    "collapsed": false
   },
   "id": "e086b479586efa71"
  },
  {
   "cell_type": "code",
   "execution_count": null,
   "outputs": [],
   "source": [
    "ret0['finger_1_site_4'].get_matrix()"
   ],
   "metadata": {
    "collapsed": false
   },
   "id": "c84b3d32a0999d4f"
  },
  {
   "cell_type": "code",
   "execution_count": null,
   "outputs": [],
   "source": [
    "color = np.array([[[254,240,217],\n",
    "                    [253,212,158],\n",
    "                    [253,187,132],\n",
    "                    [252,141,89],\n",
    "                    [227,74,51],\n",
    "                    [179,0,0]],\n",
    "                  [[241,238,246],\n",
    "                    [208,209,230],\n",
    "                    [166,189,219],\n",
    "                    [116,169,207],\n",
    "                    [43,140,190],\n",
    "                    [4,90,141]]]) / 255"
   ],
   "metadata": {
    "collapsed": false
   },
   "id": "8750e45dd6c79bb1"
  },
  {
   "cell_type": "code",
   "execution_count": null,
   "outputs": [],
   "source": [
    "color.shape"
   ],
   "metadata": {
    "collapsed": false
   },
   "id": "ac2c0d23a9675693"
  },
  {
   "cell_type": "code",
   "execution_count": null,
   "outputs": [],
   "source": [
    "print(color[1,3,:])"
   ],
   "metadata": {
    "collapsed": false
   },
   "id": "dc38b3985d927ad6"
  },
  {
   "cell_type": "code",
   "execution_count": null,
   "outputs": [],
   "source": [
    "print(np.array([166,189,219])/255)"
   ],
   "metadata": {
    "collapsed": false
   },
   "id": "cb378e92c7127ff0"
  },
  {
   "cell_type": "code",
   "execution_count": null,
   "outputs": [],
   "source": [
    "%matplotlib notebook\n",
    "\n",
    "iF = 1\n",
    "joint_names = ['MCP_spread_' + str(iF), 'MCP_' + str(iF), 'PIP_' + str(iF), 'DIP_' + str(iF)]\n",
    "\n",
    "import matplotlib.pyplot as plt\n",
    "fig = plt.figure()\n",
    "ax = fig.add_subplot(111, projection='3d')\n",
    "\n",
    "alpha = 0.5\n",
    "link_names = [[],[]]\n",
    "\n",
    "for iF in [1, 2]:\n",
    "    link_names[iF-1] = ['finger_' + str(iF) +'_tip', 'finger_'+ str(iF) +'_site_1', 'finger_'+ str(iF) +'_site_2', 'finger_'+ str(iF) +'_site_3', 'finger_'+ str(iF) +'_site_4']\n",
    "    link_positions = []\n",
    "    for j, link in enumerate(link_names[iF-1]):\n",
    "        link_position = ret[link].get_matrix()[:, :3, 3].cpu().numpy()\n",
    "        link_positions.append(link_position)\n",
    "        ax.scatter(link_position[:, 0], link_position[:, 1], link_position[:, 2], c=tuple(color[iF-1, j, :].flatten()) + (alpha,), s=0.1, marker='o')\n",
    "    \n",
    "\n",
    "ax.set_xlabel('X (m)')\n",
    "ax.set_ylabel('Y (m)')\n",
    "ax.set_zlabel('Z (m)')\n",
    "fig.savefig('reachability_map_2_fingers.jpg', format='jpg', bbox_inches='tight',  pad_inches=0.2, dpi=600)"
   ],
   "metadata": {
    "collapsed": false
   },
   "id": "9d066bc33ab00f54"
  },
  {
   "cell_type": "code",
   "execution_count": null,
   "outputs": [],
   "source": [
    "import xml.etree.ElementTree as ET\n",
    "\n",
    "mesh_dir = '../descriptions/v2/meshes/'\n",
    "robot_links = ['base_link_1', 'MCP_spread_motor_1', 'MCP_motor_1','proximal_1','PIP_motor_1', 'middle_1', 'DIP_motor_1', 'distal_1','metacarpal_1']\n",
    "\n",
    "alpha_robot = 1\n",
    "colors = [(0.7, 0.7, 0.7, alpha_robot), \n",
    "          (0.3, 0.3, 0.3, alpha_robot), \n",
    "          (0.3, 0.3, 0.3, alpha_robot),\n",
    "          (0.7, 0.7, 0.7, alpha_robot), \n",
    "          (0.3, 0.3, 0.3, alpha_robot),\n",
    "          (0.7, 0.7, 0.7, alpha_robot),\n",
    "          (0.3, 0.3, 0.3, alpha_robot),\n",
    "          (0, 0.7, 0, alpha_robot),\n",
    "          (0.7, 0.7, 0.7, alpha_robot)]  \n",
    "\n"
   ],
   "metadata": {
    "collapsed": false
   },
   "id": "9202e4f723c7503d"
  },
  {
   "cell_type": "code",
   "execution_count": null,
   "outputs": [],
   "source": [
    "link_names"
   ],
   "metadata": {
    "collapsed": false
   },
   "id": "41db27761697eed7"
  },
  {
   "cell_type": "code",
   "execution_count": null,
   "outputs": [],
   "source": [
    "import faiss\n",
    "def remove_abnormal_points(points):\n",
    "    # k from k-NN\n",
    "    k = 5\n",
    "    \n",
    "    index = faiss.IndexFlatL2(points.shape[1])  \n",
    "    index.add(points)  \n",
    "    \n",
    "    distances, indices = index.search(points, k + 1)  \n",
    "    \n",
    "    mean_distances = distances[:, 1:].mean(axis=1)\n",
    "    \n",
    "    threshold = np.mean(mean_distances) + 1.4 * np.std(mean_distances)\n",
    "    filtered_points = points[mean_distances < threshold]\n",
    "    \n",
    "    print(f\"number of points: {len(points)}\")\n",
    "    print(f\"number of filtered points: {len(filtered_points)}\")\n",
    "\n",
    "    return filtered_points"
   ],
   "metadata": {
    "collapsed": false
   },
   "id": "909b74cb84334c01"
  },
  {
   "cell_type": "code",
   "execution_count": null,
   "outputs": [],
   "source": [
    "import alphashape\n",
    "import matplotlib.pyplot as plt\n",
    "from mpl_toolkits.mplot3d.art3d import Poly3DCollection\n",
    "from scipy.spatial import Delaunay\n",
    "# plot the robot\n",
    "import trimesh\n",
    "from mpl_toolkits.mplot3d import Axes3D, art3d\n",
    "\n",
    "fig = plt.figure()\n",
    "ax = fig.add_subplot(111, projection='3d')\n",
    "\n",
    "replace_link_names = ['finger_1', 'MCP_spread_motor_1','MCP_motor_1','PIP_motor_1','DIP_motor_1' ]\n",
    "ori_link_names = ['base_link_1', 'metacarpal_1','proximal_1','middle_1','distal_1']\n",
    "\n",
    "for i, link in enumerate(robot_links):\n",
    "    if link == 'base_link_1':\n",
    "        load_link = 'base_link'\n",
    "    else: \n",
    "        load_link = link\n",
    "        \n",
    "    mesh = trimesh.load(mesh_dir + load_link + '.stl')\n",
    "    if link in ori_link_names:\n",
    "        index_re = ori_link_names.index(link)\n",
    "        replace_link_name = replace_link_names[index_re]\n",
    "        pose = ret0[replace_link_name].get_matrix()[0,:,:].cpu().numpy()\n",
    "    else:\n",
    "        pose = ret0[link].get_matrix()[0,:,:].cpu().numpy()\n",
    "        \n",
    "    mesh.apply_transform(pose)\n",
    "    vertices = mesh.vertices/1000\n",
    "    faces = mesh.faces \n",
    "    poly3d = [[vertices[vertex] for vertex in face] for face in faces]\n",
    "\n",
    "    mesh_collection = art3d.Poly3DCollection(poly3d, facecolor=colors[i])\n",
    "    ax.add_collection3d(mesh_collection)\n",
    "\n",
    "\n",
    "\n",
    "ps = []\n",
    "for iF in [1, 2]:\n",
    "    for i in range(2):   # range of links\n",
    "        \n",
    "        points = np.concatenate([ret[link_names[iF-1][i]].get_matrix()[:, :3, 3].cpu().numpy(),\n",
    "                                 ret[link_names[iF-1][i+1]].get_matrix()[:, :3, 3].cpu().numpy()], axis=0)\n",
    "        \n",
    "        points = remove_abnormal_points(points)\n",
    "\n",
    "        ps.append(points)\n",
    "        # \n",
    "        # # \n",
    "        alpha = 0.0001 # may try different aplha value\n",
    "        mesh = alphashape.alphashape(points, alpha)\n",
    "        mesh.export(mesh_dir + str(iF) + str(i) + '.stl')\n",
    "      \n",
    "        # \n",
    "        # # plot pointcloud\n",
    "        # ax.scatter(points[:, 0], points[:, 1], points[:, 2], s=10, color='blue', alpha=0.1)\n",
    "        # plot alpha shape \n",
    "        faces = np.array(mesh.faces)\n",
    "        vertices = np.array(mesh.vertices)\n",
    "        poly3d = [[vertices[vertex] for vertex in face] for face in faces]\n",
    "        ax.add_collection3d(Poly3DCollection(poly3d, alpha=0.5, color=tuple(color[iF-1, i+2, :].flatten()), edgecolor='none'))\n",
    "\n",
    "\n",
    "ax.set_xlabel('X')\n",
    "ax.set_ylabel('Y')\n",
    "ax.set_zlabel('Z')\n",
    "\n",
    "ps = np.vstack(ps)\n",
    "min_x, max_x = np.min(ps[:, 0]), np.max(ps[:, 0])\n",
    "min_y, max_y = np.min(ps[:, 1]), np.max(ps[:, 1])\n",
    "min_z, max_z = np.min(ps[:, 2]), np.max(ps[:, 2])\n",
    "\n",
    "ax.set_xlim([min_x, max_x])\n",
    "ax.set_ylim([min_y, max_y])\n",
    "ax.set_zlim([min_z, max_z])\n",
    "\n",
    "# plt.show()\n",
    "fig.savefig('reachability_map_2_fingers_v2.jpg', format='jpg', bbox_inches='tight',  pad_inches=0.2, dpi=600)\n"
   ],
   "metadata": {
    "collapsed": false
   },
   "id": "a1869ebe4e890c74"
  },
  {
   "cell_type": "code",
   "execution_count": null,
   "outputs": [],
   "source": [
    "points = np.concatenate([ret[link_names[iF-1][i]].get_matrix()[:, :3, 3].cpu().numpy(),\n",
    "                                 ret[link_names[iF-1][i+1]].get_matrix()[:, :3, 3].cpu().numpy()], axis=0)\n",
    "a = Delaunay(points)\n"
   ],
   "metadata": {
    "collapsed": false
   },
   "id": "bdca362d062f5907"
  },
  {
   "cell_type": "code",
   "execution_count": null,
   "outputs": [],
   "source": [
    "points"
   ],
   "metadata": {
    "collapsed": false
   },
   "id": "b4c0a86a0375685f"
  },
  {
   "cell_type": "code",
   "execution_count": null,
   "outputs": [],
   "source": [
    "from skimage import measure\n",
    "\n",
    "verts, faces, normals, values = measure.marching_cubes(points, level=0.5)\n"
   ],
   "metadata": {
    "collapsed": false
   },
   "id": "e923e2e43ccfd9a1"
  }
 ],
 "metadata": {
  "kernelspec": {
   "display_name": "Python 3",
   "language": "python",
   "name": "python3"
  },
  "language_info": {
   "codemirror_mode": {
    "name": "ipython",
    "version": 2
   },
   "file_extension": ".py",
   "mimetype": "text/x-python",
   "name": "python",
   "nbconvert_exporter": "python",
   "pygments_lexer": "ipython2",
   "version": "2.7.6"
  }
 },
 "nbformat": 4,
 "nbformat_minor": 5
}
