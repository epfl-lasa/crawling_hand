{
 "cells": [
  {
   "cell_type": "code",
   "execution_count": 1,
   "outputs": [
    {
     "ename": "ModuleNotFoundError",
     "evalue": "No module named 'rclpy'",
     "output_type": "error",
     "traceback": [
      "\u001B[0;31m---------------------------------------------------------------------------\u001B[0m",
      "\u001B[0;31mModuleNotFoundError\u001B[0m                       Traceback (most recent call last)",
      "Cell \u001B[0;32mIn[1], line 10\u001B[0m\n\u001B[1;32m      7\u001B[0m \u001B[38;5;66;03m# import pytorch_kinematics as pk\u001B[39;00m\n\u001B[1;32m      9\u001B[0m \u001B[38;5;28;01mfrom\u001B[39;00m \u001B[38;5;21;01mcontroller\u001B[39;00m \u001B[38;5;28;01mimport\u001B[39;00m locomotion\n\u001B[0;32m---> 10\u001B[0m \u001B[38;5;28;01mfrom\u001B[39;00m \u001B[38;5;21;01mcontrol_interface_real_robot\u001B[39;00m \u001B[38;5;28;01mimport\u001B[39;00m real_robot\n\u001B[1;32m     11\u001B[0m \u001B[38;5;28;01mimport\u001B[39;00m \u001B[38;5;21;01mmujoco\u001B[39;00m\n\u001B[1;32m     12\u001B[0m \u001B[38;5;28;01mimport\u001B[39;00m \u001B[38;5;21;01mcvxpy\u001B[39;00m \u001B[38;5;28;01mas\u001B[39;00m \u001B[38;5;21;01mcp\u001B[39;00m\n",
      "File \u001B[0;32m~/research/lasa/mujoco_new/crawling_robot/control_interface_real_robot.py:4\u001B[0m\n\u001B[1;32m      1\u001B[0m \u001B[38;5;28;01mimport\u001B[39;00m \u001B[38;5;21;01mcopy\u001B[39;00m\n\u001B[1;32m      3\u001B[0m \u001B[38;5;28;01mimport\u001B[39;00m \u001B[38;5;21;01mnumpy\u001B[39;00m \u001B[38;5;28;01mas\u001B[39;00m \u001B[38;5;21;01mnp\u001B[39;00m\n\u001B[0;32m----> 4\u001B[0m \u001B[38;5;28;01mimport\u001B[39;00m \u001B[38;5;21;01mrclpy\u001B[39;00m\n\u001B[1;32m      5\u001B[0m \u001B[38;5;28;01mfrom\u001B[39;00m \u001B[38;5;21;01mrclpy\u001B[39;00m\u001B[38;5;21;01m.\u001B[39;00m\u001B[38;5;21;01mnode\u001B[39;00m \u001B[38;5;28;01mimport\u001B[39;00m Node\n\u001B[1;32m      7\u001B[0m \u001B[38;5;28;01mfrom\u001B[39;00m \u001B[38;5;21;01msensor_msgs\u001B[39;00m\u001B[38;5;21;01m.\u001B[39;00m\u001B[38;5;21;01mmsg\u001B[39;00m \u001B[38;5;28;01mimport\u001B[39;00m JointState\n",
      "\u001B[0;31mModuleNotFoundError\u001B[0m: No module named 'rclpy'"
     ]
    }
   ],
   "source": [
    "import time\n",
    "\n",
    "import numpy as np\n",
    "# import torch\n",
    "\n",
    "import tools.rotations as rot\n",
    "# import pytorch_kinematics as pk\n",
    "\n",
    "from controller import locomotion\n",
    "from control_interface_real_robot import real_robot\n",
    "import mujoco\n",
    "import cvxpy as cp\n",
    "from control_interface_real_robot import q_sim2real\n",
    "\n",
    "import copy\n",
    "%load_ext autoreload\n",
    "%autoreload 2"
   ],
   "metadata": {
    "collapsed": false,
    "ExecuteTime": {
     "end_time": "2024-07-03T13:02:18.225527821Z",
     "start_time": "2024-07-03T13:02:16.485673060Z"
    }
   }
  },
  {
   "cell_type": "code",
   "execution_count": 2,
   "outputs": [
    {
     "data": {
      "text/plain": "'/usr/bin/python3'"
     },
     "execution_count": 2,
     "metadata": {},
     "output_type": "execute_result"
    }
   ],
   "source": [
    "import sys\n",
    "sys.executable"
   ],
   "metadata": {
    "collapsed": false,
    "ExecuteTime": {
     "end_time": "2024-05-26T14:04:05.545453465Z",
     "start_time": "2024-05-26T14:04:05.085783844Z"
    }
   }
  },
  {
   "cell_type": "code",
   "execution_count": 3,
   "outputs": [
    {
     "name": "stdout",
     "output_type": "stream",
     "text": [
      "leg num: 5\n"
     ]
    }
   ],
   "source": [
    "hand_real = real_robot(control_mode='position', legs=5)"
   ],
   "metadata": {
    "collapsed": false,
    "ExecuteTime": {
     "end_time": "2024-05-26T14:04:05.561278342Z",
     "start_time": "2024-05-26T14:04:05.106002461Z"
    }
   }
  },
  {
   "cell_type": "code",
   "execution_count": 4,
   "outputs": [
    {
     "data": {
      "text/plain": "array([ 0.32980588,  0.20248547, -0.4878059 ,  0.01994175,  0.15953401,\n       -0.13499032,  0.15493207,  0.23623304, -0.28225246, -0.42644668,\n        0.18100974, -0.21629129,  0.05522331,  0.02914564, -0.04141748])"
     },
     "execution_count": 4,
     "metadata": {},
     "output_type": "execute_result"
    }
   ],
   "source": [
    "hand_real.update_data()\n",
    "hand_real.q"
   ],
   "metadata": {
    "collapsed": false,
    "ExecuteTime": {
     "end_time": "2024-05-26T14:04:05.562450030Z",
     "start_time": "2024-05-26T14:04:05.327709038Z"
    }
   }
  },
  {
   "cell_type": "code",
   "execution_count": 5,
   "outputs": [
    {
     "data": {
      "text/plain": "(27,)"
     },
     "execution_count": 5,
     "metadata": {},
     "output_type": "execute_result"
    }
   ],
   "source": [
    "q0 = np.array([-1.62289571e-04, -3.50667052e-04,  7.98538815e-02,  9.99999738e-01,\n",
    "       -4.46340938e-04,  5.67392530e-04, -4.89152197e-05, \n",
    "               -0.7,   7.91144283e-01,  0.3,  0.3,\n",
    "               0,  7.93214611e-01,  0.3,  0.3,  0.00000000e+00,\n",
    "               -1.47079633e+00, -8.00000000e-01, -8.00000000e-01, \n",
    "               -6.26414686e-06,  7.93034999e-01,  0.3,  0.3,\n",
    "               -1.00000000e+00,  7.92384667e-01,  0.3,  0.3])\n",
    "q0.shape"
   ],
   "metadata": {
    "collapsed": false,
    "ExecuteTime": {
     "end_time": "2024-05-26T14:04:07.870462631Z",
     "start_time": "2024-05-26T14:04:07.857862675Z"
    }
   }
  },
  {
   "cell_type": "code",
   "execution_count": 2,
   "outputs": [
    {
     "name": "stdout",
     "output_type": "stream",
     "text": [
      "Start to load xml file to build the kinematics. This might take about 20s, but only for the first time.\n",
      "Kinematic model has been saved to kinematics/q2pose_5.txt\n",
      "locomotion freq 1.0\n"
     ]
    },
    {
     "ename": "NameError",
     "evalue": "name 'copy' is not defined",
     "output_type": "error",
     "traceback": [
      "\u001B[0;31m---------------------------------------------------------------------------\u001B[0m",
      "\u001B[0;31mNameError\u001B[0m                                 Traceback (most recent call last)",
      "Cell \u001B[0;32mIn[2], line 25\u001B[0m\n\u001B[1;32m     23\u001B[0m     \u001B[38;5;28;01mif\u001B[39;00m time\u001B[38;5;241m.\u001B[39mtime() \u001B[38;5;241m-\u001B[39m t0 \u001B[38;5;241m>\u001B[39m \u001B[38;5;241m2\u001B[39m:\n\u001B[1;32m     24\u001B[0m         \u001B[38;5;28;01mbreak\u001B[39;00m\n\u001B[0;32m---> 25\u001B[0m xh_local_init \u001B[38;5;241m=\u001B[39m \u001B[43mcopy\u001B[49m\u001B[38;5;241m.\u001B[39mdeepcopy(r\u001B[38;5;241m.\u001B[39mxh_local)\n",
      "\u001B[0;31mNameError\u001B[0m: name 'copy' is not defined"
     ]
    }
   ],
   "source": [
    "# test pytorch kinematics\n",
    "xml_path = 'descriptions/five_finger_hand_ssss.xml'\n",
    "# chain = pk.build_chain_from_mjcf('descriptions/single_finger_ssss.xml', 'finger_1')\n",
    "# print(chain)\n",
    "q0 = np.array([-1.62289571e-04, -3.50667052e-04,  7.98538815e-02,  9.99999738e-01,\n",
    "       -4.46340938e-04,  5.67392530e-04, -4.89152197e-05, \n",
    "               0,   7.91144283e-01,  0.3,  0.3,\n",
    "               0,   7.91144283e-01,  0.3,  0.3, \n",
    "               0,   7.91144283e-01,  0.3,  0.3, \n",
    "               0,   7.91144283e-01,  0.3,  0.3,\n",
    "               0,   7.91144283e-01,  0.3,  0.3,\n",
    "               ])\n",
    "r = locomotion(xml_path, q0=q0)\n",
    "\n",
    "print('locomotion freq', r.f)\n",
    "# take a rest to let the acceleration to zero\n",
    "t0 = time.time()\n",
    "q0 = np.copy(r.q)\n",
    "while 1:\n",
    "    # r.step()\n",
    "    # r.send_torque(r.C)\n",
    "    r.joint_computed_torque_control(q0)\n",
    "    if time.time() - t0 > 2:\n",
    "        break\n",
    "import  copy\n",
    "xh_local_init = copy.deepcopy(r.xh_local) "
   ],
   "metadata": {
    "collapsed": false,
    "ExecuteTime": {
     "end_time": "2024-07-03T13:02:43.648415462Z",
     "start_time": "2024-07-03T13:02:23.334875046Z"
    }
   }
  },
  {
   "cell_type": "code",
   "execution_count": 4,
   "outputs": [],
   "source": [
    "t0 = time.time()\n",
    "q0 = np.copy(r.q)\n",
    "while 1:\n",
    "    # r.step()\n",
    "    # r.send_torque(r.C)\n",
    "    r.joint_computed_torque_control(q0)\n",
    "    if time.time() - t0 > 2:\n",
    "        break\n",
    "import  copy\n",
    "xh_local_init = copy.deepcopy(r.xh_local) "
   ],
   "metadata": {
    "collapsed": false,
    "ExecuteTime": {
     "end_time": "2024-07-03T13:03:27.832859952Z",
     "start_time": "2024-07-03T13:03:25.830195300Z"
    }
   }
  },
  {
   "cell_type": "code",
   "execution_count": null,
   "outputs": [],
   "source": [
    "xh_local_init"
   ],
   "metadata": {
    "collapsed": false
   }
  },
  {
   "cell_type": "code",
   "execution_count": null,
   "outputs": [],
   "source": [
    "hand_real.q"
   ],
   "metadata": {
    "collapsed": false
   }
  },
  {
   "cell_type": "code",
   "execution_count": null,
   "outputs": [],
   "source": [
    "# q0 = np.array([ 0.13345633,   0.69029135,  0.41264084 , \n",
    "#                 -0.3,  0.69029135,  0.41264084,\n",
    "#                 -0.00153398,   0.69029135,  0.41264084, \n",
    "#                 -0.11965051,  0.69029135,  0.41264084,\n",
    "#                 1,   0.69029135,  0.41264084])\n",
    "# \n",
    "# \n",
    "# # q_cmd = q_sim2real(q0, legs=5)\n",
    "# hand_real.move_to_joints(q0.reshape(1,-1), sim2real=False)  # move to init pose"
   ],
   "metadata": {
    "collapsed": false
   }
  },
  {
   "cell_type": "code",
   "execution_count": null,
   "outputs": [],
   "source": [
    "hand_real.update_data()\n",
    "hand_real.q"
   ],
   "metadata": {
    "collapsed": false
   }
  },
  {
   "cell_type": "code",
   "execution_count": null,
   "outputs": [],
   "source": [
    "# q_cmd = np.zeros(12)\n",
    "# q_cmd[0] = 0.5\n",
    "# hand_real.move_to_joints(q_cmd)\n",
    "\n",
    "# q_cmd_sim = np.zeros(20)\n",
    "# q_cmd_sim[13] = 0 \n",
    "# q_cmd_sim[17] = 0\n",
    "# r.modify_joint(q_cmd_sim)\n",
    "\n",
    "# q_cmd = q_sim2real(q0, legs=5)\n",
    "# \n",
    "# hand_real.move_to_joints(q_cmd, sim2real=False)  # move to init pose\n",
    "# hand_real.send_position(q_cmd)\n",
    "# hand_real.move_to_joints_by_vel(q_cmd)\n"
   ],
   "metadata": {
    "collapsed": false
   }
  },
  {
   "cell_type": "code",
   "execution_count": 344,
   "outputs": [
    {
     "data": {
      "text/plain": "array([ 0.  , -0.01])"
     },
     "execution_count": 344,
     "metadata": {},
     "output_type": "execute_result"
    }
   ],
   "source": [
    "xy_step"
   ],
   "metadata": {
    "collapsed": false,
    "ExecuteTime": {
     "end_time": "2024-05-26T18:32:48.274585825Z",
     "start_time": "2024-05-26T18:32:48.258500886Z"
    }
   }
  },
  {
   "cell_type": "code",
   "execution_count": 351,
   "outputs": [
    {
     "ename": "KeyboardInterrupt",
     "evalue": "",
     "output_type": "error",
     "traceback": [
      "\u001B[0;31m---------------------------------------------------------------------------\u001B[0m",
      "\u001B[0;31mKeyboardInterrupt\u001B[0m                         Traceback (most recent call last)",
      "Cell \u001B[0;32mIn[351], line 56\u001B[0m\n\u001B[1;32m     53\u001B[0m     x_cmd[i][\u001B[38;5;241m2\u001B[39m] \u001B[38;5;241m=\u001B[39m xh_local_init[i][\u001B[38;5;241m2\u001B[39m]\n\u001B[1;32m     55\u001B[0m q_desired \u001B[38;5;241m=\u001B[39m r\u001B[38;5;241m.\u001B[39mhand_kine\u001B[38;5;241m.\u001B[39mik(x_cmd, q_init\u001B[38;5;241m=\u001B[39mq_desired)\n\u001B[0;32m---> 56\u001B[0m \u001B[43mr\u001B[49m\u001B[38;5;241;43m.\u001B[39;49m\u001B[43mjoint_computed_torque_control\u001B[49m\u001B[43m(\u001B[49m\u001B[43mq_desired\u001B[49m\u001B[43m)\u001B[49m\n\u001B[1;32m     57\u001B[0m \u001B[38;5;66;03m# k += 1\u001B[39;00m\n\u001B[1;32m     58\u001B[0m \u001B[38;5;66;03m# q_desired[8:12] = q0[8:12]\u001B[39;00m\n\u001B[1;32m     59\u001B[0m q_cmd \u001B[38;5;241m=\u001B[39m q_sim2real(q_desired, legs\u001B[38;5;241m=\u001B[39m\u001B[38;5;241m5\u001B[39m)\n",
      "File \u001B[0;32m~/research/lasa/mujoco_new/crawling_robot/controller.py:390\u001B[0m, in \u001B[0;36mRobot.joint_computed_torque_control\u001B[0;34m(self, q, dq, ddq, return_tau)\u001B[0m\n\u001B[1;32m    388\u001B[0m     \u001B[38;5;28;01mreturn\u001B[39;00m tau\n\u001B[1;32m    389\u001B[0m \u001B[38;5;28;01melse\u001B[39;00m:\n\u001B[0;32m--> 390\u001B[0m     \u001B[38;5;28;43mself\u001B[39;49m\u001B[38;5;241;43m.\u001B[39;49m\u001B[43msend_torque\u001B[49m\u001B[43m(\u001B[49m\u001B[43mtau\u001B[49m\u001B[43m)\u001B[49m\n",
      "File \u001B[0;32m~/research/lasa/mujoco_new/crawling_robot/controller.py:154\u001B[0m, in \u001B[0;36mRobot.send_torque\u001B[0;34m(self, torque, torque_limit)\u001B[0m\n\u001B[1;32m    151\u001B[0m mujoco\u001B[38;5;241m.\u001B[39mmj_step(\u001B[38;5;28mself\u001B[39m\u001B[38;5;241m.\u001B[39mm, \u001B[38;5;28mself\u001B[39m\u001B[38;5;241m.\u001B[39md)\n\u001B[1;32m    153\u001B[0m \u001B[38;5;28;01mif\u001B[39;00m \u001B[38;5;28mself\u001B[39m\u001B[38;5;241m.\u001B[39mauto_sync:\n\u001B[0;32m--> 154\u001B[0m     \u001B[38;5;28;43mself\u001B[39;49m\u001B[38;5;241;43m.\u001B[39;49m\u001B[43msync\u001B[49m\u001B[43m(\u001B[49m\u001B[43m)\u001B[49m\n",
      "File \u001B[0;32m~/research/lasa/mujoco_new/crawling_robot/controller.py:111\u001B[0m, in \u001B[0;36mRobot.sync\u001B[0;34m(self)\u001B[0m\n\u001B[1;32m    109\u001B[0m \u001B[38;5;28;01mdef\u001B[39;00m \u001B[38;5;21msync\u001B[39m(\u001B[38;5;28mself\u001B[39m):\n\u001B[1;32m    110\u001B[0m     \u001B[38;5;28;01mif\u001B[39;00m \u001B[38;5;28mself\u001B[39m\u001B[38;5;241m.\u001B[39mview \u001B[38;5;129;01mis\u001B[39;00m \u001B[38;5;129;01mnot\u001B[39;00m \u001B[38;5;28;01mNone\u001B[39;00m:\n\u001B[0;32m--> 111\u001B[0m         \u001B[38;5;28;43mself\u001B[39;49m\u001B[38;5;241;43m.\u001B[39;49m\u001B[43mview\u001B[49m\u001B[38;5;241;43m.\u001B[39;49m\u001B[43msync\u001B[49m\u001B[43m(\u001B[49m\u001B[43m)\u001B[49m\n\u001B[1;32m    112\u001B[0m         \u001B[38;5;28mself\u001B[39m\u001B[38;5;241m.\u001B[39m_update_contact_force()\n",
      "File \u001B[0;32m~/.local/lib/python3.10/site-packages/mujoco/viewer.py:125\u001B[0m, in \u001B[0;36mHandle.sync\u001B[0;34m(self)\u001B[0m\n\u001B[1;32m    123\u001B[0m sim \u001B[38;5;241m=\u001B[39m \u001B[38;5;28mself\u001B[39m\u001B[38;5;241m.\u001B[39m_get_sim()\n\u001B[1;32m    124\u001B[0m \u001B[38;5;28;01mif\u001B[39;00m sim \u001B[38;5;129;01mis\u001B[39;00m \u001B[38;5;129;01mnot\u001B[39;00m \u001B[38;5;28;01mNone\u001B[39;00m:\n\u001B[0;32m--> 125\u001B[0m   \u001B[43msim\u001B[49m\u001B[38;5;241;43m.\u001B[39;49m\u001B[43msync\u001B[49m\u001B[43m(\u001B[49m\u001B[43m)\u001B[49m\n",
      "\u001B[0;31mKeyboardInterrupt\u001B[0m: "
     ]
    }
   ],
   "source": [
    "## gait design for four legs\n",
    " # this is the init position\n",
    "\n",
    "\n",
    "t0 = time.time()\n",
    "r.f = 2\n",
    "T = 1 / r.f\n",
    "v = np.array([0.0, -0.04,0]) \n",
    "# v = np.array([0.04,0 ,0]) \n",
    "# v = np.array([0, -0.02,0])\n",
    "h = 0.05  # z axis lifting height for swing legs\n",
    "r.vel_cmd[:3] = v\n",
    "\n",
    "xy_step = v[:2] * T/2 * 0.5  # based the MIT paper\n",
    "x_cmd = copy.deepcopy(xh_local_init)\n",
    "x_cmd = [a[:3] for a in x_cmd]  # position command for legs\n",
    "q_cmd_list = []\n",
    "t_total = 10 * T\n",
    "\n",
    "k = 0\n",
    "q_desired = copy.deepcopy(r.q)\n",
    "while 1:\n",
    "    \n",
    "    tau_Grf = np.zeros(20)\n",
    "    t_now  = time.time() - t0\n",
    "    t_period = t_now % (1/r.f)  # [0, T]\n",
    "    \n",
    "    if t_period < T/2: # FL and BR, front left and back right legs move during [0, T/2]\n",
    "        swing_legs = [0, 2, 3]\n",
    "        stance_legs = [1, 4]\n",
    "        # swing_legs = [0, 1]\n",
    "        # stance_legs = [3, 4]\n",
    "    else:\n",
    "        swing_legs = [1, 4]\n",
    "        stance_legs = [0, 2, 3]\n",
    "        # swing_legs = [3, 4]\n",
    "        # stance_legs = [0, 1]\n",
    "    \n",
    "    # update vel direction in hand base frame\n",
    "    # xy_step = rot.quat2mat(r.x[3:]).T @ np.array([xy_step[0], xy_step[1], 0])\n",
    "    # xy_step = xy_step[:2]\n",
    "    for i in swing_legs:\n",
    "        t_tmp = t_period % (T/2)\n",
    "        x_cmd[i][:2] = r.bezier(t_tmp/ (T/2), xh_local_init[i][:2] - xy_step, xh_local_init[i][:2] + xy_step)\n",
    "        if t_tmp <= T/4:\n",
    "            x_cmd[i][2] = r.bezier(t_tmp /(T/4), xh_local_init[i][2], xh_local_init[i][2] + h)  # z axis\n",
    "        else:\n",
    "            x_cmd[i][2] = r.bezier((t_tmp - T/4) /(T/4), xh_local_init[i][2] + h, xh_local_init[i][2])\n",
    "    \n",
    "    for i in stance_legs:\n",
    "        t_tmp = t_period % (T/2)\n",
    "        x_cmd[i][:2] = r.bezier(t_tmp /(T/2), xh_local_init[i][:2] + xy_step, xh_local_init[i][:2] - xy_step)\n",
    "        x_cmd[i][2] = xh_local_init[i][2]\n",
    "    \n",
    "    q_desired = r.hand_kine.ik(x_cmd, q_init=q_desired)\n",
    "    r.joint_computed_torque_control(q_desired)\n",
    "    # k += 1\n",
    "    # q_desired[8:12] = q0[8:12]\n",
    "    q_cmd = q_sim2real(q_desired, legs=5)\n",
    "    q_cmd_list.append(q_cmd)\n",
    "    # hand_real.send_position(q_cmd)\n",
    "\n",
    "    if t_now > t_total:\n",
    "        break\n",
    "\n",
    "q_cmd_list = np.vstack(q_cmd_list)\n",
    "q_cmd_list.shape"
   ],
   "metadata": {
    "collapsed": false,
    "ExecuteTime": {
     "end_time": "2024-05-26T18:33:53.099040053Z",
     "start_time": "2024-05-26T18:33:49.053323072Z"
    }
   }
  },
  {
   "cell_type": "code",
   "execution_count": 352,
   "outputs": [],
   "source": [
    "def generate_traj(v=np.array([0.0, -0.04,0]), w=None, f = 2, num=1):\n",
    "    \"\"\"\n",
    "    generate trajctory for moving forward or rotation    \n",
    "    :param v: \n",
    "    :param w: \n",
    "    :param f: frequency\n",
    "    :param num: number of period\n",
    "    :return: \n",
    "    \"\"\"    \n",
    "    T = 1 / f\n",
    "    # v = np.array([0.0, -0.04,0]) \n",
    "    # # v = np.array([0.04,0 ,0]) \n",
    "    # # v = np.array([0, -0.02,0])\n",
    "    h = 0.05  # z axis lifting height for swing legs\n",
    "    \n",
    "    if w is None:\n",
    "        xy_step = [v[:2] * T/2 * 0.5] * 5  # based the MIT paper\n",
    "    else:\n",
    "        theta = w * T/2 * 0.5\n",
    "        R = np.array([[np.cos(theta), -np.sin(theta)], \n",
    "                      [np.sin(theta), np.cos(theta)]])\n",
    "        xy_step = [xh_local_init[i][:2] @ R - xh_local_init[i][:2] for i in range(5)]\n",
    "        \n",
    "    x_cmd = copy.deepcopy(xh_local_init)\n",
    "    x_cmd = [a[:3] for a in x_cmd]  # position command for legs\n",
    "    q_desired = copy.deepcopy(q0)\n",
    "    \n",
    "    dt = 0.002\n",
    "    q_len = int(num * T / dt)\n",
    "    q_cmd_list = []\n",
    "    for a in range(q_len):\n",
    "        t_now  = a * dt\n",
    "        t_period = t_now % (1/r.f)  # [0, T]\n",
    "        \n",
    "        if t_period < T/2: # FL and BR, front left and back right legs move during [0, T/2]\n",
    "            swing_legs = [0, 2, 3]\n",
    "            stance_legs = [1, 4]\n",
    "            # swing_legs = [0, 1]\n",
    "            # stance_legs = [3, 4]\n",
    "        else:\n",
    "            swing_legs = [1, 4]\n",
    "            stance_legs = [0, 2, 3]\n",
    "            # swing_legs = [3, 4]\n",
    "            # stance_legs = [0, 1]\n",
    "        \n",
    "        # update vel direction in hand base frame\n",
    "        # xy_step = rot.quat2mat(r.x[3:]).T @ np.array([xy_step[0], xy_step[1], 0])\n",
    "        # xy_step = xy_step[:2]\n",
    "        for i in swing_legs:\n",
    "            t_tmp = t_period % (T/2)\n",
    "            x_cmd[i][:2] = r.bezier(t_tmp/ (T/2), xh_local_init[i][:2] - xy_step[i], xh_local_init[i][:2] + xy_step[i])\n",
    "            if t_tmp <= T/4:\n",
    "                x_cmd[i][2] = r.bezier(t_tmp /(T/4), xh_local_init[i][2], xh_local_init[i][2] + h)  # z axis\n",
    "            else:\n",
    "                x_cmd[i][2] = r.bezier((t_tmp - T/4) /(T/4), xh_local_init[i][2] + h, xh_local_init[i][2])\n",
    "        \n",
    "        for i in stance_legs:\n",
    "            t_tmp = t_period % (T/2)\n",
    "            x_cmd[i][:2] = r.bezier(t_tmp /(T/2), xh_local_init[i][:2] + xy_step[i], xh_local_init[i][:2] - xy_step[i])\n",
    "            x_cmd[i][2] = xh_local_init[i][2]\n",
    "        \n",
    "        q_desired = r.hand_kine.ik(x_cmd, q_init=q_desired)\n",
    "        q_cmd = q_sim2real(q_desired, legs=5)\n",
    "        q_cmd_list.append(q_cmd)\n",
    "    q_cmd_list = np.vstack(q_cmd_list)\n",
    "    print('q_cmd_list', q_cmd_list.shape)\n",
    "    \n",
    "    return q_cmd_list\n"
   ],
   "metadata": {
    "collapsed": false,
    "ExecuteTime": {
     "end_time": "2024-05-26T18:33:55.904613833Z",
     "start_time": "2024-05-26T18:33:55.886606845Z"
    }
   }
  },
  {
   "cell_type": "code",
   "execution_count": 353,
   "outputs": [
    {
     "name": "stdout",
     "output_type": "stream",
     "text": [
      "q_cmd_list (250, 15)\n"
     ]
    }
   ],
   "source": [
    "q_cmd_list = generate_traj()"
   ],
   "metadata": {
    "collapsed": false,
    "ExecuteTime": {
     "end_time": "2024-05-26T18:33:56.720499269Z",
     "start_time": "2024-05-26T18:33:56.644870763Z"
    }
   }
  },
  {
   "cell_type": "code",
   "execution_count": 1138,
   "outputs": [],
   "source": [
    "# human hand shape\n",
    "q11 = np.array([[1, 0,0,\n",
    "                    0.5, 0,0,\n",
    "                    0.,0,0,\n",
    "                    -0.5,0,0,\n",
    "                    -1,0,0]])\n",
    "hand_real.move_to_joints(q11)   # 1-1\n",
    "\n",
    "\n"
   ],
   "metadata": {
    "collapsed": false,
    "ExecuteTime": {
     "end_time": "2024-05-26T21:35:18.926108963Z",
     "start_time": "2024-05-26T21:35:18.902943266Z"
    }
   }
  },
  {
   "cell_type": "code",
   "execution_count": 1139,
   "outputs": [
    {
     "name": "stdout",
     "output_type": "stream",
     "text": [
      "q_cmd_list (750, 15)\n"
     ]
    }
   ],
   "source": [
    "# stand up\n",
    "f = 3\n",
    "num = 3\n",
    "t_total = num/f\n",
    "q_cmd_list = generate_traj(v=np.array([-0.04, 0,0]), f=2, num=num)  # generate traj\n",
    "\n",
    "hand_real.move_to_joints(q_cmd_list[0,:].reshape(1,-1), sim2real=False)  # move to init pose"
   ],
   "metadata": {
    "collapsed": false,
    "ExecuteTime": {
     "end_time": "2024-05-26T21:36:06.446871560Z",
     "start_time": "2024-05-26T21:36:06.102324317Z"
    }
   }
  },
  {
   "cell_type": "code",
   "execution_count": 1143,
   "outputs": [
    {
     "name": "stdout",
     "output_type": "stream",
     "text": [
      "q_cmd_list (1500, 15)\n"
     ]
    }
   ],
   "source": [
    "# moving along straight line\n",
    "f = 3\n",
    "num = 6\n",
    "t_total = num/f\n",
    "q_cmd_list = generate_traj(v=np.array([-0.01, -0.03,0]), f=2, num=num)  # generate traj\n",
    "\n",
    "hand_real.move_to_joints(q_cmd_list, t=t_total)  # send to the real robot\n",
    "time.sleep(t_total)\n",
    "\n",
    "q_cmd = q_sim2real(q0, legs=5)\n",
    "hand_real.move_to_joints(q_cmd, sim2real=False, t=0.2)  # move to init pose"
   ],
   "metadata": {
    "collapsed": false,
    "ExecuteTime": {
     "end_time": "2024-05-26T21:36:31.196319414Z",
     "start_time": "2024-05-26T21:36:28.857417438Z"
    }
   }
  },
  {
   "cell_type": "code",
   "execution_count": 413,
   "outputs": [],
   "source": [],
   "metadata": {
    "collapsed": false,
    "ExecuteTime": {
     "end_time": "2024-05-26T18:49:39.281526547Z",
     "start_time": "2024-05-26T18:49:38.260119710Z"
    }
   }
  },
  {
   "cell_type": "code",
   "execution_count": 1141,
   "outputs": [
    {
     "name": "stdout",
     "output_type": "stream",
     "text": [
      "q_cmd_list (500, 15)\n"
     ]
    }
   ],
   "source": [
    "# rotation along z axis\n",
    "f = 3\n",
    "num = 1\n",
    "t_total = num/f\n",
    "q_cmd_list = generate_traj(w=0.2, f=2, num=num)\n",
    "\n",
    "hand_real.move_to_joints(q_cmd_list, t=t_total)\n",
    "time.sleep(t_total)\n",
    "\n",
    "q_cmd = q_sim2real(q0, legs=5)\n",
    "hand_real.move_to_joints(q_cmd, sim2real=False, t=0.2)  # move to init pose\n"
   ],
   "metadata": {
    "collapsed": false,
    "ExecuteTime": {
     "end_time": "2024-05-26T21:36:22.005799003Z",
     "start_time": "2024-05-26T21:36:21.087289524Z"
    }
   }
  },
  {
   "cell_type": "code",
   "execution_count": 398,
   "outputs": [],
   "source": [
    "# for grasping\n",
    "# hand_real.move_to_joints(np.zeros([1,15]))   # all zeros\n",
    "\n"
   ],
   "metadata": {
    "collapsed": false,
    "ExecuteTime": {
     "end_time": "2024-05-26T18:47:15.973661444Z",
     "start_time": "2024-05-26T18:47:15.952289277Z"
    }
   }
  },
  {
   "cell_type": "code",
   "execution_count": 873,
   "outputs": [],
   "source": [
    "# first grasp\n",
    "q11 = np.array([[0,0.4,0,\n",
    "                    0,0.4,0,\n",
    "                    0.2,0,0,\n",
    "                    -0.2,0,0,\n",
    "                    0,0.4,0]])\n",
    "hand_real.move_to_joints(q11)   # 1-1\n"
   ],
   "metadata": {
    "collapsed": false,
    "ExecuteTime": {
     "end_time": "2024-05-26T20:20:23.384052633Z",
     "start_time": "2024-05-26T20:20:23.355417982Z"
    }
   }
  },
  {
   "cell_type": "code",
   "execution_count": 872,
   "outputs": [],
   "source": [
    "# first grasp\n",
    "q12 = np.array([[0,0.7,0,\n",
    "                    0,0.7,0,\n",
    "                    0.8,0,0,\n",
    "                    -0.8,0,0,\n",
    "                    0,0.7,0]])\n",
    "hand_real.move_to_joints(q12)   # 1-1"
   ],
   "metadata": {
    "collapsed": false,
    "ExecuteTime": {
     "end_time": "2024-05-26T20:20:17.554078834Z",
     "start_time": "2024-05-26T20:20:17.533570095Z"
    }
   }
  },
  {
   "cell_type": "code",
   "execution_count": 863,
   "outputs": [],
   "source": [
    "# first grasp\n",
    "q13 = np.array([[0,0.7,0,\n",
    "                    0,0.7,0,\n",
    "                    0.8,-0.6,0,\n",
    "                    -0.8,-0.6,0,\n",
    "                    0,0.7,0]])\n",
    "hand_real.move_to_joints(q13)   # 1-1"
   ],
   "metadata": {
    "collapsed": false,
    "ExecuteTime": {
     "end_time": "2024-05-26T20:19:07.780250253Z",
     "start_time": "2024-05-26T20:19:07.757084111Z"
    }
   }
  },
  {
   "cell_type": "code",
   "execution_count": 864,
   "outputs": [],
   "source": [
    "# first grasp\n",
    "q13 = np.array([[0,0.7,0,\n",
    "                    0,0.7,0,\n",
    "                    1,-1,-0.5,\n",
    "                    -1,-1,-0.5,\n",
    "                    0,0.7,0]])\n",
    "hand_real.move_to_joints(q13)   # 1-1"
   ],
   "metadata": {
    "collapsed": false,
    "ExecuteTime": {
     "end_time": "2024-05-26T20:19:10.232369191Z",
     "start_time": "2024-05-26T20:19:10.205132359Z"
    }
   }
  },
  {
   "cell_type": "code",
   "execution_count": 868,
   "outputs": [],
   "source": [
    "# first grasp\n",
    "q13 = np.array([[0,0.7,0,\n",
    "                    0,0.7,0,\n",
    "                    0.5,-1.4,-1,\n",
    "                    -0.5,-1.4,-1,\n",
    "                    0,0.7,0]])\n",
    "hand_real.move_to_joints(q13)   # 1-1"
   ],
   "metadata": {
    "collapsed": false,
    "ExecuteTime": {
     "end_time": "2024-05-26T20:19:39.113090868Z",
     "start_time": "2024-05-26T20:19:39.065330688Z"
    }
   }
  },
  {
   "cell_type": "code",
   "execution_count": 866,
   "outputs": [],
   "source": [
    "# # first grasp\n",
    "# q13 = np.array([[0,0.7,0,\n",
    "#                     0,0.7,0,\n",
    "#                     -1,-1.4,-1,\n",
    "#                     1,-1.4,-1,\n",
    "#                     0,0.7,0]])\n",
    "# hand_real.move_to_joints(q13)   # 1-1"
   ],
   "metadata": {
    "collapsed": false,
    "ExecuteTime": {
     "end_time": "2024-05-26T20:19:15.776782407Z",
     "start_time": "2024-05-26T20:19:15.736642525Z"
    }
   }
  },
  {
   "cell_type": "code",
   "execution_count": 1144,
   "outputs": [],
   "source": [
    "# second grasp\n",
    "q13[0,6:12] = np.array([0.2,0,0,\n",
    "                    -0.2,0,0,])\n",
    "q13 = np.array([[0,0.,0,\n",
    "                    0,0.0,0,\n",
    "                    0.2,0,0,\n",
    "                    0.,0,0,\n",
    "                    0,0.0,0]])\n",
    "\n",
    "hand_real.move_to_joints(q13)   # 2-1\n",
    "\n"
   ],
   "metadata": {
    "collapsed": false,
    "ExecuteTime": {
     "end_time": "2024-05-26T21:36:40.376099134Z",
     "start_time": "2024-05-26T21:36:40.329765167Z"
    }
   }
  },
  {
   "cell_type": "code",
   "execution_count": 1125,
   "outputs": [],
   "source": [
    "# second grasp\n",
    "q13[0,6:12] = np.array([0.2,0,0,\n",
    "                    -0.2,0,0,])\n",
    "q13 = np.array([[0,0.,0,\n",
    "                    0,0.0,0,\n",
    "                    0.2,0,0,\n",
    "                    0.,0,0,\n",
    "                    0,0.0,0]])\n",
    "\n",
    "hand_real.move_to_joints(q13)   # 2-1\n",
    "\n"
   ],
   "metadata": {
    "collapsed": false,
    "ExecuteTime": {
     "end_time": "2024-05-26T21:33:56.447510216Z",
     "start_time": "2024-05-26T21:33:56.428809692Z"
    }
   }
  },
  {
   "cell_type": "code",
   "execution_count": 1145,
   "outputs": [],
   "source": [
    "# second grasp\n",
    "q13 = np.array([[0,0.,0,\n",
    "                    0,0.0,0,\n",
    "                   0.,0,0,\n",
    "                    -0.5,0,0,\n",
    "                    0,0.0,0]])\n",
    "hand_real.move_to_joints(q13)   # 2-1"
   ],
   "metadata": {
    "collapsed": false,
    "ExecuteTime": {
     "end_time": "2024-05-26T21:36:45.262348959Z",
     "start_time": "2024-05-26T21:36:45.248880767Z"
    }
   }
  },
  {
   "cell_type": "code",
   "execution_count": 1146,
   "outputs": [],
   "source": [
    "# second grasp\n",
    "q13 = np.array([[0,0.,0,\n",
    "                    0,0.0,0,\n",
    "                   0.8,0,0,\n",
    "                    -0.8,0,0,\n",
    "                    0,0.0,0]])\n",
    "\n",
    "hand_real.move_to_joints(q13)   # 2-1\n",
    "time.sleep(2.)\n",
    "\n",
    "q13 = np.array([[0,0.,0,\n",
    "                    0,0.0,0,\n",
    "                   0.8,-0.6,0,\n",
    "                    -0.8,-0.6,0,\n",
    "                    0,0.0,0]])\n",
    "hand_real.move_to_joints(q13)   # 2-1\n",
    "time.sleep(2.)\n",
    "\n",
    "q13 = np.array([[0,0.,0,\n",
    "                    0,0.0,0,\n",
    "                   0.8,-1.3,-0.5,\n",
    "                    -0.8,-1.3,-0.5,\n",
    "                    0,0.0,0]])\n",
    "hand_real.move_to_joints(q13)   # 2-1\n",
    "time.sleep(2.)\n",
    "\n",
    "\n"
   ],
   "metadata": {
    "collapsed": false,
    "ExecuteTime": {
     "end_time": "2024-05-26T21:36:54.156778146Z",
     "start_time": "2024-05-26T21:36:48.133748403Z"
    }
   }
  },
  {
   "cell_type": "code",
   "execution_count": 1147,
   "outputs": [],
   "source": [
    "q13 = np.array([[0,0.,0,\n",
    "                    0,0.0,0,\n",
    "                   0.5,-1.4,-0.5,\n",
    "                    -0.5,-1.4,-0.7,\n",
    "                    0,0.0,0]])\n",
    "hand_real.move_to_joints(q13)   # 2-1\n",
    "time.sleep(2.1)"
   ],
   "metadata": {
    "collapsed": false,
    "ExecuteTime": {
     "end_time": "2024-05-26T21:36:58.493219602Z",
     "start_time": "2024-05-26T21:36:56.369005657Z"
    }
   }
  },
  {
   "cell_type": "code",
   "execution_count": 1148,
   "outputs": [],
   "source": [
    "q13 = np.array([[0,0.,0,\n",
    "                    0,0.0,0,\n",
    "                   0.5,-1.4,-0.5,\n",
    "                    -0.5,-1.4,-0.7,\n",
    "                    0,0.0,0]])\n",
    "hand_real.move_to_joints(q13)   # 2-1\n",
    "time.sleep(2.1)"
   ],
   "metadata": {
    "collapsed": false,
    "ExecuteTime": {
     "end_time": "2024-05-26T21:37:01.386231861Z",
     "start_time": "2024-05-26T21:36:59.264392425Z"
    }
   }
  },
  {
   "cell_type": "code",
   "execution_count": 1095,
   "outputs": [],
   "source": [],
   "metadata": {
    "collapsed": false,
    "ExecuteTime": {
     "end_time": "2024-05-26T21:21:45.493522728Z",
     "start_time": "2024-05-26T21:21:45.475468986Z"
    }
   }
  },
  {
   "cell_type": "code",
   "execution_count": 1095,
   "outputs": [],
   "source": [],
   "metadata": {
    "collapsed": false,
    "ExecuteTime": {
     "end_time": "2024-05-26T21:21:45.917170206Z",
     "start_time": "2024-05-26T21:21:45.828553611Z"
    }
   }
  },
  {
   "cell_type": "markdown",
   "source": [
    "# move back"
   ],
   "metadata": {
    "collapsed": false
   }
  },
  {
   "cell_type": "code",
   "execution_count": 1131,
   "outputs": [],
   "source": [
    "############## for moving back\n",
    "\n",
    "q21 = np.array([[0,-0.5,0,\n",
    "                    -1,-0.5,0,\n",
    "                   0.5,-1.4,-0.5,\n",
    "                    -0.5,-1.4,-0.7,\n",
    "                    1,-0.5,0]])\n",
    "hand_real.move_to_joints(q21)   # 2-1\n",
    "time.sleep(2.1)\n",
    "\n",
    "\n"
   ],
   "metadata": {
    "collapsed": false,
    "ExecuteTime": {
     "end_time": "2024-05-26T21:34:45.372276623Z",
     "start_time": "2024-05-26T21:34:43.256059783Z"
    }
   }
  },
  {
   "cell_type": "code",
   "execution_count": 1132,
   "outputs": [],
   "source": [
    "############## for moving back\n",
    "\n",
    "q21 = np.array([[0,-0.5,0,\n",
    "                    -1,-0.5,0,\n",
    "                 0.5,-1.4,-0.5,\n",
    "                    -0.5,-1.4,-0.7,\n",
    "                    1,-0.5,0]])\n",
    "hand_real.move_to_joints(q21)   # 2-1\n",
    "time.sleep(2.1)\n",
    "\n",
    "\n"
   ],
   "metadata": {
    "collapsed": false,
    "ExecuteTime": {
     "end_time": "2024-05-26T21:34:47.841645146Z",
     "start_time": "2024-05-26T21:34:45.695571048Z"
    }
   }
  },
  {
   "cell_type": "code",
   "execution_count": 1133,
   "outputs": [],
   "source": [
    "q22 = np.array([[0,0.5,0.5,\n",
    "                    0, 0.5,0.5,\n",
    "                 0.5,-1.4,-0.5,\n",
    "                    -0.5,-1.4,-0.7,\n",
    "                    0.5, 0.5,0.5]])\n",
    "hand_real.move_to_joints(q22)   # 2-1\n",
    "# time.sleep(2.1)\n"
   ],
   "metadata": {
    "collapsed": false,
    "ExecuteTime": {
     "end_time": "2024-05-26T21:34:47.842105453Z",
     "start_time": "2024-05-26T21:34:47.821049407Z"
    }
   }
  },
  {
   "cell_type": "code",
   "execution_count": 1134,
   "outputs": [],
   "source": [
    "q23 = np.array([[0,0.8,1.3,\n",
    "                    1, 0.5,0.5,\n",
    "                0.5,-1.4,-0.5,\n",
    "                    -0.5,-1.4,-0.7,\n",
    "                    0.5, 0.5,0.5]])\n",
    "hand_real.move_to_joints(q23)   # 2-1\n",
    "time.sleep(2.1)\n"
   ],
   "metadata": {
    "collapsed": false,
    "ExecuteTime": {
     "end_time": "2024-05-26T21:34:52.427221280Z",
     "start_time": "2024-05-26T21:34:50.311485011Z"
    }
   }
  },
  {
   "cell_type": "code",
   "execution_count": 1135,
   "outputs": [],
   "source": [
    "q24 = np.array([[0,-0.4,-0.5,\n",
    "                    1, 0.5,0.5,\n",
    "                0.5,-1.4,-0.5,\n",
    "                    -0.5,-1.4,-0.7,\n",
    "                    -1, 0.5,0.5]])\n",
    "hand_real.move_to_joints(q24)   # 2-1\n",
    "# time.sleep(2.1)"
   ],
   "metadata": {
    "collapsed": false,
    "ExecuteTime": {
     "end_time": "2024-05-26T21:34:52.954626098Z",
     "start_time": "2024-05-26T21:34:52.934852390Z"
    }
   }
  },
  {
   "cell_type": "code",
   "execution_count": 1136,
   "outputs": [],
   "source": [
    "q_back = np.vstack([q21,q22,q23,q24])"
   ],
   "metadata": {
    "collapsed": false,
    "ExecuteTime": {
     "end_time": "2024-05-26T21:35:06.070097991Z",
     "start_time": "2024-05-26T21:35:06.049988263Z"
    }
   }
  },
  {
   "cell_type": "code",
   "execution_count": 1150,
   "outputs": [],
   "source": [
    "hand_real.move_to_joints(q_back, t = 5) "
   ],
   "metadata": {
    "collapsed": false,
    "ExecuteTime": {
     "end_time": "2024-05-26T21:37:12.175911483Z",
     "start_time": "2024-05-26T21:37:12.149787857Z"
    }
   }
  },
  {
   "cell_type": "code",
   "execution_count": 830,
   "outputs": [],
   "source": [],
   "metadata": {
    "collapsed": false,
    "ExecuteTime": {
     "end_time": "2024-05-26T20:14:03.849710012Z",
     "start_time": "2024-05-26T20:14:03.808433423Z"
    }
   }
  },
  {
   "cell_type": "code",
   "execution_count": 831,
   "outputs": [
    {
     "data": {
      "text/plain": "(3000, 15)"
     },
     "execution_count": 831,
     "metadata": {},
     "output_type": "execute_result"
    }
   ],
   "source": [
    "# move back\n",
    "from control_interface_real_robot import q_sim2real\n",
    "\n",
    "\n",
    "real_robot_loco = '1006.npz'\n",
    "path = 'data_records/grasp_synthesis/real_hand/locomotion_data/'\n",
    "\n",
    "d = np.load(path + real_robot_loco)  # fingers=fingers, d_list=d_list[q_choice], solution=solution, solution_fitness=solution_fitness\n",
    "fingers = d['fingers']\n",
    "solution = d['solution']\n",
    "\n",
    "# 1006.npz with 3 objects\n",
    "q_cmd_list = []\n",
    "dt = 0.002\n",
    "f = 0.3\n",
    "nums = 1000 * 3\n",
    "q_grasp = np.zeros(8)\n",
    "# q_grasp = np.copy()    todo\n",
    "def q2_real(q):\n",
    "    assert len(q) == 4*3\n",
    "    q_new = np.concatenate([q[4:12], q_grasp, q[:4]])\n",
    "    q_cmd = q_sim2real(q_new, legs=5)\n",
    "    return q_cmd\n",
    "\n",
    "for i in range(nums):\n",
    "    q = solution[:12] +  solution[12:24] * np.sin(2 * np.pi * f * i * dt +  solution[24:])  # (12,)\n",
    "    q_cmd = q2_real(q)\n",
    "    q_cmd[0, 6:12] = q13[0, 6:12]  # keep the two fingers static for grasping\n",
    "    q_cmd_list.append(q_cmd)\n",
    "q_cmd_list = np.vstack(q_cmd_list)\n",
    "\n",
    "\n",
    "q_cmd_list.shape"
   ],
   "metadata": {
    "collapsed": false,
    "ExecuteTime": {
     "end_time": "2024-05-26T20:14:07.748068258Z",
     "start_time": "2024-05-26T20:14:07.654709995Z"
    }
   }
  },
  {
   "cell_type": "code",
   "execution_count": 831,
   "outputs": [],
   "source": [],
   "metadata": {
    "collapsed": false,
    "ExecuteTime": {
     "end_time": "2024-05-26T20:14:08.625448325Z",
     "start_time": "2024-05-26T20:14:08.608637732Z"
    }
   }
  },
  {
   "cell_type": "code",
   "execution_count": 157,
   "outputs": [
    {
     "data": {
      "text/plain": "array([-0.22577383, -0.69147212,  0.25286284, -1.29950412,  1.85737641,\n       -0.75406169, -0.        ,  0.        ,  0.        , -0.        ,\n        0.        ,  0.        ,  0.83783887, -0.33136557,  2.31181321])"
     },
     "execution_count": 157,
     "metadata": {},
     "output_type": "execute_result"
    }
   ],
   "source": [
    "q_cmd_list[0,:]"
   ],
   "metadata": {
    "collapsed": false,
    "ExecuteTime": {
     "end_time": "2024-05-26T16:05:53.929393918Z",
     "start_time": "2024-05-26T16:05:53.909643096Z"
    }
   }
  },
  {
   "cell_type": "code",
   "execution_count": 235,
   "outputs": [],
   "source": [
    "hand_real.move_to_joints(q_cmd_list[0:1,:], t=1)  # swimming motion"
   ],
   "metadata": {
    "collapsed": false,
    "ExecuteTime": {
     "end_time": "2024-05-26T17:12:29.044849898Z",
     "start_time": "2024-05-26T17:12:29.020336401Z"
    }
   }
  },
  {
   "cell_type": "code",
   "execution_count": 236,
   "outputs": [],
   "source": [
    "hand_real.move_to_joints(q_cmd_list, t=nums*dt)"
   ],
   "metadata": {
    "collapsed": false,
    "ExecuteTime": {
     "end_time": "2024-05-26T17:12:44.653868346Z",
     "start_time": "2024-05-26T17:12:44.605456392Z"
    }
   }
  },
  {
   "cell_type": "code",
   "execution_count": 176,
   "outputs": [],
   "source": [],
   "metadata": {
    "collapsed": false,
    "ExecuteTime": {
     "end_time": "2024-05-26T16:29:35.393889135Z",
     "start_time": "2024-05-26T16:29:35.345893419Z"
    }
   }
  },
  {
   "cell_type": "code",
   "execution_count": 15,
   "outputs": [],
   "source": [
    "# q_align = np.array([0,np.pi/2,0,\n",
    "#           0,np.pi/2,0,\n",
    "#           0.00000000e+00, -1.47079633e+00, -8.00000000e-01, \n",
    "#                0.00000000e+00, -1.47079633e+00, -8.00000000e-01,\n",
    "#            0,np.pi,0])\n",
    "# \n",
    "# hand_real.move_to_joints(q_align.reshape(1,-1), sim2real=False, t=0.3)  # lie down for attactment"
   ],
   "metadata": {
    "collapsed": false,
    "ExecuteTime": {
     "start_time": "2024-05-26T14:12:51.995638661Z"
    }
   }
  },
  {
   "cell_type": "code",
   "execution_count": 1151,
   "outputs": [],
   "source": [
    "q_align = np.array([0,np.pi/2,1,\n",
    "          0,np.pi/2,1,\n",
    "         0.5,-1.4,-0.5,\n",
    "                    -0.5,-1.4,-0.7,\n",
    "           0,np.pi,1])\n",
    "\n",
    "hand_real.move_to_joints(q_align.reshape(1,-1), sim2real=False, t=0.3)  # 1, lie down for attactment\n",
    "\n"
   ],
   "metadata": {
    "collapsed": false,
    "ExecuteTime": {
     "end_time": "2024-05-26T21:37:22.256373919Z",
     "start_time": "2024-05-26T21:37:22.233874181Z"
    }
   }
  },
  {
   "cell_type": "code",
   "execution_count": 288,
   "outputs": [],
   "source": [
    "q_align = np.array([0,np.pi/2,0,\n",
    "          0,np.pi/2,0,\n",
    "         0.5,-1.4,-0.5,\n",
    "                    -0.5,-1.4,-0.7,\n",
    "           0,np.pi,0])\n",
    "\n",
    "hand_real.move_to_joints(q_align.reshape(1,-1), sim2real=False, t=0.3)  # 2,  move up for better alignment"
   ],
   "metadata": {
    "collapsed": false,
    "ExecuteTime": {
     "end_time": "2024-05-26T17:37:54.585768386Z",
     "start_time": "2024-05-26T17:37:54.563994588Z"
    }
   }
  },
  {
   "cell_type": "code",
   "execution_count": null,
   "outputs": [],
   "source": [
    "and_real.move_to_joints(q_cmd_list[0:1,:], t=1)  # swimming motion\n",
    "hand_real.move_to_joints(q_cmd_list, t=nums*dt)\n"
   ],
   "metadata": {
    "collapsed": false
   }
  }
 ],
 "metadata": {
  "kernelspec": {
   "display_name": "Python 3",
   "language": "python",
   "name": "python3"
  },
  "language_info": {
   "codemirror_mode": {
    "name": "ipython",
    "version": 2
   },
   "file_extension": ".py",
   "mimetype": "text/x-python",
   "name": "python",
   "nbconvert_exporter": "python",
   "pygments_lexer": "ipython2",
   "version": "2.7.6"
  }
 },
 "nbformat": 4,
 "nbformat_minor": 0
}
