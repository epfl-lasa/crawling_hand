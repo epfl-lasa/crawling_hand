{
 "cells": [
  {
   "cell_type": "code",
   "execution_count": 1,
   "outputs": [],
   "source": [
    "import time\n",
    "\n",
    "import numpy as np\n",
    "# import torch\n",
    "\n",
    "import tools.rotations as rot\n",
    "# import pytorch_kinematics as pk\n",
    "\n",
    "from controller import locomotion\n",
    "from control_interface_real_robot import real_robot\n",
    "import mujoco\n",
    "import cvxpy as cp\n",
    "from control_interface_real_robot import q_sim2real\n",
    "\n",
    "import copy\n",
    "%load_ext autoreload\n",
    "%autoreload 2"
   ],
   "metadata": {
    "collapsed": false,
    "ExecuteTime": {
     "end_time": "2024-05-26T16:59:08.600873522Z",
     "start_time": "2024-05-26T16:59:07.121547126Z"
    }
   }
  },
  {
   "cell_type": "code",
   "execution_count": 2,
   "outputs": [
    {
     "data": {
      "text/plain": "'/usr/bin/python3'"
     },
     "execution_count": 2,
     "metadata": {},
     "output_type": "execute_result"
    }
   ],
   "source": [
    "import sys\n",
    "sys.executable"
   ],
   "metadata": {
    "collapsed": false,
    "ExecuteTime": {
     "end_time": "2024-05-26T16:59:08.624019737Z",
     "start_time": "2024-05-26T16:59:08.601710417Z"
    }
   }
  },
  {
   "cell_type": "code",
   "execution_count": 3,
   "outputs": [
    {
     "name": "stdout",
     "output_type": "stream",
     "text": [
      "leg num: 5\n"
     ]
    }
   ],
   "source": [
    "hand_real = real_robot(control_mode='position', legs=5)"
   ],
   "metadata": {
    "collapsed": false,
    "ExecuteTime": {
     "end_time": "2024-05-26T16:59:08.803655176Z",
     "start_time": "2024-05-26T16:59:08.616157051Z"
    }
   }
  },
  {
   "cell_type": "code",
   "execution_count": 4,
   "outputs": [
    {
     "data": {
      "text/plain": "array([0., 0., 0., 0., 0., 0., 0., 0., 0., 0., 0., 0., 0., 0., 0.])"
     },
     "execution_count": 4,
     "metadata": {},
     "output_type": "execute_result"
    }
   ],
   "source": [
    "hand_real.update_data()\n",
    "hand_real.q"
   ],
   "metadata": {
    "collapsed": false,
    "ExecuteTime": {
     "end_time": "2024-05-26T16:59:08.820578766Z",
     "start_time": "2024-05-26T16:59:08.804659071Z"
    }
   }
  },
  {
   "cell_type": "code",
   "execution_count": 5,
   "outputs": [
    {
     "data": {
      "text/plain": "(27,)"
     },
     "execution_count": 5,
     "metadata": {},
     "output_type": "execute_result"
    }
   ],
   "source": [
    "q0 = np.array([-1.62289571e-04, -3.50667052e-04,  7.98538815e-02,  9.99999738e-01,\n",
    "       -4.46340938e-04,  5.67392530e-04, -4.89152197e-05, \n",
    "               -0.7,   7.91144283e-01,  0.3,  0.3,\n",
    "               0,  7.93214611e-01,  0.3,  0.3,  0.00000000e+00,\n",
    "               -1.47079633e+00, -8.00000000e-01, -8.00000000e-01, \n",
    "               -6.26414686e-06,  7.93034999e-01,  0.3,  0.3,\n",
    "               -1.00000000e+00,  7.92384667e-01,  0.3,  0.3])\n",
    "q0.shape"
   ],
   "metadata": {
    "collapsed": false,
    "ExecuteTime": {
     "end_time": "2024-05-26T16:59:09.730182845Z",
     "start_time": "2024-05-26T16:59:09.709446121Z"
    }
   }
  },
  {
   "cell_type": "code",
   "execution_count": 6,
   "outputs": [
    {
     "name": "stdout",
     "output_type": "stream",
     "text": [
      "Kinematic model has been loaded from kinematics/q2pose.txt\n",
      "locomotion freq 1.0\n"
     ]
    }
   ],
   "source": [
    "# test pytorch kinematics\n",
    "xml_path = 'descriptions/five_finger_hand_ssss.xml'\n",
    "# chain = pk.build_chain_from_mjcf('descriptions/single_finger_ssss.xml', 'finger_1')\n",
    "# print(chain)\n",
    "var_num = 12\n",
    "q0 = np.array([-1.62289571e-04, -3.50667052e-04,  7.98538815e-02,  9.99999738e-01,\n",
    "       -4.46340938e-04,  5.67392530e-04, -4.89152197e-05, \n",
    "               0,   7.91144283e-01,  0.3,  0.3,\n",
    "               -0.4,  7.93034999e-01,  0.3,  0.3, \n",
    "               0,   -1.4,  -1,  -1,  \n",
    "              0,   -1.4,  -1,  -1, \n",
    "              0.3,  7.92384667e-01,  0.3,  0.3])\n",
    "r = locomotion(xml_path, var_num=var_num, q0=q0)\n",
    "\n",
    "print('locomotion freq', r.f)\n",
    "# take a rest to let the acceleration to zero\n",
    "t0 = time.time()\n",
    "q0 = np.copy(r.q)\n",
    "while 1:\n",
    "    # r.step()\n",
    "    # r.send_torque(r.C)\n",
    "    r.joint_computed_torque_control(q0)\n",
    "    if time.time() - t0 > 2:\n",
    "        break\n",
    "xh_local_init = copy.deepcopy(r.xh_local) "
   ],
   "metadata": {
    "collapsed": false,
    "ExecuteTime": {
     "end_time": "2024-05-26T16:59:14.924949354Z",
     "start_time": "2024-05-26T16:59:10.615637157Z"
    }
   }
  },
  {
   "cell_type": "code",
   "execution_count": null,
   "outputs": [],
   "source": [
    "xh_local_init"
   ],
   "metadata": {
    "collapsed": false
   }
  },
  {
   "cell_type": "code",
   "execution_count": null,
   "outputs": [],
   "source": [
    "hand_real.q"
   ],
   "metadata": {
    "collapsed": false
   }
  },
  {
   "cell_type": "code",
   "execution_count": null,
   "outputs": [],
   "source": [
    "# q0 = np.array([ 0.13345633,   0.69029135,  0.41264084 , \n",
    "#                 -0.3,  0.69029135,  0.41264084,\n",
    "#                 -0.00153398,   0.69029135,  0.41264084, \n",
    "#                 -0.11965051,  0.69029135,  0.41264084,\n",
    "#                 1,   0.69029135,  0.41264084])\n",
    "# \n",
    "# \n",
    "# # q_cmd = q_sim2real(q0, legs=5)\n",
    "# hand_real.move_to_joints(q0.reshape(1,-1), sim2real=False)  # move to init pose"
   ],
   "metadata": {
    "collapsed": false
   }
  },
  {
   "cell_type": "code",
   "execution_count": null,
   "outputs": [],
   "source": [
    "hand_real.update_data()\n",
    "hand_real.q"
   ],
   "metadata": {
    "collapsed": false
   }
  },
  {
   "cell_type": "code",
   "execution_count": null,
   "outputs": [],
   "source": [
    "# q_cmd = np.zeros(12)\n",
    "# q_cmd[0] = 0.5\n",
    "# hand_real.move_to_joints(q_cmd)\n",
    "\n",
    "# q_cmd_sim = np.zeros(20)\n",
    "# q_cmd_sim[13] = 0 \n",
    "# q_cmd_sim[17] = 0\n",
    "# r.modify_joint(q_cmd_sim)\n",
    "\n",
    "# q_cmd = q_sim2real(q0, legs=5)\n",
    "# \n",
    "# hand_real.move_to_joints(q_cmd, sim2real=False)  # move to init pose\n",
    "# hand_real.send_position(q_cmd)\n",
    "# hand_real.move_to_joints_by_vel(q_cmd)\n"
   ],
   "metadata": {
    "collapsed": false
   }
  },
  {
   "cell_type": "code",
   "execution_count": 28,
   "outputs": [
    {
     "data": {
      "text/plain": "array([ 0.   , -0.005])"
     },
     "execution_count": 28,
     "metadata": {},
     "output_type": "execute_result"
    }
   ],
   "source": [
    "xy_step"
   ],
   "metadata": {
    "collapsed": false,
    "ExecuteTime": {
     "end_time": "2024-05-26T17:06:28.241233206Z",
     "start_time": "2024-05-26T17:06:28.222982007Z"
    }
   }
  },
  {
   "cell_type": "code",
   "execution_count": 29,
   "outputs": [
    {
     "data": {
      "text/plain": "(14596, 15)"
     },
     "execution_count": 29,
     "metadata": {},
     "output_type": "execute_result"
    }
   ],
   "source": [
    "## gait design for four legs\n",
    " # this is the init position\n",
    "\n",
    "\n",
    "t0 = time.time()\n",
    "r.f = 1\n",
    "T = 1 / r.f\n",
    "v = np.array([0.0, -0.02,0]) \n",
    "# v = np.array([0.04,0 ,0]) \n",
    "# v = np.array([0, -0.02,0])\n",
    "h = 0.05  # z axis lifting height for swing legs\n",
    "r.vel_cmd[:3] = v\n",
    "\n",
    "xy_step = v[:2] * T/2 * 0.5 # based the MIT paper\n",
    "x_cmd = copy.deepcopy(xh_local_init)\n",
    "x_cmd = [a[:3] for a in x_cmd]  # position command for legs\n",
    "q_cmd_list = []\n",
    "t_total = 10 * T\n",
    "\n",
    "k = 0\n",
    "q_desired = copy.deepcopy(r.q)\n",
    "\n",
    "while 1:\n",
    "    \n",
    "    tau_Grf = np.zeros(20)\n",
    "    t_now  = time.time() - t0\n",
    "    t_period = t_now % (1/r.f)  # [0, T]\n",
    "    \n",
    "    if t_period < T/3: # FL and BR, front left and back right legs move during [0, T/2]\n",
    "        swing_legs = [0,]\n",
    "        stance_legs = [1, 4]\n",
    "    elif T/3 <=t_period < T/3*2 :\n",
    "        swing_legs = [1]\n",
    "        stance_legs = [4, 0]\n",
    "    else:\n",
    "        swing_legs = [4]\n",
    "        stance_legs = [0, 1]\n",
    "    # update vel direction in hand base frame\n",
    "    # xy_step = rot.quat2mat(r.x[3:]).T @ np.array([xy_step[0], xy_step[1], 0])\n",
    "    # xy_step = xy_step[:2]\n",
    "    for i in swing_legs:\n",
    "        t_tmp = t_period % (T/3) \n",
    "        x_cmd[i][:2] = r.bezier(t_tmp/ (T/3), xh_local_init[i][:2] - xy_step, xh_local_init[i][:2] + xy_step)\n",
    "        if t_tmp <= T/6:\n",
    "            x_cmd[i][2] = r.bezier(t_tmp /(T/6), xh_local_init[i][2], xh_local_init[i][2] + h)  # z axis\n",
    "        else:\n",
    "            x_cmd[i][2] = r.bezier((t_tmp - T/6) /(T/6), xh_local_init[i][2] + h, xh_local_init[i][2])\n",
    "    \n",
    "    for flag, i in enumerate(stance_legs):\n",
    "        t_tmp = t_period % (T/3)\n",
    "        x_cmd[i][:2] = r.bezier(t_tmp / (T/3), xh_local_init[i][:2] + xy_step * flag, xh_local_init[i][:2] - xy_step * (1-flag))\n",
    "        x_cmd[i][2] = xh_local_init[i][2]\n",
    "    \n",
    "    q_desired = r.hand_kine.ik(x_cmd, q_init=q_desired)\n",
    "    q_desired[8:16] = q0[8:16]\n",
    "    r.joint_computed_torque_control(q_desired)\n",
    "    # k += 1\n",
    "    # q_desired[8:12] = q0[8:12]\n",
    "    q_cmd = q_sim2real(q_desired, legs=5)\n",
    "    q_cmd_list.append(q_cmd)\n",
    "    # hand_real.send_position(q_cmd)\n",
    "\n",
    "    if t_now > t_total:\n",
    "        break\n",
    "\n",
    "q_cmd_list = np.vstack(q_cmd_list)\n",
    "q_cmd_list.shape"
   ],
   "metadata": {
    "collapsed": false,
    "ExecuteTime": {
     "end_time": "2024-05-26T17:06:51.820307057Z",
     "start_time": "2024-05-26T17:06:41.796831770Z"
    }
   }
  },
  {
   "cell_type": "code",
   "execution_count": 30,
   "outputs": [],
   "source": [
    "q_cmd_list = np.vstack(q_cmd_list)\n",
    "q_cmd_list.shape\n",
    "hand_real.move_to_joints(q_cmd_list[0,:].reshape(1,-1), sim2real=False)  # move to init pose"
   ],
   "metadata": {
    "collapsed": false,
    "ExecuteTime": {
     "end_time": "2024-05-26T17:06:51.856737075Z",
     "start_time": "2024-05-26T17:06:51.821811287Z"
    }
   }
  },
  {
   "cell_type": "code",
   "execution_count": 33,
   "outputs": [],
   "source": [
    "hand_real.move_to_joints(q_cmd_list, t=t_total)  # send to the real robot\n",
    "\n",
    "\n",
    "\n",
    "\n"
   ],
   "metadata": {
    "collapsed": false,
    "ExecuteTime": {
     "end_time": "2024-05-26T17:07:19.720216279Z",
     "start_time": "2024-05-26T17:07:19.504473070Z"
    }
   }
  },
  {
   "cell_type": "code",
   "execution_count": null,
   "outputs": [],
   "source": [],
   "metadata": {
    "collapsed": false
   }
  },
  {
   "cell_type": "code",
   "execution_count": null,
   "outputs": [],
   "source": [
    "def generate_traj(v=np.array([0.0, -0.04,0]), w=None, f = 2, num=1):\n",
    "    \"\"\"\n",
    "    generate trajctory for moving forward or rotation    \n",
    "    :param v: \n",
    "    :param w: \n",
    "    :param f: frequency\n",
    "    :param num: number of period\n",
    "    :return: \n",
    "    \"\"\"    \n",
    "    T = 1 / f\n",
    "    # v = np.array([0.0, -0.04,0]) \n",
    "    # # v = np.array([0.04,0 ,0]) \n",
    "    # # v = np.array([0, -0.02,0])\n",
    "    h = 0.04  # z axis lifting height for swing legs\n",
    "    \n",
    "    if w is None:\n",
    "        xy_step = [v[:2] * T/2 * 0.5] * 5  # based the MIT paper\n",
    "    else:\n",
    "        theta = w * T/2 * 0.5\n",
    "        R = np.array([[np.cos(theta), -np.sin(theta)], \n",
    "                      [np.sin(theta), np.cos(theta)]])\n",
    "        xy_step = [xh_local_init[i][:2] @ R - xh_local_init[i][:2] for i in range(5)]\n",
    "        \n",
    "    x_cmd = copy.deepcopy(xh_local_init)\n",
    "    x_cmd = [a[:3] for a in x_cmd]  # position command for legs\n",
    "    q_desired = copy.deepcopy(q0)\n",
    "    \n",
    "    dt = 0.002\n",
    "    q_len = int(num * T / dt)\n",
    "    q_cmd_list = []\n",
    "    for a in range(q_len):\n",
    "        t_now  = a * dt\n",
    "        t_period = t_now % (1/r.f)  # [0, T]\n",
    "        \n",
    "        if t_period < T/2: # FL and BR, front left and back right legs move during [0, T/2]\n",
    "            swing_legs = [0, 2, 3]\n",
    "            stance_legs = [1, 4]\n",
    "            # swing_legs = [0, 1]\n",
    "            # stance_legs = [3, 4]\n",
    "        else:\n",
    "            swing_legs = [1, 4]\n",
    "            stance_legs = [0, 2, 3]\n",
    "            # swing_legs = [3, 4]\n",
    "            # stance_legs = [0, 1]\n",
    "        \n",
    "        # update vel direction in hand base frame\n",
    "        # xy_step = rot.quat2mat(r.x[3:]).T @ np.array([xy_step[0], xy_step[1], 0])\n",
    "        # xy_step = xy_step[:2]\n",
    "        for i in swing_legs:\n",
    "            t_tmp = t_period % (T/2)\n",
    "            x_cmd[i][:2] = r.bezier(t_tmp, xh_local_init[i][:2] - xy_step[i], xh_local_init[i][:2] + xy_step[i])\n",
    "            if t_tmp <= T/4:\n",
    "                x_cmd[i][2] = r.bezier(t_tmp /(T/4), xh_local_init[i][2], xh_local_init[i][2] + h)  # z axis\n",
    "            else:\n",
    "                x_cmd[i][2] = r.bezier((t_tmp - T/4) /(T/4), xh_local_init[i][2] + h, xh_local_init[i][2])\n",
    "        \n",
    "        for i in stance_legs:\n",
    "            t_tmp = t_period % (T/2)\n",
    "            x_cmd[i][:2] = r.bezier(t_tmp /(T/2), xh_local_init[i][:2] + xy_step[i], xh_local_init[i][:2] - xy_step[i])\n",
    "            x_cmd[i][2] = xh_local_init[i][2]\n",
    "        \n",
    "        q_desired = r.hand_kine.ik(x_cmd, q_init=q_desired)\n",
    "        q_cmd = q_sim2real(q_desired, legs=5)\n",
    "        q_cmd_list.append(q_cmd)\n",
    "    q_cmd_list = np.vstack(q_cmd_list)\n",
    "    print('q_cmd_list', q_cmd_list.shape)\n",
    "    \n",
    "    return q_cmd_list\n"
   ],
   "metadata": {
    "collapsed": false
   }
  },
  {
   "cell_type": "code",
   "execution_count": null,
   "outputs": [],
   "source": [
    "q_cmd_list = generate_traj()"
   ],
   "metadata": {
    "collapsed": false
   }
  },
  {
   "cell_type": "code",
   "execution_count": null,
   "outputs": [],
   "source": [],
   "metadata": {
    "collapsed": false
   }
  },
  {
   "cell_type": "code",
   "execution_count": null,
   "outputs": [],
   "source": [
    "q_cmd_list = generate_traj()\n",
    "hand_real.move_to_joints(q_cmd_list[0,:].reshape(1,-1), sim2real=False)  # move to init pose"
   ],
   "metadata": {
    "collapsed": false
   }
  },
  {
   "cell_type": "code",
   "execution_count": null,
   "outputs": [],
   "source": [
    "# moving along straight line\n",
    "f = 2\n",
    "num = 5\n",
    "t_total = num/f\n",
    "q_cmd_list = generate_traj(v=np.array([0.0, 0.04,0]), f=2, num=num)  # generate traj\n",
    "\n",
    "hand_real.move_to_joints(q_cmd_list, t=t_total)  # send to the real robot\n",
    "time.sleep(t_total)\n",
    "\n",
    "q_cmd = q_sim2real(q0, legs=5)\n",
    "hand_real.move_to_joints(q_cmd, sim2real=False, t=0.2)  # move to init pose"
   ],
   "metadata": {
    "collapsed": false
   }
  },
  {
   "cell_type": "code",
   "execution_count": null,
   "outputs": [],
   "source": [
    "# rotation along z axis\n",
    "f = 3\n",
    "num = 10\n",
    "t_total = num/f\n",
    "q_cmd_list = generate_traj(w=-0.5, f=2, num=num)\n",
    "\n",
    "hand_real.move_to_joints(q_cmd_list, t=t_total)\n",
    "time.sleep(t_total)\n",
    "\n",
    "q_cmd = q_sim2real(q0, legs=5)\n",
    "hand_real.move_to_joints(q_cmd, sim2real=False, t=0.2)  # move to init pose\n",
    "\n"
   ],
   "metadata": {
    "collapsed": false
   }
  },
  {
   "cell_type": "code",
   "execution_count": null,
   "outputs": [],
   "source": [],
   "metadata": {
    "collapsed": false
   }
  },
  {
   "cell_type": "markdown",
   "source": [
    "## For rotation movement"
   ],
   "metadata": {
    "collapsed": false
   }
  },
  {
   "cell_type": "code",
   "execution_count": null,
   "outputs": [],
   "source": [
    "## gait design for four legs\n",
    " # this is the init position\n",
    "\n",
    "\n",
    "t0 = time.time()\n",
    "r.f = 2\n",
    "T = 1 / r.f\n",
    "# v = np.array([0.0, -0.04,0]) \n",
    "# v = np.array([0.04,0 ,0]) \n",
    "# v = np.array([0, -0.02,0])\n",
    "v = np.zeros(3)\n",
    "w =  0.5 # rad/s\n",
    "h = 0.02  # z axis lifting height for swing legs\n",
    "r.vel_cmd[:3] = v\n",
    "\n",
    "# xy_step = v[:2] * T/2 * 0.5  # based the MIT paper\n",
    "xy_step = []\n",
    "theta = w * T/2 * 0.5\n",
    "R = np.array([[np.cos(theta), -np.sin(theta)], \n",
    "              [np.sin(theta), np.cos(theta)]])\n",
    "xy_step = [xh_local_init[i][:2] @ R - xh_local_init[i][:2] for i in range(5)]\n",
    "    \n",
    "    \n",
    "x_cmd = copy.deepcopy(xh_local_init)\n",
    "x_cmd = [a[:3] for a in x_cmd]  # position command for legs\n",
    "q_cmd_list = []\n",
    "t_total = 40 * T\n",
    "\n",
    "k = 0\n",
    "q_desired = copy.deepcopy(r.q)\n",
    "while 1:\n",
    "    \n",
    "    tau_Grf = np.zeros(20)\n",
    "    t_now  = time.time() - t0\n",
    "    t_period = t_now % (1/r.f)  # [0, T]\n",
    "    \n",
    "    if t_period < T/2: # FL and BR, front left and back right legs move during [0, T/2]\n",
    "        swing_legs = [0, 2, 3]\n",
    "        stance_legs = [1, 4]\n",
    "        # swing_legs = [0, 1]\n",
    "        # stance_legs = [3, 4]\n",
    "    else:\n",
    "        swing_legs = [1, 4]\n",
    "        stance_legs = [0, 2, 3]\n",
    "        # swing_legs = [3, 4]\n",
    "        # stance_legs = [0, 1]\n",
    "    \n",
    "    # update vel direction in hand base frame\n",
    "    # xy_step = rot.quat2mat(r.x[3:]).T @ np.array([xy_step[0], xy_step[1], 0])\n",
    "    # xy_step = xy_step[:2]\n",
    "    for i in swing_legs:\n",
    "        t_tmp = t_period % (T/2)\n",
    "        x_cmd[i][:2] = r.bezier(t_tmp, xh_local_init[i][:2] - xy_step[i], xh_local_init[i][:2] + xy_step[i])\n",
    "        if t_tmp <= T/4:\n",
    "            x_cmd[i][2] = r.bezier(t_tmp /(T/4), xh_local_init[i][2], xh_local_init[i][2] + h)  # z axis\n",
    "        else:\n",
    "            x_cmd[i][2] = r.bezier((t_tmp - T/4) /(T/4), xh_local_init[i][2] + h, xh_local_init[i][2])\n",
    "    \n",
    "    for i in stance_legs:\n",
    "        t_tmp = t_period % (T/2)\n",
    "        x_cmd[i][:2] = r.bezier(t_tmp /(T/2), xh_local_init[i][:2] + xy_step[i], xh_local_init[i][:2] - xy_step[i])\n",
    "        x_cmd[i][2] = xh_local_init[i][2]\n",
    "    \n",
    "    q_desired = r.hand_kine.ik(x_cmd, q_init=q_desired)\n",
    "    r.joint_computed_torque_control(q_desired)\n",
    "    # k += 1\n",
    "    # q_desired[8:12] = q0[8:12]\n",
    "    q_cmd = q_sim2real(q_desired, legs=5)\n",
    "    q_cmd_list.append(q_cmd)\n",
    "    # hand_real.send_position(q_cmd)\n",
    "\n",
    "    if t_now > t_total:\n",
    "        break\n",
    "    "
   ],
   "metadata": {
    "collapsed": false
   }
  }
 ],
 "metadata": {
  "kernelspec": {
   "display_name": "Python 3",
   "language": "python",
   "name": "python3"
  },
  "language_info": {
   "codemirror_mode": {
    "name": "ipython",
    "version": 2
   },
   "file_extension": ".py",
   "mimetype": "text/x-python",
   "name": "python",
   "nbconvert_exporter": "python",
   "pygments_lexer": "ipython2",
   "version": "2.7.6"
  }
 },
 "nbformat": 4,
 "nbformat_minor": 0
}
