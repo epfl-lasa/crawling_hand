{
 "cells": [
  {
   "cell_type": "code",
   "execution_count": null,
   "metadata": {
    "collapsed": true,
    "pycharm": {
     "name": "#%%\n"
    }
   },
   "outputs": [],
   "source": [
    "import numpy as np\n",
    "import trimesh"
   ]
  },
  {
   "cell_type": "code",
   "execution_count": null,
   "outputs": [],
   "source": [
    "mesh_names = ['base_link.stl', 'distal_1.stl', 'MCP_motor_1.stl', 'MCP_spread_motor_1.stl', 'metacarpal_1.stl', 'middle_1.stl', 'PIP_DIP_motor_1.stl', 'proximal_1.stl']"
   ],
   "metadata": {
    "collapsed": false,
    "pycharm": {
     "name": "#%%\n"
    }
   }
  },
  {
   "cell_type": "code",
   "execution_count": null,
   "outputs": [],
   "source": [
    "path = 'single_finger/longest/meshes/'\n",
    "for mesh in mesh_names:\n",
    "    data = trimesh.load(path + mesh)\n",
    "    a = data.apply_scale([0.001, 0.001, 0.001])\n",
    "    if 'motor' in mesh:\n",
    "        density = 0.023 / a.mass_properties['mass'] # for motors, use the real mass/density\n",
    "    else:\n",
    "        density = 0.6 * 1000  # 3D-printed part\n",
    "    mass = a.mass_properties['mass'] * density\n",
    "    inertia = a.mass_properties['inertia'] * density\n",
    "    # print(mesh, mass, inertia, '\\n')\n",
    "    print(mesh, mass)\n",
    "    print('<inertia ixx=\"' + str(inertia[0,0]) +\n",
    "                 '\" iyy=\"' + str(inertia[1,1]) +\n",
    "                 '\" izz=\"' + str(inertia[2,2]) +\n",
    "                 '\" ixy=\"' + str(inertia[0,1]) +\n",
    "                 '\" ixz=\"' + str(inertia[0,2]) +\n",
    "                 '\" iyz=\"' + str(inertia[1,2]) +'\"/>', '\\n\\n' )\n",
    "\n",
    "\n"
   ],
   "metadata": {
    "collapsed": false,
    "pycharm": {
     "name": "#%%\n"
    }
   }
  },
  {
   "cell_type": "code",
   "execution_count": null,
   "outputs": [],
   "source": [
    "'motor' in 'MCP_spread_motor_1'\n"
   ],
   "metadata": {
    "collapsed": false,
    "pycharm": {
     "name": "#%%\n"
    }
   }
  },
  {
   "cell_type": "code",
   "execution_count": null,
   "outputs": [],
   "source": [
    "data.mass_properties"
   ],
   "metadata": {
    "collapsed": false,
    "pycharm": {
     "name": "#%%\n"
    }
   }
  },
  {
   "cell_type": "code",
   "execution_count": null,
   "outputs": [],
   "source": [
    "a = data.apply_scale([0.001, 0.001, 0.001])"
   ],
   "metadata": {
    "collapsed": false,
    "pycharm": {
     "name": "#%%\n"
    }
   }
  },
  {
   "cell_type": "code",
   "execution_count": null,
   "outputs": [],
   "source": [
    "a.mass_properties"
   ],
   "metadata": {
    "collapsed": false,
    "pycharm": {
     "name": "#%%\n"
    }
   }
  },
  {
   "cell_type": "code",
   "execution_count": null,
   "outputs": [],
   "source": [],
   "metadata": {
    "collapsed": false,
    "pycharm": {
     "name": "#%%\n"
    }
   }
  }
 ],
 "metadata": {
  "kernelspec": {
   "display_name": "Python 3",
   "language": "python",
   "name": "python3"
  },
  "language_info": {
   "codemirror_mode": {
    "name": "ipython",
    "version": 2
   },
   "file_extension": ".py",
   "mimetype": "text/x-python",
   "name": "python",
   "nbconvert_exporter": "python",
   "pygments_lexer": "ipython2",
   "version": "2.7.6"
  }
 },
 "nbformat": 4,
 "nbformat_minor": 0
}
