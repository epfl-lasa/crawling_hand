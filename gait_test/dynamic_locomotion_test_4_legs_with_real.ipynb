{
 "cells": [
  {
   "cell_type": "code",
   "execution_count": 1,
   "outputs": [
    {
     "ename": "ModuleNotFoundError",
     "evalue": "No module named 'rclpy'",
     "output_type": "error",
     "traceback": [
      "\u001B[0;31m---------------------------------------------------------------------------\u001B[0m",
      "\u001B[0;31mModuleNotFoundError\u001B[0m                       Traceback (most recent call last)",
      "Cell \u001B[0;32mIn[1], line 10\u001B[0m\n\u001B[1;32m      7\u001B[0m \u001B[38;5;66;03m# import pytorch_kinematics as pk\u001B[39;00m\n\u001B[1;32m      9\u001B[0m \u001B[38;5;28;01mfrom\u001B[39;00m \u001B[38;5;21;01mcontroller\u001B[39;00m \u001B[38;5;28;01mimport\u001B[39;00m locomotion\n\u001B[0;32m---> 10\u001B[0m \u001B[38;5;28;01mfrom\u001B[39;00m \u001B[38;5;21;01mcontrol_interface_real_robot\u001B[39;00m \u001B[38;5;28;01mimport\u001B[39;00m real_robot\n\u001B[1;32m     11\u001B[0m \u001B[38;5;28;01mimport\u001B[39;00m \u001B[38;5;21;01mmujoco\u001B[39;00m\n\u001B[1;32m     12\u001B[0m \u001B[38;5;28;01mimport\u001B[39;00m \u001B[38;5;21;01mcvxpy\u001B[39;00m \u001B[38;5;28;01mas\u001B[39;00m \u001B[38;5;21;01mcp\u001B[39;00m\n",
      "File \u001B[0;32m~/research/lasa/mujoco_new/crawling_robot/control_interface_real_robot.py:4\u001B[0m\n\u001B[1;32m      1\u001B[0m \u001B[38;5;28;01mimport\u001B[39;00m \u001B[38;5;21;01mcopy\u001B[39;00m\n\u001B[1;32m      3\u001B[0m \u001B[38;5;28;01mimport\u001B[39;00m \u001B[38;5;21;01mnumpy\u001B[39;00m \u001B[38;5;28;01mas\u001B[39;00m \u001B[38;5;21;01mnp\u001B[39;00m\n\u001B[0;32m----> 4\u001B[0m \u001B[38;5;28;01mimport\u001B[39;00m \u001B[38;5;21;01mrclpy\u001B[39;00m\n\u001B[1;32m      5\u001B[0m \u001B[38;5;28;01mfrom\u001B[39;00m \u001B[38;5;21;01mrclpy\u001B[39;00m\u001B[38;5;21;01m.\u001B[39;00m\u001B[38;5;21;01mnode\u001B[39;00m \u001B[38;5;28;01mimport\u001B[39;00m Node\n\u001B[1;32m      7\u001B[0m \u001B[38;5;28;01mfrom\u001B[39;00m \u001B[38;5;21;01msensor_msgs\u001B[39;00m\u001B[38;5;21;01m.\u001B[39;00m\u001B[38;5;21;01mmsg\u001B[39;00m \u001B[38;5;28;01mimport\u001B[39;00m JointState\n",
      "\u001B[0;31mModuleNotFoundError\u001B[0m: No module named 'rclpy'"
     ]
    }
   ],
   "source": [
    "import time\n",
    "\n",
    "import numpy as np\n",
    "# import torch\n",
    "\n",
    "import tools.rotations as rot\n",
    "# import pytorch_kinematics as pk\n",
    "\n",
    "from controller import locomotion\n",
    "from control_interface_real_robot import real_robot\n",
    "import mujoco\n",
    "import cvxpy as cp\n",
    "from control_interface_real_robot import q_sim2real\n",
    "\n",
    "import copy\n",
    "%load_ext autoreload\n",
    "%autoreload 2"
   ],
   "metadata": {
    "collapsed": false,
    "ExecuteTime": {
     "end_time": "2024-07-03T18:13:30.990818784Z",
     "start_time": "2024-07-03T18:13:29.417759467Z"
    }
   }
  },
  {
   "cell_type": "code",
   "execution_count": null,
   "outputs": [],
   "source": [
    "import sys\n",
    "sys.executable"
   ],
   "metadata": {
    "collapsed": false,
    "ExecuteTime": {
     "end_time": "2024-07-03T18:12:41.975751153Z",
     "start_time": "2024-07-03T18:12:41.975499391Z"
    }
   }
  },
  {
   "cell_type": "code",
   "execution_count": null,
   "outputs": [],
   "source": [
    "hand_real = real_robot(control_mode='position', legs=5)"
   ],
   "metadata": {
    "collapsed": false,
    "ExecuteTime": {
     "end_time": "2024-07-03T18:12:41.976594009Z",
     "start_time": "2024-07-03T18:12:41.975795792Z"
    }
   }
  },
  {
   "cell_type": "code",
   "execution_count": null,
   "outputs": [],
   "source": [
    "hand_real.update_data()\n",
    "hand_real.q"
   ],
   "metadata": {
    "collapsed": false,
    "ExecuteTime": {
     "start_time": "2024-07-03T18:12:41.976815270Z"
    }
   }
  },
  {
   "cell_type": "code",
   "execution_count": 2,
   "outputs": [
    {
     "name": "stdout",
     "output_type": "stream",
     "text": [
      "Kinematic model has been loaded from kinematics/q2pose_5.txt\n",
      "locomotion freq 1.0\n"
     ]
    }
   ],
   "source": [
    "# test pytorch kinematics\n",
    "import copy\n",
    "xml_path = 'descriptions/five_finger_hand_ssss.xml'\n",
    "# chain = pk.build_chain_from_mjcf('descriptions/single_finger_ssss.xml', 'finger_1')\n",
    "# print(chain)\n",
    "var_num = 12\n",
    "q0 = np.array([-1.62289571e-04, -3.50667052e-04,  7.98538815e-02,  9.99999738e-01,\n",
    "       -4.46340938e-04,  5.67392530e-04, -4.89152197e-05, \n",
    "               -3.86962861e-05,  7.91144283e-01,  0.3,  0.3, \n",
    "              1,  7.93214611e-01,  0.3,  0.3,  \n",
    "               0.00000000e+00, -1.47079633e+00, -8.00000000e-01, -8.00000000e-01, \n",
    "               -6.26414686e-06,  7.93034999e-01,  0.3,  0.3,\n",
    "               -1.00000000e+00,  7.92384667e-01,  0.3,  0.3])\n",
    "r = locomotion(xml_path, var_num=var_num, q0=q0)\n",
    "\n",
    "print('locomotion freq', r.f)\n",
    "# take a rest to let the acceleration to zero\n",
    "t0 = time.time()\n",
    "q0 = np.copy(r.q)\n",
    "while 1:\n",
    "    # r.step()\n",
    "    # r.send_torque(r.C)\n",
    "    r.joint_computed_torque_control(q0)\n",
    "    if time.time() - t0 > 2:\n",
    "        break\n",
    "xh_local_init = copy.deepcopy(r.xh_local) "
   ],
   "metadata": {
    "collapsed": false,
    "ExecuteTime": {
     "end_time": "2024-07-03T18:13:35.797329764Z",
     "start_time": "2024-07-03T18:13:31.805338409Z"
    }
   }
  },
  {
   "cell_type": "code",
   "execution_count": null,
   "outputs": [],
   "source": [
    "# q_cmd = np.zeros(12)\n",
    "# q_cmd[0] = 0.5\n",
    "# hand_real.move_to_joints(q_cmd)\n",
    "\n",
    "# q_cmd_sim = np.zeros(20)\n",
    "# q_cmd_sim[13] = 0 \n",
    "# q_cmd_sim[17] = 0\n",
    "# r.modify_joint(q_cmd_sim)\n",
    "\n",
    "q_cmd = q_sim2real(q0)\n",
    "\n",
    "hand_real.move_to_joints(q_cmd, sim2real=False)  # move to init pose\n",
    "# hand_real.send_position(q_cmd)\n",
    "# hand_real.move_to_joints_by_vel(q_cmd)\n"
   ],
   "metadata": {
    "collapsed": false
   }
  },
  {
   "cell_type": "code",
   "execution_count": null,
   "outputs": [],
   "source": [
    "# sin traj test\n",
    "t0 = time.time()\n",
    "q_cmd_0  = copy.deepcopy(q_cmd.flatten())\n",
    "f = 1\n",
    "\n",
    "q_record = []\n",
    "q_record_ref = []\n",
    "i = 1\n",
    "while 1:\n",
    "    hand_real.update_data()\n",
    "    q = copy.deepcopy(q_cmd_0)\n",
    "    t = time.time() - t0\n",
    "    q[1] = q_cmd_0[i] + 0.4 * np.sin(2*np.pi*f*t) \n",
    "    dq = 0.4 * np.cos(2*np.pi*f*t) * 2*np.pi*f\n",
    "    hand_real.send_position(q)\n",
    "    q_record_ref.append(np.array([t, q[i], dq]))\n",
    "    q_record.append(np.array([t, hand_real.q[i], hand_real.dq[i]]))\n",
    "    if t >  3 / f:\n",
    "        break\n",
    "    \n",
    "q_record = np.vstack(q_record)\n",
    "q_record_ref = np.vstack(q_record_ref)\n"
   ],
   "metadata": {
    "collapsed": false
   }
  },
  {
   "cell_type": "code",
   "execution_count": null,
   "outputs": [],
   "source": [
    "import matplotlib.pyplot as plt\n",
    "fig_width = 5\n",
    "fig_height = 5\n",
    "fig = plt.figure(figsize=(fig_width, fig_height))\n",
    "\n",
    "ax = fig.add_subplot(211,)\n",
    "\n",
    "\n",
    "line1,  = ax.plot(q_record[:,0], q_record[:,1], c='b',label='Actual')\n",
    "line2,  = ax.plot(q_record_ref[:,0], q_record_ref[:,1], c='r', label='Ref')\n",
    "ax.set_ylabel('q (rad)')\n",
    "\n",
    "ax.legend(handles=[line1, line2], loc='upper right')\n",
    "\n",
    "ax.set_xlabel('t (s)')\n",
    "ax.grid(True)\n",
    "ax.set_xlim([0, np.max(q_record[:,0])])\n",
    "# fig.savefig('data_records/controller_test/vel_0' + str(f)+ ' .png',format='png',bbox_inches='tight', pad_inches=0.0, dpi=300)\n",
    "\n",
    "\n",
    "# ax = fig.add_subplot(212,)\n",
    "# \n",
    "# ax.plot(q_record[:,0], q_record[:,2])\n",
    "# ax.plot(q_record_ref[:,0], q_record_ref[:,2])\n",
    "# \n",
    "# ax.set_ylabel('$\\dot{q}$ (rad/s)')"
   ],
   "metadata": {
    "collapsed": false
   }
  },
  {
   "cell_type": "code",
   "execution_count": null,
   "outputs": [],
   "source": [
    "hand_real.move_to_joints_by_vel(q_cmd)"
   ],
   "metadata": {
    "collapsed": false
   }
  },
  {
   "cell_type": "code",
   "execution_count": null,
   "outputs": [],
   "source": [
    "xy_step"
   ],
   "metadata": {
    "collapsed": false
   }
  },
  {
   "cell_type": "code",
   "execution_count": null,
   "outputs": [],
   "source": [
    "v[:2] * T/2 * 1 "
   ],
   "metadata": {
    "collapsed": false
   }
  },
  {
   "cell_type": "code",
   "execution_count": 4,
   "outputs": [],
   "source": [
    "## gait design for four legs\n",
    " # this is the init position\n",
    "\n",
    "import copy\n",
    "t0 = time.time()\n",
    "r.f = 2\n",
    "T = 1 / r.f\n",
    "v = np.array([0.04, 0.02,0]) \n",
    "# v = np.array([0, -0.02,0])\n",
    "h = 0.03  # z axis lifting height for swing legs\n",
    "r.vel_cmd[:3] = v\n",
    "\n",
    "xy_step = v[:2] * T/2 * 0.5  # based the MIT paper\n",
    "x_cmd = copy.deepcopy(xh_local_init)\n",
    "x_cmd = [a[:3] for a in x_cmd]  # position command for legs\n",
    "q_cmd_list = []\n",
    "t_total = 40 * T\n",
    "\n",
    "k = 0\n",
    "while 1:\n",
    "    \n",
    "    tau_Grf = np.zeros(20)\n",
    "    t_now  = time.time() - t0\n",
    "    t_period = t_now % (1/r.f)  # [0, T]\n",
    "    \n",
    "    if t_period < T/2: # FL and BR, front left and back right legs move during [0, T/2]\n",
    "        swing_legs = [0, 3]\n",
    "        stance_legs = [1, 4]\n",
    "        # swing_legs = [0, 1]\n",
    "        # stance_legs = [3, 4]\n",
    "    else:\n",
    "        swing_legs = [1, 4]\n",
    "        stance_legs = [0, 3]\n",
    "        # swing_legs = [3, 4]\n",
    "        # stance_legs = [0, 1]\n",
    "    \n",
    "    # update vel direction in hand base frame\n",
    "    # xy_step = rot.quat2mat(r.x[3:]).T @ np.array([xy_step[0], xy_step[1], 0])\n",
    "    # xy_step = xy_step[:2]\n",
    "    for i in swing_legs:\n",
    "        t_tmp = t_period % (T/2)\n",
    "        x_cmd[i][:2] = r.bezier(t_tmp, xh_local_init[i][:2] - xy_step, xh_local_init[i][:2] + xy_step)\n",
    "        if t_tmp <= T/4:\n",
    "            x_cmd[i][2] = r.bezier(t_tmp /(T/4), xh_local_init[i][2], xh_local_init[i][2] + h)  # z axis\n",
    "        else:\n",
    "            x_cmd[i][2] = r.bezier((t_tmp - T/4) /(T/4), xh_local_init[i][2] + h, xh_local_init[i][2])\n",
    "    \n",
    "    for i in stance_legs:\n",
    "        t_tmp = t_period % (T/2)\n",
    "        x_cmd[i][:2] = r.bezier(t_tmp /(T/2), xh_local_init[i][:2] + xy_step, xh_local_init[i][:2] - xy_step)\n",
    "        x_cmd[i][2] = xh_local_init[i][2]\n",
    "    \n",
    "    q_desired, tau = r.Cartesian_space_cmd(x_cmd, return_q=True, return_tau=True)  # (20,)\n",
    "    leg_force_opt = r.Grf_ref_opt()\n",
    "    for i in range(4):\n",
    "        leg_index = r.used_fingers[i]\n",
    "        #                (4, 3)                         (3,3)                 (3,)\n",
    "        tau_Grf[leg_index*4:leg_index*4+4] = - r.jac_local[leg_index].T @ rot.quat2mat(r.x[3:]).T @ leg_force_opt[i * 3: i * 3 + 3, 0]  # (4,)\n",
    "    i = 2\n",
    "    tau_Grf = np.zeros(20)\n",
    "    tau = tau + tau_Grf  # (20,)\n",
    "    tau[i*4: i*4+4] =  r.C[i*4: i*4+4] + r.M[i*4:i*4+4, i*4:i*4+4] @ ( 40000 * (q0[i*4:i*4+4] - r.q[i*4:i*4+4]) + 200 * (np.zeros(4) - r.dq[i*4:i*4+4]))\n",
    "    r.send_torque(tau, torque_limit=1)\n",
    "    \n",
    "    # k += 1\n",
    "    # q_cmd = q_sim2real(q_desired)\n",
    "    # q_cmd_list.append(q_cmd)\n",
    "    # hand_real.send_position(q_cmd)\n",
    "\n",
    "    if t_now > t_total:\n",
    "        break\n",
    "    "
   ],
   "metadata": {
    "collapsed": false,
    "ExecuteTime": {
     "end_time": "2024-07-03T18:14:09.959747698Z",
     "start_time": "2024-07-03T18:13:49.937290729Z"
    }
   }
  },
  {
   "cell_type": "code",
   "execution_count": null,
   "outputs": [],
   "source": [
    "q_cmd_list = np.vstack(q_cmd_list)\n",
    "q_cmd_list.shape"
   ],
   "metadata": {
    "collapsed": false
   }
  },
  {
   "cell_type": "code",
   "execution_count": null,
   "outputs": [],
   "source": [],
   "metadata": {
    "collapsed": false
   }
  },
  {
   "cell_type": "code",
   "execution_count": null,
   "outputs": [],
   "source": [
    "hand_real.move_to_joints(q_cmd_list, t=t_total)"
   ],
   "metadata": {
    "collapsed": false
   }
  },
  {
   "cell_type": "code",
   "execution_count": null,
   "outputs": [],
   "source": [
    "q_cmd = q_sim2real(q0)\n",
    "hand_real.move_to_joints(q_cmd, sim2real=False)  # move to init pose"
   ],
   "metadata": {
    "collapsed": false
   }
  },
  {
   "cell_type": "markdown",
   "source": [
    "### qp formulation, \n",
    "$$$\\frac{1}{2} \\boldsymbol{x}^T H \\boldsymbol{x} +  C^T \\boldsymbol{x} \\\\\n",
    "s.t.    A \\boldsymbol{x} = b \\\\\n",
    "lb \\leq \\boldsymbol{x}\\leq ub\n",
    "$$$"
   ],
   "metadata": {
    "collapsed": false
   }
  },
  {
   "cell_type": "code",
   "execution_count": null,
   "outputs": [],
   "source": [
    "hand_real.move_to_joints(r.q,  t=2, sim2real=True)\n",
    "\n"
   ],
   "metadata": {
    "collapsed": false
   }
  },
  {
   "cell_type": "code",
   "execution_count": null,
   "outputs": [],
   "source": [
    "r.q.shape"
   ],
   "metadata": {
    "collapsed": false,
    "pycharm": {
     "name": "#%%\n"
    }
   }
  }
 ],
 "metadata": {
  "kernelspec": {
   "display_name": "Python 3",
   "language": "python",
   "name": "python3"
  },
  "language_info": {
   "codemirror_mode": {
    "name": "ipython",
    "version": 2
   },
   "file_extension": ".py",
   "mimetype": "text/x-python",
   "name": "python",
   "nbconvert_exporter": "python",
   "pygments_lexer": "ipython2",
   "version": "2.7.6"
  }
 },
 "nbformat": 4,
 "nbformat_minor": 0
}
