{
 "cells": [
  {
   "cell_type": "code",
   "execution_count": null,
   "id": "initial_id",
   "metadata": {
    "collapsed": true
   },
   "outputs": [],
   "source": [
    "import time\n",
    "import numpy as np\n",
    "import matplotlib.pyplot as plt\n",
    "# plt.rcParams[\"font.family\"] = \"Times New Roman\"\n",
    "plt.rcParams[\"font.size\"] = \"8\"\n",
    "from matplotlib import rc\n",
    "\n",
    "from control_interface_v2 import real_hand_v2"
   ]
  },
  {
   "cell_type": "markdown",
   "source": [
    "### Joint tracking tests\n",
    "connect all motors and test how the parameters will affect the tracking performance"
   ],
   "metadata": {
    "collapsed": false
   },
   "id": "e7c49c717b39106e"
  },
  {
   "cell_type": "code",
   "execution_count": null,
   "outputs": [],
   "source": [
    "leap_hand = real_hand_v2(path_suffix='../', motor_nums=24)"
   ],
   "metadata": {
    "collapsed": false
   },
   "id": "a6630cbec9e5b04e"
  },
  {
   "cell_type": "code",
   "execution_count": null,
   "outputs": [],
   "source": [
    "q_real = leap_hand.q\n",
    "print(q_real)\n",
    "leap_hand.send_traj(np.zeros(24))"
   ],
   "metadata": {
    "collapsed": false
   },
   "id": "4630b5859f856970"
  },
  {
   "cell_type": "code",
   "execution_count": null,
   "outputs": [],
   "source": [
    "np.array(\n",
    "            [[-1,-1.4,-1.4,-1.4] * 5,\n",
    "             [1,1.4,1.4,1.4] * 5])"
   ],
   "metadata": {
    "collapsed": false
   },
   "id": "ad911941aeccde0b"
  },
  {
   "cell_type": "code",
   "execution_count": null,
   "outputs": [],
   "source": [
    "from scipy import signal\n",
    "f=1\n",
    "signal.sawtooth(2 * np.pi * f * (0 + 1/f/4), 0.5)"
   ],
   "metadata": {
    "collapsed": false
   },
   "id": "4a1af96705f1c2de"
  },
  {
   "cell_type": "code",
   "execution_count": null,
   "outputs": [],
   "source": [],
   "metadata": {
    "collapsed": false
   },
   "id": "428b96ec409ff88"
  },
  {
   "cell_type": "code",
   "execution_count": null,
   "outputs": [],
   "source": [
    "\n",
    "q0 = np.zeros(24)\n",
    "t0 = time.time()\n",
    "ref='sin'\n",
    "# ref='tri'\n",
    "i = 0\n",
    "f = 0.5\n",
    "# a = np.array([0.4, 0.4,0.4,0.4]*5)\n",
    "a = np.array([0.4, 0.4,0.4,0.4])\n",
    "q_records = []\n",
    "while 1:\n",
    "    q_cmd = np.copy(q0)\n",
    "    vel_cmd = np.zeros(24)\n",
    "    acc_cmd = np.zeros(24)\n",
    "    t = time.time() - t0\n",
    "    if ref =='sin':\n",
    "        q_i = a * np.sin(2 * np.pi *f *t)\n",
    "        vel_cmd[:len(a)] = a * np.cos(2 * np.pi *f *t) * 2 * np.pi * f \n",
    "        acc_cmd[:len(a)] =  - a * np.sin(2 * np.pi *f *t) * (2 * np.pi * f )**2\n",
    "    else:\n",
    "        q_i = a * signal.sawtooth(2 * np.pi * f * (t + 1/f/4), 0.5)\n",
    "        q_i = np.clip(q_i, -0.2,0.2)\n",
    "    q_cmd[i: i+len(a)] = q_i\n",
    "    leap_hand.move_to(q_cmd, vel=np.abs(vel_cmd))\n",
    "    # leap_hand.move_to(q_cmd)\n",
    "    q_real = leap_hand.q\n",
    "    # q_records.append(np.array([t, q_i, q_real[i: i+len(a)]]))\n",
    "    q_records.append(np.concatenate([np.array([t]), q_i, q_real[i: i+len(a)], leap_hand.ddq, leap_hand.dq]))\n",
    "    # q_records.append(np.array([t, q_i, 0]))\n",
    "    # time.sleep(0.01)\n",
    "    if t > 5 * 1/f:\n",
    "        break"
   ],
   "metadata": {
    "collapsed": false
   },
   "id": "3ae7a624e596396a"
  },
  {
   "cell_type": "code",
   "execution_count": null,
   "outputs": [],
   "source": [
    "q_records = np.vstack(q_records)\n",
    "fig_width = 90/25.4  * 0.7\n",
    "import matplotlib\n",
    "matplotlib.use('Agg')\n",
    "\n",
    "\n",
    "error = []\n",
    "for i in range(1,  1+ len(a)):\n",
    "    fig, ax = plt.subplots(figsize=(fig_width, fig_width))\n",
    "    ax.plot(q_records[:,0], q_records[:,i], color='r',label='Ref')\n",
    "    ax.plot(q_records[:,0], q_records[:,i+len(a)], color='b',label='Real')\n",
    "    ax.set_xlabel('Time (s)')\n",
    "    ax.set_ylabel('Joint position (rad)')\n",
    "    ax.legend(loc='upper right')\n",
    "    \n",
    "    ax.set_title('Tracking performance test, joint ' + str(i))\n",
    "    fig.savefig(  str(i) + '_joint_test.jpg',format='jpg', bbox_inches='tight',  pad_inches=0.0, dpi=600)\n",
    "    \n",
    "    # print(str(i), 'mean tracking error:',   np.mean(np.abs(q_records[:,i] - q_records[:,i+len(a)]))/a[i-1])\n",
    "    error.append(np.mean(np.abs(q_records[:,i] - q_records[:,i+len(a)]))/a[i-1])\n",
    "print(np.mean(error))"
   ],
   "metadata": {
    "collapsed": false
   },
   "id": "a9c841cd48d16201"
  },
  {
   "cell_type": "code",
   "execution_count": null,
   "outputs": [],
   "source": [
    "q_records.shape"
   ],
   "metadata": {
    "collapsed": false
   },
   "id": "fd17ee1889560825"
  },
  {
   "cell_type": "code",
   "execution_count": null,
   "outputs": [],
   "source": [
    "\n",
    "import numpy as np\n",
    "import matplotlib.pyplot as plt\n",
    "t = np.linspace(0, 5, 500)\n",
    "fig_width = 90/25.4  * 0.7\n",
    "\n",
    "i= 0\n",
    "fig, ax = plt.subplots(figsize=(fig_width, fig_width))\n",
    "ax.plot(q_records[:,0], q_records[:,i+20], color='r',label='Ref')\n",
    "\n",
    "plt.show()"
   ],
   "metadata": {
    "collapsed": false
   },
   "id": "f7b5b7d836b72642"
  },
  {
   "cell_type": "code",
   "execution_count": null,
   "outputs": [],
   "source": [
    "\n",
    "import numpy as np\n",
    "import matplotlib.pyplot as plt\n",
    "t = np.linspace(0, 5, 500)\n",
    "f=0.5\n",
    "triangle = signal.sawtooth(2 * np.pi * f * (t + 1/f /4), 0.5)\n",
    "triangle = np.clip(triangle, -0.5,0.5)\n",
    "plt.plot(t, triangle)\n",
    "plt.show()"
   ],
   "metadata": {
    "collapsed": false
   },
   "id": "a17fe115a0d6a61c"
  },
  {
   "cell_type": "code",
   "execution_count": null,
   "outputs": [],
   "source": [
    "dt = q_records[1:,0] - q_records[:-1,0]\n",
    "\n",
    "fig, ax = plt.subplots(figsize=(fig_width, fig_width))\n",
    "ax.plot(dt, color='r')\n",
    "np.mean(dt)"
   ],
   "metadata": {
    "collapsed": false
   },
   "id": "bc461247f620c831"
  },
  {
   "cell_type": "code",
   "execution_count": null,
   "outputs": [],
   "source": [],
   "metadata": {
    "collapsed": false
   },
   "id": "e89f61d6e4b814d"
  }
 ],
 "metadata": {
  "kernelspec": {
   "display_name": "Python 3",
   "language": "python",
   "name": "python3"
  },
  "language_info": {
   "codemirror_mode": {
    "name": "ipython",
    "version": 2
   },
   "file_extension": ".py",
   "mimetype": "text/x-python",
   "name": "python",
   "nbconvert_exporter": "python",
   "pygments_lexer": "ipython2",
   "version": "2.7.6"
  }
 },
 "nbformat": 4,
 "nbformat_minor": 5
}
