{
 "cells": [
  {
   "cell_type": "code",
   "execution_count": 1,
   "id": "initial_id",
   "metadata": {
    "collapsed": true,
    "ExecuteTime": {
     "end_time": "2024-09-18T15:07:25.808682715Z",
     "start_time": "2024-09-18T15:07:25.513016118Z"
    }
   },
   "outputs": [],
   "source": [
    "import control_utils.dynamixel_controller_pkg.dynamixel_controller as dc\n",
    "import control_utils.dynamixel_controller_pkg.dynamixel_models as dm\n",
    "import time\n",
    "import numpy as np\n",
    "import matplotlib.pyplot as plt\n",
    "# plt.rcParams[\"font.family\"] = \"Times New Roman\"\n",
    "plt.rcParams[\"font.size\"] = \"8\"\n",
    "from scipy import signal"
   ]
  },
  {
   "cell_type": "code",
   "execution_count": 2,
   "outputs": [],
   "source": [
    "nums = 24\n",
    "motors= [dm.XM430W210(i) for i in range(nums)]\n",
    "\n",
    "h = dc.DynamixelController(\"/dev/ttyUSB0\", motors)\n",
    "\n",
    "h.activate_controller()\n",
    "\n",
    "h.torque_off()\n",
    "\n",
    "# dynamixel_controller.set_operating_mode_all(\"position_control\")\n",
    "h.set_operating_mode_all(\"current_based_position_control\")\n",
    "# h.set_operating_mode_all(\"position_control\")\n",
    "\n",
    "h.torque_on()\n",
    "q0 = np.zeros(nums)\n",
    "q1 = np.ones(nums) * 0.5\n"
   ],
   "metadata": {
    "collapsed": false,
    "ExecuteTime": {
     "end_time": "2024-09-18T15:07:25.851354101Z",
     "start_time": "2024-09-18T15:07:25.808752499Z"
    }
   },
   "id": "93838777a80f653c"
  },
  {
   "cell_type": "code",
   "execution_count": 3,
   "outputs": [
    {
     "data": {
      "text/plain": "0"
     },
     "execution_count": 3,
     "metadata": {},
     "output_type": "execute_result"
    }
   ],
   "source": [
    "h.set_position_p_gain([1500]*nums)\n",
    "h.set_position_d_gain([2000]*nums)\n",
    "# h.set_profile_velocity_rad([1, 1,1,1]*6)\n",
    "h.set_goal_position_rad(q0)\n",
    "\n",
    "current_limit = np.round(500 * np.ones(nums)).astype(int)\n",
    "h.set_goal_current(current_limit)\n",
    "\n",
    "h.set_return_delay_time(np.zeros(nums))"
   ],
   "metadata": {
    "collapsed": false,
    "ExecuteTime": {
     "end_time": "2024-09-18T15:07:25.933480583Z",
     "start_time": "2024-09-18T15:07:25.933205968Z"
    }
   },
   "id": "c96efa4312004354"
  },
  {
   "cell_type": "code",
   "execution_count": 3,
   "outputs": [],
   "source": [],
   "metadata": {
    "collapsed": false,
    "ExecuteTime": {
     "end_time": "2024-09-18T14:55:52.859520066Z",
     "start_time": "2024-09-18T14:55:52.841125763Z"
    }
   },
   "id": "fbc933f6ca66250"
  },
  {
   "cell_type": "code",
   "execution_count": 3,
   "outputs": [],
   "source": [],
   "metadata": {
    "collapsed": false,
    "ExecuteTime": {
     "end_time": "2024-09-18T14:55:52.885687784Z",
     "start_time": "2024-09-18T14:55:52.844682580Z"
    }
   },
   "id": "cc4431aadcd6e23a"
  },
  {
   "cell_type": "code",
   "execution_count": 4,
   "outputs": [
    {
     "data": {
      "text/plain": "0"
     },
     "execution_count": 4,
     "metadata": {},
     "output_type": "execute_result"
    }
   ],
   "source": [
    "q1 = np.zeros(nums)\n",
    "q1[0] = 0.5\n",
    "h.set_goal_position_rad(q1)"
   ],
   "metadata": {
    "collapsed": false,
    "ExecuteTime": {
     "end_time": "2024-09-18T14:55:52.885845725Z",
     "start_time": "2024-09-18T14:55:52.885067550Z"
    }
   },
   "id": "e97184952dd0a1ea"
  },
  {
   "cell_type": "code",
   "execution_count": 4,
   "outputs": [
    {
     "data": {
      "text/plain": "array([ 0.00306797, -0.00920392, -0.00766994, -0.00613595,  0.00920392,\n       -0.00920392, -0.01073791, -0.00613595,  0.00460196,  0.0122719 ,\n        0.00613595,  0.00613595,  0.00766994,  0.01073791,  0.00920392,\n        0.00460196,  0.        ,  0.01073791,  0.00766994,  0.00153399,\n       -0.00766994,  0.00613595, -0.00613595, -0.00460196])"
     },
     "execution_count": 4,
     "metadata": {},
     "output_type": "execute_result"
    }
   ],
   "source": [
    "h.read_info_with_unit(fast_read=True,retry=False)[0]  # position_list, velocity_list, current_list, pwm_list"
   ],
   "metadata": {
    "collapsed": false,
    "ExecuteTime": {
     "end_time": "2024-09-18T15:07:35.685664157Z",
     "start_time": "2024-09-18T15:07:35.680005665Z"
    }
   },
   "id": "7d8af25cc5d1e706"
  },
  {
   "cell_type": "code",
   "execution_count": 5,
   "outputs": [],
   "source": [
    "\n",
    "q0 = np.zeros(nums)\n",
    "t0 = time.time()\n",
    "ref='sin'\n",
    "# ref='tri'\n",
    "i = 0\n",
    "f = 0.5\n",
    "# a = np.array([0.4, 0.4,0.4,0.4]*5)\n",
    "a = np.array([0.4, 0.4,0.4,0.4])\n",
    "q_records = []\n",
    "while 1:\n",
    "    q_cmd = np.copy(q0)\n",
    "    vel_cmd = np.zeros(nums)\n",
    "    acc_cmd = np.zeros(nums)\n",
    "    t = time.time() - t0\n",
    "    if ref =='sin':\n",
    "        q_i = a * np.sin(2 * np.pi *f *t)\n",
    "        vel_cmd[:len(a)] = a * np.cos(2 * np.pi *f *t) * 2 * np.pi * f \n",
    "        acc_cmd[:len(a)] =  - a * np.sin(2 * np.pi *f *t) * (2 * np.pi * f )**2\n",
    "    else:\n",
    "        q_i = a * signal.sawtooth(2 * np.pi * f * (t + 1/f/4), 0.5)\n",
    "        q_i = np.clip(q_i, -0.2,0.2)\n",
    "    q_cmd[i: i+len(a)] = q_i\n",
    "    # h.set_profile_velocity_rad(np.abs(vel_cmd) * 1 )\n",
    "    # h.set_profile_acceleration(acc_cmd)\n",
    "    h.set_goal_position_rad(q_cmd)\n",
    "    # leap_hand.move_to(q_cmd)\n",
    "    q_real, _, q_cur,_ = h.read_info_with_unit(fast_read=True,retry=False)\n",
    "    # # q_records.append(np.array([t, q_i, q_real[i: i+len(a)]]))\n",
    "    q_records.append(np.concatenate([np.array([t]), q_i, q_real[i: i+len(a)], q_cur[i: i+len(a)]]))\n",
    "    # q_records.append(np.array([t, q_i, 0]))\n",
    "    # q_records.append(t)\n",
    "    # time.sleep(0.01)\n",
    "    if t > 5 * 1/f:\n",
    "        break\n",
    "q_records = np.vstack(q_records)"
   ],
   "metadata": {
    "collapsed": false,
    "ExecuteTime": {
     "end_time": "2024-09-18T15:07:48.967701983Z",
     "start_time": "2024-09-18T15:07:38.946751569Z"
    }
   },
   "id": "c999a7826813f553"
  },
  {
   "cell_type": "code",
   "execution_count": 6,
   "outputs": [
    {
     "name": "stdout",
     "output_type": "stream",
     "text": [
      "1 mean tracking error: 0.03130550935739846\n",
      "2 mean tracking error: 0.04266053626842422\n",
      "3 mean tracking error: 0.02991479327775417\n",
      "4 mean tracking error: 0.024992947219387166\n",
      "0.032218446530741005\n"
     ]
    }
   ],
   "source": [
    "\n",
    "fig_width = 90/25.4  * 0.7\n",
    "import matplotlib\n",
    "matplotlib.use('Agg')\n",
    "\n",
    "\n",
    "error = []\n",
    "for i in range(1,  1+ len(a)):\n",
    "    fig, ax = plt.subplots(figsize=(fig_width, fig_width))\n",
    "    ax.plot(q_records[:,0], q_records[:,i], color='r',label='Ref')\n",
    "    ax.plot(q_records[:,0], q_records[:,i+len(a)], color='b',label='Real')\n",
    "    ax.set_xlabel('Time (s)')\n",
    "    ax.set_ylabel('Joint position (rad)')\n",
    "    ax.legend(loc='upper right')\n",
    "    \n",
    "    ax.set_title('Tracking performance test, joint ' + str(i))\n",
    "    fig.savefig(  str(i) + '_joint_test.jpg',format='jpg', bbox_inches='tight',  pad_inches=0.0, dpi=600)\n",
    "    \n",
    "    print(str(i), 'mean tracking error:',   np.mean(np.abs(q_records[:,i] - q_records[:,i+len(a)]))/a[i-1])\n",
    "    error.append(np.mean(np.abs(q_records[:,i] - q_records[:,i+len(a)]))/a[i-1])\n",
    "print(np.mean(error))"
   ],
   "metadata": {
    "collapsed": false,
    "ExecuteTime": {
     "end_time": "2024-09-18T15:07:51.540009636Z",
     "start_time": "2024-09-18T15:07:51.230103995Z"
    }
   },
   "id": "b1718262e5a238b"
  },
  {
   "cell_type": "code",
   "execution_count": 7,
   "outputs": [
    {
     "data": {
      "text/plain": "0.01033803943760139"
     },
     "execution_count": 7,
     "metadata": {},
     "output_type": "execute_result"
    }
   ],
   "source": [
    "dt = q_records[1:,0] - q_records[:-1,0]\n",
    "\n",
    "fig, ax = plt.subplots(figsize=(fig_width, fig_width))\n",
    "ax.plot(dt, color='r')\n",
    "np.mean(dt)"
   ],
   "metadata": {
    "collapsed": false,
    "ExecuteTime": {
     "end_time": "2024-09-18T15:07:54.388668347Z",
     "start_time": "2024-09-18T15:07:54.378736908Z"
    }
   },
   "id": "3cf5c2846b1620a7"
  },
  {
   "cell_type": "code",
   "execution_count": 9,
   "outputs": [
    {
     "name": "stdout",
     "output_type": "stream",
     "text": [
      "62.89400963606715\n",
      "99.15201214691012\n",
      "53.95446082170339\n",
      "36.89820643476676\n"
     ]
    }
   ],
   "source": [
    "for i in range(4):\n",
    "    print(np.std(np.abs(q_records[:, 1+ 2*len(a) + i])))\n",
    "#     38.163911290429496\n",
    "# 65.3932184500453\n",
    "# 39.77045753633975\n",
    "# 30.2007272325899"
   ],
   "metadata": {
    "collapsed": false,
    "ExecuteTime": {
     "end_time": "2024-09-18T14:56:03.207690713Z",
     "start_time": "2024-09-18T14:56:03.160311113Z"
    }
   },
   "id": "8fd722a0d25d419b"
  }
 ],
 "metadata": {
  "kernelspec": {
   "display_name": "Python 3",
   "language": "python",
   "name": "python3"
  },
  "language_info": {
   "codemirror_mode": {
    "name": "ipython",
    "version": 2
   },
   "file_extension": ".py",
   "mimetype": "text/x-python",
   "name": "python",
   "nbconvert_exporter": "python",
   "pygments_lexer": "ipython2",
   "version": "2.7.6"
  }
 },
 "nbformat": 4,
 "nbformat_minor": 5
}
